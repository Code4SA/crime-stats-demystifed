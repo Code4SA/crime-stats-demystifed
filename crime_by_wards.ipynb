{
 "cells": [
  {
   "cell_type": "markdown",
   "metadata": {},
   "source": [
    "Analysis based on wards"
   ]
  },
  {
   "cell_type": "code",
   "execution_count": 1,
   "metadata": {
    "collapsed": true
   },
   "outputs": [],
   "source": [
    "from random import shuffle, randint\n",
    "import numpy as np\n",
    "import matplotlib.pyplot as plt\n",
    "from matplotlib.collections import PatchCollection\n",
    "from mpl_toolkits.basemap import Basemap\n",
    "from shapely.geometry import Polygon, Point, MultiPoint, MultiPolygon, LineString, mapping, shape\n",
    "from descartes import PolygonPatch\n",
    "import random\n",
    "import fiona\n",
    "import numpy as np\n",
    "import csv\n",
    "from fiona import collection\n",
    "\n",
    "import geopandas as gpd\n",
    "from geopandas.tools import sjoin # rtree index in-build, used with inner, intersection\n",
    "import pandas as pd\n",
    "\n",
    "from collections import defaultdict"
   ]
  },
  {
   "cell_type": "code",
   "execution_count": 9,
   "metadata": {
    "collapsed": true
   },
   "outputs": [],
   "source": [
    "def find_intersections(o):\n",
    "    \n",
    "    from collections import defaultdict\n",
    "\n",
    "    paired_ind = [o.index_PP, o.index_WARD]\n",
    "\n",
    "    d_over_ind = defaultdict(list)\n",
    "\n",
    "    # creating a dictionary that has prescints as keys and associated small areas as values\n",
    "    for i in range(len(paired_ind[0].values)):\n",
    "        if not paired_ind[0].values[i]==paired_ind[1].values[i]: # it shows itself as intersection\n",
    "            d_over_ind[paired_ind[0].values[i]].append(paired_ind[1].values[i])\n",
    "\n",
    "    # get rid of the pol precincts with no small areas associated to them- not the most efficient way\n",
    "    d_temp = {}\n",
    "    for l in d_over_ind:\n",
    "        if len(d_over_ind[l]):\n",
    "            d_temp[l] = d_over_ind[l]\n",
    "\n",
    "    return d_temp\n",
    "      \n",
    "def calculate_join_indices(g1_reind, g2_reind):\n",
    "       \n",
    "        # the indexing:\n",
    "        out = sjoin(g1_reind, g2_reind, how =\"inner\", op = \"intersects\")\n",
    "        \n",
    "        out.drop('index_right', axis=1, inplace=True) # one index doubles, so we drop one\n",
    "      \n",
    "        # output retains only 1 area (left or right join), and gives no intersection area.\n",
    "        # so we create an array with paired indices: police precincts with a ward\n",
    "        # we use it in a loop in a function below\n",
    "        dict_over_ind = find_intersections(out) \n",
    "        \n",
    "        return dict_over_ind\n",
    "    "
   ]
  },
  {
   "cell_type": "code",
   "execution_count": 91,
   "metadata": {
    "collapsed": false
   },
   "outputs": [],
   "source": [
    "def calculate_join(dict_over_ind, g1_reind, g2_reind):\n",
    "        data_aggreg = []\n",
    "\n",
    "        for index1, crim in g1_reind.iterrows():\n",
    "            try:\n",
    "                index1 = crim.index_PP\n",
    "                \n",
    "                wards_found = dict_over_ind[index1]\n",
    "                for ward in range(len(wards_found)):\n",
    "                    pom = g2_reind[g2_reind.index_WARD == wards_found[ward]]['geometry']        \n",
    "\n",
    "                    area_int = pom.intersection(crim['geometry']).area.values[0]\n",
    "                    area_crim = crim['geometry'].area\n",
    "\n",
    "                    area_ward = pom.values[0].area\n",
    "\n",
    "                    popu_ward = g2_reind[g2_reind.index_WARD == wards_found[ward]]['WARD_POP'].values[0]\n",
    "                    murd_count = crim['murd_cnt']\n",
    "                    pp_province = crim['province']\n",
    "                    popu_frac = (area_int / area_ward) * popu_ward# fraction of the pop area contained inside the crim\n",
    "                    \n",
    "                    extra_info_col_names = ['MUNICNAME', 'PROVINCE', 'WARD_ID']\n",
    "                        \n",
    "                    extra_cols = g2_reind[g2_reind.index_WARD == wards_found[ward]][extra_info_col_names]#.filter(regex=(\"NAME\"))\n",
    "\n",
    "                    data_aggreg.append({'geometry': pom.intersection(crim['geometry']).values[0],\\\n",
    "                                        'id1': index1,'id2': wards_found[ward] ,'area_pp': area_crim,\\\n",
    "                                        'area_ward': area_ward,'area_inter': area_int,\\\n",
    "                                        'popu_inter' : popu_frac, 'popu_ward': popu_ward,\\\n",
    "                                        'murd_cnt': murd_count,'province': pp_province,\\\n",
    "                                        'MUNICNAME': extra_cols.MUNICNAME.values[0],\\\n",
    "                                        'PROVINCE': extra_cols.PROVINCE.values[0],\\\n",
    "                                        'WARD_ID': extra_cols.WARD_ID.values[0]} )\n",
    "            except:\n",
    "                pass\n",
    "            \n",
    "        df_t = gpd.GeoDataFrame(data_aggreg,columns=['geometry', 'id1','id2','area_pp',\\\n",
    "                                                     'area_ward','area_inter', 'popu_inter',\\\n",
    "                                                     'popu_ward', 'murd_cnt','province',\\\n",
    "                                                     'MUNICNAME','PROVINCE','WARD_ID'])\n",
    "        #df_t.to_file(out_name)\n",
    "        return df_t"
   ]
  },
  {
   "cell_type": "code",
   "execution_count": 141,
   "metadata": {
    "collapsed": true
   },
   "outputs": [],
   "source": [
    "# this function adds the remaining columns, calculates fractions etc\n",
    "def compute_final_col(df):\n",
    "    # add population data per PP, ratio, etc to the main table\n",
    "    df_temp = df.rename(columns={'id1':'index_PP','id2':'index_WARD'})\n",
    "    temp = df_temp.groupby(by=['index_PP'])['popu_inter'].sum().reset_index()\n",
    "\n",
    "    data_with_population = pd.merge(df_temp, temp, on='index_PP', how='outer')\\\n",
    "            .rename(columns={'popu_inter_y':'popu_frac_per_pp', 'popu_inter_x':'popu_inter'})\n",
    "\n",
    "\n",
    "    data_with_population['murd_per_int'] = data_with_population['popu_inter']/data_with_population['popu_frac_per_pp']\\\n",
    "               * data_with_population['murd_cnt']\n",
    "    data_mur_per_int = data_with_population.groupby(by=['index_WARD'])['murd_per_int'].sum().reset_index()\n",
    "\n",
    "    data_mur_per_sal = data_mur_per_int.rename(columns={'murd_per_int':'murd_per_ward'})\n",
    "\n",
    "    data_with_population['scal_fac_per_int'] = data_with_population['popu_inter']/data_with_population['popu_frac_per_pp']\\\n",
    "\n",
    "    data_complete = pd.merge(data_with_population, data_mur_per_sal, on='index_WARD', how='outer')\n",
    "           \n",
    "    return data_complete"
   ]
  },
  {
   "cell_type": "markdown",
   "metadata": {},
   "source": [
    "LOAD the data"
   ]
  },
  {
   "cell_type": "code",
   "execution_count": 13,
   "metadata": {
    "collapsed": false
   },
   "outputs": [],
   "source": [
    "ppSHP = 'shapefiles/updated/polPrec_murd2015_prov_aea.shp'\n",
    "warSHP = '../maps/data/Wards2011_aea.shp'\n",
    "\n",
    "geo_ward = gpd.GeoDataFrame.from_file(warSHP)\n",
    "geo_pp = gpd.GeoDataFrame.from_file(ppSHP)\n",
    "\n",
    "geo_pp_reind = geo_pp.reset_index().rename(columns={'index':'index_PP'})\n",
    "geo_ward_reind = geo_ward.iloc[:,[2,3,7,8,9]].reset_index().rename(columns={'index':'index_WARD'})\n",
    "    \n",
    "dict_int = calculate_join_indices(geo_pp_reind,geo_ward_reind)"
   ]
  },
  {
   "cell_type": "code",
   "execution_count": 140,
   "metadata": {
    "collapsed": false
   },
   "outputs": [
    {
     "data": {
      "text/plain": [
       "4277"
      ]
     },
     "execution_count": 140,
     "metadata": {},
     "output_type": "execute_result"
    }
   ],
   "source": [
    "len(geo_ward)"
   ]
  },
  {
   "cell_type": "code",
   "execution_count": 92,
   "metadata": {
    "collapsed": false
   },
   "outputs": [
    {
     "name": "stdout",
     "output_type": "stream",
     "text": [
      "time:  190.293196292012\n"
     ]
    }
   ],
   "source": [
    "from timeit import default_timer as timer\n",
    "\n",
    "start = timer() \n",
    "df_int = calculate_join(dict_int ,geo_pp_reind, geo_ward_reind)\n",
    "end = timer()\n",
    "print(\"time: \", end - start)  "
   ]
  },
  {
   "cell_type": "code",
   "execution_count": 142,
   "metadata": {
    "collapsed": false
   },
   "outputs": [
    {
     "data": {
      "text/html": [
       "<div>\n",
       "<table border=\"1\" class=\"dataframe\">\n",
       "  <thead>\n",
       "    <tr style=\"text-align: right;\">\n",
       "      <th></th>\n",
       "      <th>geometry</th>\n",
       "      <th>index_PP</th>\n",
       "      <th>index_WARD</th>\n",
       "      <th>area_pp</th>\n",
       "      <th>area_ward</th>\n",
       "      <th>area_inter</th>\n",
       "      <th>popu_inter</th>\n",
       "      <th>popu_ward</th>\n",
       "      <th>murd_cnt</th>\n",
       "      <th>province</th>\n",
       "      <th>MUNICNAME</th>\n",
       "      <th>PROVINCE</th>\n",
       "      <th>WARD_ID</th>\n",
       "      <th>popu_frac_per_pp</th>\n",
       "      <th>murd_per_int</th>\n",
       "      <th>scal_fac_per_int</th>\n",
       "      <th>murd_per_ward</th>\n",
       "    </tr>\n",
       "  </thead>\n",
       "  <tbody>\n",
       "    <tr>\n",
       "      <th>0</th>\n",
       "      <td>POLYGON ((174410.1256216596 -3347008.790421369...</td>\n",
       "      <td>0</td>\n",
       "      <td>1709</td>\n",
       "      <td>5.539637e+07</td>\n",
       "      <td>17799617.055663</td>\n",
       "      <td>2384089.253057</td>\n",
       "      <td>1127.912782</td>\n",
       "      <td>8421</td>\n",
       "      <td>25</td>\n",
       "      <td>Free State</td>\n",
       "      <td>Mangaung Metropolitan Municipality</td>\n",
       "      <td>Free State</td>\n",
       "      <td>49400028</td>\n",
       "      <td>38323.760000</td>\n",
       "      <td>0.735779</td>\n",
       "      <td>0.029431</td>\n",
       "      <td>5.588438</td>\n",
       "    </tr>\n",
       "    <tr>\n",
       "      <th>1</th>\n",
       "      <td>POLYGON ((174407.3500422863 -3347161.563272926...</td>\n",
       "      <td>26</td>\n",
       "      <td>1709</td>\n",
       "      <td>2.809204e+08</td>\n",
       "      <td>17799617.055663</td>\n",
       "      <td>15320373.488126</td>\n",
       "      <td>7248.069705</td>\n",
       "      <td>8421</td>\n",
       "      <td>28</td>\n",
       "      <td>Free State</td>\n",
       "      <td>Mangaung Metropolitan Municipality</td>\n",
       "      <td>Free State</td>\n",
       "      <td>49400028</td>\n",
       "      <td>41997.394678</td>\n",
       "      <td>4.832346</td>\n",
       "      <td>0.172584</td>\n",
       "      <td>5.588438</td>\n",
       "    </tr>\n",
       "  </tbody>\n",
       "</table>\n",
       "</div>"
      ],
      "text/plain": [
       "                                            geometry  index_PP  index_WARD  \\\n",
       "0  POLYGON ((174410.1256216596 -3347008.790421369...         0        1709   \n",
       "1  POLYGON ((174407.3500422863 -3347161.563272926...        26        1709   \n",
       "\n",
       "        area_pp        area_ward       area_inter   popu_inter  popu_ward  \\\n",
       "0  5.539637e+07  17799617.055663   2384089.253057  1127.912782       8421   \n",
       "1  2.809204e+08  17799617.055663  15320373.488126  7248.069705       8421   \n",
       "\n",
       "   murd_cnt    province                           MUNICNAME    PROVINCE  \\\n",
       "0        25  Free State  Mangaung Metropolitan Municipality  Free State   \n",
       "1        28  Free State  Mangaung Metropolitan Municipality  Free State   \n",
       "\n",
       "    WARD_ID  popu_frac_per_pp  murd_per_int  scal_fac_per_int  murd_per_ward  \n",
       "0  49400028      38323.760000      0.735779          0.029431       5.588438  \n",
       "1  49400028      41997.394678      4.832346          0.172584       5.588438  "
      ]
     },
     "execution_count": 142,
     "metadata": {},
     "output_type": "execute_result"
    }
   ],
   "source": [
    "# There are 101,546 intersections \n",
    "df_int_aea = compute_final_col(df_int) # add final calculations\n",
    "df_int_aea.head(n=2)"
   ]
  },
  {
   "cell_type": "code",
   "execution_count": 133,
   "metadata": {
    "collapsed": false
   },
   "outputs": [],
   "source": [
    "df_int_aea_waz = df_int_aea.iloc[:,[12,11,10,6,15,14]].sort('WARD_ID').reset_index().drop('index', axis=1)"
   ]
  },
  {
   "cell_type": "code",
   "execution_count": 136,
   "metadata": {
    "collapsed": false
   },
   "outputs": [],
   "source": [
    "df_int_aea_waz.to_csv('data/wards_pp_intersections.csv')"
   ]
  },
  {
   "cell_type": "code",
   "execution_count": 143,
   "metadata": {
    "collapsed": false
   },
   "outputs": [
    {
     "data": {
      "text/html": [
       "<div>\n",
       "<table border=\"1\" class=\"dataframe\">\n",
       "  <thead>\n",
       "    <tr style=\"text-align: right;\">\n",
       "      <th></th>\n",
       "      <th>WARD_ID</th>\n",
       "      <th>PROVINCE</th>\n",
       "      <th>MUNICNAME</th>\n",
       "      <th>popu_inter</th>\n",
       "      <th>scal_fac_per_int</th>\n",
       "      <th>murd_per_int</th>\n",
       "    </tr>\n",
       "  </thead>\n",
       "  <tbody>\n",
       "    <tr>\n",
       "      <th>0</th>\n",
       "      <td>10101001</td>\n",
       "      <td>Western Cape</td>\n",
       "      <td>Matzikama Local Municipality</td>\n",
       "      <td>1128.749984</td>\n",
       "      <td>0.124777</td>\n",
       "      <td>0.998215</td>\n",
       "    </tr>\n",
       "    <tr>\n",
       "      <th>1</th>\n",
       "      <td>10101001</td>\n",
       "      <td>Western Cape</td>\n",
       "      <td>Matzikama Local Municipality</td>\n",
       "      <td>2068.250016</td>\n",
       "      <td>0.635251</td>\n",
       "      <td>7.623011</td>\n",
       "    </tr>\n",
       "    <tr>\n",
       "      <th>2</th>\n",
       "      <td>10101002</td>\n",
       "      <td>Western Cape</td>\n",
       "      <td>Matzikama Local Municipality</td>\n",
       "      <td>2047.856952</td>\n",
       "      <td>0.622851</td>\n",
       "      <td>1.245702</td>\n",
       "    </tr>\n",
       "    <tr>\n",
       "      <th>3</th>\n",
       "      <td>10101002</td>\n",
       "      <td>Western Cape</td>\n",
       "      <td>Matzikama Local Municipality</td>\n",
       "      <td>476.251099</td>\n",
       "      <td>0.146278</td>\n",
       "      <td>1.755333</td>\n",
       "    </tr>\n",
       "    <tr>\n",
       "      <th>4</th>\n",
       "      <td>10101002</td>\n",
       "      <td>Western Cape</td>\n",
       "      <td>Matzikama Local Municipality</td>\n",
       "      <td>725.543920</td>\n",
       "      <td>0.080205</td>\n",
       "      <td>0.641638</td>\n",
       "    </tr>\n",
       "  </tbody>\n",
       "</table>\n",
       "</div>"
      ],
      "text/plain": [
       "    WARD_ID      PROVINCE                     MUNICNAME   popu_inter  \\\n",
       "0  10101001  Western Cape  Matzikama Local Municipality  1128.749984   \n",
       "1  10101001  Western Cape  Matzikama Local Municipality  2068.250016   \n",
       "2  10101002  Western Cape  Matzikama Local Municipality  2047.856952   \n",
       "3  10101002  Western Cape  Matzikama Local Municipality   476.251099   \n",
       "4  10101002  Western Cape  Matzikama Local Municipality   725.543920   \n",
       "\n",
       "   scal_fac_per_int  murd_per_int  \n",
       "0          0.124777      0.998215  \n",
       "1          0.635251      7.623011  \n",
       "2          0.622851      1.245702  \n",
       "3          0.146278      1.755333  \n",
       "4          0.080205      0.641638  "
      ]
     },
     "execution_count": 143,
     "metadata": {},
     "output_type": "execute_result"
    }
   ],
   "source": [
    "df_int_aea_waz.head()"
   ]
  },
  {
   "cell_type": "markdown",
   "metadata": {},
   "source": [
    "Check whether the sums over provinces add up to the official/initial numbers:"
   ]
  },
  {
   "cell_type": "code",
   "execution_count": 96,
   "metadata": {
    "collapsed": false
   },
   "outputs": [
    {
     "data": {
      "text/plain": [
       "province\n",
       "0                   0\n",
       "Eastern Cape     3051\n",
       "Free State        943\n",
       "Gauteng          3671\n",
       "Kwazulu/Natal    3759\n",
       "Limpopo           777\n",
       "Mpumalanga        831\n",
       "North West        853\n",
       "Northern Cape     411\n",
       "Western Cape     3186\n",
       "Name: murd_est_per_int, dtype: float64"
      ]
     },
     "execution_count": 96,
     "metadata": {},
     "output_type": "execute_result"
    }
   ],
   "source": [
    "df_int_aea.head()\n",
    "data_prov = df_int_aea[['PROVINCE','province','murd_est_per_int']]\n",
    "data_prov.groupby('province')['murd_est_per_int'].sum()"
   ]
  },
  {
   "cell_type": "code",
   "execution_count": null,
   "metadata": {
    "collapsed": true
   },
   "outputs": [],
   "source": []
  }
 ],
 "metadata": {
  "kernelspec": {
   "display_name": "Python 3",
   "language": "python",
   "name": "python3"
  },
  "language_info": {
   "codemirror_mode": {
    "name": "ipython",
    "version": 3
   },
   "file_extension": ".py",
   "mimetype": "text/x-python",
   "name": "python",
   "nbconvert_exporter": "python",
   "pygments_lexer": "ipython3",
   "version": "3.4.3"
  }
 },
 "nbformat": 4,
 "nbformat_minor": 0
}
