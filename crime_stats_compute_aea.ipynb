{
 "cells": [
  {
   "cell_type": "markdown",
   "metadata": {
    "collapsed": false
   },
   "source": [
    "### Notation:\n",
    "- SAL- small area\n",
    "- PP- police precinct\n",
    "- AEA- Albers Equal Area Conic"
   ]
  },
  {
   "cell_type": "code",
   "execution_count": 1,
   "metadata": {
    "collapsed": true
   },
   "outputs": [],
   "source": [
    "from random import shuffle, randint\n",
    "import numpy as np\n",
    "import matplotlib.pyplot as plt\n",
    "from matplotlib.collections import PatchCollection\n",
    "from mpl_toolkits.basemap import Basemap\n",
    "from shapely.geometry import Polygon, Point, MultiPoint, MultiPolygon, LineString, mapping, shape\n",
    "from descartes import PolygonPatch\n",
    "import random\n",
    "import fiona\n",
    "import numpy as np\n",
    "import csv\n",
    "from fiona import collection\n",
    "\n",
    "import geopandas as gpd\n",
    "from geopandas.tools import sjoin # rtree index in-build, used with inner, intersection\n",
    "import pandas as pd\n",
    "\n",
    "from collections import defaultdict\n"
   ]
  },
  {
   "cell_type": "markdown",
   "metadata": {},
   "source": [
    "def sjoin(left_df, right_df, how='inner', op='intersects',\n",
    "          lsuffix='left', rsuffix='right', **kwargs):\n",
    "    \"\"\"Spatial join of two GeoDataFrames.\n",
    "    left_df, right_df are GeoDataFrames\n",
    "    how: type of join\n",
    "        left -> use keys from left_df; retain only left_df geometry column\n",
    "        right -> use keys from right_df; retain only right_df geometry column\n",
    "        inner -> use intersection of keys from both dfs;\n",
    "                 retain only left_df geometry column\n",
    "    op: binary predicate {'intersects', 'contains', 'within'}\n",
    "        see http://toblerity.org/shapely/manual.html#binary-predicates\n",
    "    lsuffix: suffix to apply to overlapping column names (left GeoDataFrame)\n",
    "    rsuffix: suffix to apply to overlapping column names (right GeoDataFrame)\n",
    "    \"\"\"\n"
   ]
  },
  {
   "cell_type": "code",
   "execution_count": 2,
   "metadata": {
    "collapsed": false
   },
   "outputs": [],
   "source": [
    "def find_intersections(o):\n",
    "    \n",
    "    from collections import defaultdict\n",
    "\n",
    "    paired_ind = [o.pp_index, o.sal_index]\n",
    "\n",
    "    d_over_ind = defaultdict(list)\n",
    "\n",
    "    # creating a dictionary that has prescints as keys and associated small areas as values\n",
    "    for i in range(len(paired_ind[0].values)):\n",
    "        if not paired_ind[0].values[i]==paired_ind[1].values[i]: # it shows itself as intersection\n",
    "            d_over_ind[paired_ind[0].values[i]].append(paired_ind[1].values[i])\n",
    "\n",
    "    # get rid of the pol precincts with no small areas associated to them- not the most efficient way\n",
    "    d_temp = {}\n",
    "    for l in d_over_ind:\n",
    "        if len(d_over_ind[l]):\n",
    "            d_temp[l] = d_over_ind[l]\n",
    "\n",
    "    return d_temp\n",
    "    \n",
    "    \n",
    "def calculate_join_indices(g1_reind, g2_reind):\n",
    "\n",
    "        # A: region of the police data with criminal record\n",
    "        # C: small area with population data\n",
    "        # we look for all small areas intersecting a given C_i, calculate the fraction of inclusion, scale the\n",
    "        # population accordingly: area(A_j, where A_j crosses C_i)/area(A_j)* popul(A_j)\n",
    "        \n",
    "    \n",
    "        # the actual indexing:\n",
    "        out = sjoin(g1_reind, g2_reind, how =\"inner\", op = \"intersects\")\n",
    "        \n",
    "        out.drop('index_right', axis=1, inplace=True) # there is a double index fo smal areas, so we drop one\n",
    "        #out_sorted = out.sort(columns='polPrecincts_index', ascending=True) # guess sorting is not necessary, cause we are\n",
    "        # using doctionaries at later stages\n",
    "        #dict_over_ind = find_intersections(out_sorted)\n",
    "\n",
    "        # output retains only 1 area (left or right join), and gives no intersection area.\n",
    "        # so we create an array with paired indices: police precincts with associated small areas\n",
    "        # we use it in a loop in a function below\n",
    "        dict_over_ind = find_intersections(out) \n",
    "        \n",
    "        return dict_over_ind\n",
    "    \n",
    "def calculate_inclusion_indices(g1_reind, g2_reind):\n",
    "\n",
    "        out = sjoin(g1_reind, g2_reind, op = \"contains\") ## PP contains SAL\n",
    "        \n",
    "        out.drop('index_right', axis=1, inplace=True) \n",
    "        \n",
    "        dict_over_ind = find_intersections(out) \n",
    "        \n",
    "        return dict_over_ind\n",
    "    \n",
    "def calculate_join(dict_over_ind, g1_reind, g2_reind):\n",
    "        area_total = 0\n",
    "        data_aggreg = []\n",
    "\n",
    "        # note to self: make sure to import shapely Polygon\n",
    "        for index1, crim in g1_reind.iterrows():\n",
    "            try:\n",
    "                index1 = crim.pp_index\n",
    "                sals_found = dict_over_ind[index1]\n",
    "\n",
    "                for sal in range(len(sals_found)):\n",
    "                    pom = g2_reind[g2_reind.sal_index == sals_found[sal]]['geometry']        \n",
    "\n",
    "                    #if pom.intersects(crim['geometry']).values[0]:\n",
    "                    area_int = pom.intersection(crim['geometry']).area.values[0]\n",
    "                    if area_int>0:\n",
    "                        area_total += area_int \n",
    "                        area_crim = crim['geometry'].area\n",
    "\n",
    "                        area_popu = pom.values[0].area\n",
    "\n",
    "                        popu_count = g2_reind[g2_reind.sal_index == sals_found[sal]]['PPL_CNT'].values[0]\n",
    "                        murd_count = crim['murd_cnt']\n",
    "                        pol_province = crim['province']\n",
    "                        popu_frac = (area_int / area_popu) * popu_count# fraction of the pop area contained inside the crim\n",
    "                        #print(popu_frac)\n",
    "                        extra_info_col_names = ['DC_NAME','MN_NAME','MP_NAME','PR_NAME','SP_NAME']\n",
    "                        \n",
    "                        extra_info_col_codes = ['MN_CODE','MP_CODE','PR_CODE','SAL_CODE','SP_CODE']\n",
    "\n",
    "                        extra_names = g2_reind[g2_reind.sal_index == sals_found[sal]][extra_info_col_names]#.filter(regex=(\"NAME\"))\n",
    "                        extra_codes = g2_reind[g2_reind.sal_index == sals_found[sal]][extra_info_col_codes]#.filter(regex=(\"NAME\"))\n",
    "\n",
    "                        data_aggreg.append({'geometry': pom.intersection(crim['geometry']).values[0], 'id1': index1,\\\n",
    "                                      'id2': sals_found[sal] ,'area_pp': area_crim,'area_sal': area_popu,\\\n",
    "                                  'area_inter': area_int, 'popu_inter' : popu_frac, 'popu_sal': popu_count,\\\n",
    "                                  'murd_cnt': murd_count,'province': pol_province,\n",
    "                                  'DC_NAME': extra_names.DC_NAME.values[0],\\\n",
    "                                  'MN_NAME': extra_names.MN_NAME.values[0], 'MP_NAME': extra_names.MP_NAME.values[0],\\\n",
    "                                  'PR_NAME': extra_names.PR_NAME.values[0],'SP_NAME': extra_names.SP_NAME.values[0],\\\n",
    "                                  'MN_CODE': extra_codes.MN_CODE.values[0],'MP_CODE': extra_codes.MP_CODE.values[0],\\\n",
    "                                  'PR_CODE': extra_codes.PR_CODE.values[0],'SAL_CODE': extra_codes.SAL_CODE.values[0],\\\n",
    "                                  'SP_CODE': extra_codes.SP_CODE.values[0]} )\n",
    "            except:\n",
    "                pass\n",
    "            \n",
    "        df_t = gpd.GeoDataFrame(data_aggreg,columns=['geometry', 'id1','id2','area_pp',\\\n",
    "                                       'area_sal','area_inter', 'popu_inter',\\\n",
    "                                       'popu_sal', 'murd_cnt','province','DC_NAME',\\\n",
    "                                       'MN_NAME','MP_NAME','PR_NAME','SP_NAME',\\\n",
    "                                      'MN_CODE','MP_CODE','PR_CODE','SAL_CODE','SP_CODE'])\n",
    "        #df_t.to_file(out_name)\n",
    "        return df_t, area_total, data_aggreg"
   ]
  },
  {
   "cell_type": "code",
   "execution_count": 43,
   "metadata": {
    "collapsed": true
   },
   "outputs": [],
   "source": [
    "# this function adds the remaining columns, calculates fractions etc\n",
    "def compute_final_col(df_temp):\n",
    "    # add population data per police percinct to the main table\n",
    "    # id1- PP, id2 - SAL\n",
    "    temp = df_temp.groupby(by=['id1'])['popu_inter'].sum().reset_index()\n",
    "\n",
    "    data_with_population = pd.merge(df_temp, temp, on='id1', how='outer')\\\n",
    "            .rename(columns={'popu_inter_y':'popu_frac_per_pp', 'popu_inter_x':'popu_inter'})\n",
    "\n",
    "    # finally, update the murder rate per SAL : id2 is sal's id    \n",
    "\n",
    "    data_with_population['murd_est_per_int'] = data_with_population['popu_inter']/data_with_population['popu_frac_per_pp']\\\n",
    "               * data_with_population['murd_cnt']\n",
    "    data_mur_per_int = data_with_population.groupby(by=['id2'])['murd_est_per_int'].sum().reset_index()\n",
    "\n",
    "    data_mur_per_sal = data_mur_per_int.rename(columns={'murd_est_per_int':'murd_est_per_sal'})\n",
    "\n",
    "    data_with_population['ratio_per_int'] = data_with_population['popu_inter']/data_with_population['popu_frac_per_pp']\\\n",
    "\n",
    "    data_complete = pd.merge(data_with_population, data_mur_per_sal, on='id2', how='outer')\\\n",
    "            .rename(columns={'id1':'index_PP', 'id2':'index_SAL'})\n",
    "    return data_complete\n",
    "\n",
    "# the geometry can be simplified using Line Simpl. algorithms\n",
    "# data_with_pop['geo_simplified'] = data_with_pop.geometry.simplify(1000)\n",
    "# for use one switches to a chosen simplified geometry:\n",
    "# data_with_pop.set_geometry('geo_simplified', inplace=True)"
   ]
  },
  {
   "cell_type": "markdown",
   "metadata": {},
   "source": [
    "Main functions to find intersection. Files loaded in are the AEA projected shapefiles."
   ]
  },
  {
   "cell_type": "code",
   "execution_count": 4,
   "metadata": {
    "collapsed": false
   },
   "outputs": [
    {
     "name": "stdout",
     "output_type": "stream",
     "text": [
      "1\n",
      "2\n",
      "3\n"
     ]
    }
   ],
   "source": [
    "salSHP_upd = 'shapefiles/updated/sal_population_aea.shp'\n",
    "polSHP_upd = 'shapefiles/updated/polPrec_murd2015_prov_aea.shp'\n",
    "\n",
    "geo_pol = gpd.GeoDataFrame.from_file(polSHP_upd)\n",
    "geo_sal = gpd.GeoDataFrame.from_file(salSHP_upd)\n",
    "\n",
    "geo_pol_reind = geo_pol.reset_index().rename(columns={'index':'pp_index'})\n",
    "geo_sal_reind = geo_sal.reset_index().rename(columns={'index':'sal_index'})\n",
    "\n",
    "dict_int = calculate_join_indices(geo_pol_reind,geo_sal_reind)\n",
    "print(\"1\")\n",
    "dict_inc = calculate_inclusion_indices(geo_pol_reind, geo_sal_reind)"
   ]
  },
  {
   "cell_type": "markdown",
   "metadata": {},
   "source": [
    "test on a subset:"
   ]
  },
  {
   "cell_type": "code",
   "execution_count": null,
   "metadata": {
    "collapsed": false,
    "scrolled": true
   },
   "outputs": [],
   "source": [
    "gt1= geo_pol_reind[geo_pol.province==\"Free State\"].head(n=2)\n",
    "gt2 = geo_sal_reind[geo_sal_reind.PR_NAME==\"Free State\"].reset_index()\n",
    "d = calculate_join_indices(gt1, gt2)"
   ]
  },
  {
   "cell_type": "markdown",
   "metadata": {},
   "source": [
    "Running the intersections on pre-computed indices:"
   ]
  },
  {
   "cell_type": "code",
   "execution_count": 17,
   "metadata": {
    "collapsed": false
   },
   "outputs": [
    {
     "name": "stdout",
     "output_type": "stream",
     "text": [
      "1st 1544.5270484819994\n",
      "2nd 2133.577747626994\n"
     ]
    }
   ],
   "source": [
    "from timeit import default_timer as timer\n",
    "\n",
    "start = timer() \n",
    "\n",
    "df_inc, sum_area_inc, data_inc = calculate_join(dict_inc, geo_pol_reind, geo_sal_reind)\n",
    "end = timer()\n",
    "print(\"1st\", end - start)  \n",
    "\n",
    "start = timer() \n",
    "df_int, sum_area_int, data_int = calculate_join(dict_int, geo_pol_reind, geo_sal_reind)\n",
    "end = timer()\n",
    "print(\"2nd\", end - start)  "
   ]
  },
  {
   "cell_type": "code",
   "execution_count": 20,
   "metadata": {
    "collapsed": false
   },
   "outputs": [
    {
     "data": {
      "text/html": [
       "<div>\n",
       "<table border=\"1\" class=\"dataframe\">\n",
       "  <thead>\n",
       "    <tr style=\"text-align: right;\">\n",
       "      <th></th>\n",
       "      <th>geometry</th>\n",
       "      <th>id1</th>\n",
       "      <th>id2</th>\n",
       "      <th>area_pp</th>\n",
       "      <th>area_sal</th>\n",
       "      <th>area_inter</th>\n",
       "      <th>popu_inter</th>\n",
       "      <th>popu_sal</th>\n",
       "      <th>murd_cnt</th>\n",
       "      <th>province</th>\n",
       "      <th>DC_NAME</th>\n",
       "      <th>MN_NAME</th>\n",
       "      <th>MP_NAME</th>\n",
       "      <th>PR_NAME</th>\n",
       "      <th>SP_NAME</th>\n",
       "      <th>MN_CODE</th>\n",
       "      <th>MP_CODE</th>\n",
       "      <th>PR_CODE</th>\n",
       "      <th>SAL_CODE</th>\n",
       "      <th>SP_CODE</th>\n",
       "    </tr>\n",
       "  </thead>\n",
       "  <tbody>\n",
       "    <tr>\n",
       "      <th>0</th>\n",
       "      <td>(POLYGON ((179538.273068833 -3355106.778516249...</td>\n",
       "      <td>0</td>\n",
       "      <td>28532</td>\n",
       "      <td>55396371.27358</td>\n",
       "      <td>1.981387e+08</td>\n",
       "      <td>17779.878339</td>\n",
       "      <td>0.003230</td>\n",
       "      <td>36</td>\n",
       "      <td>25</td>\n",
       "      <td>Free State</td>\n",
       "      <td>Mangaung</td>\n",
       "      <td>Mangaung</td>\n",
       "      <td>Mangaung NU</td>\n",
       "      <td>Free State</td>\n",
       "      <td>Mangaung NU</td>\n",
       "      <td>499</td>\n",
       "      <td>499002</td>\n",
       "      <td>4</td>\n",
       "      <td>4990011</td>\n",
       "      <td>499002001</td>\n",
       "    </tr>\n",
       "    <tr>\n",
       "      <th>1</th>\n",
       "      <td>POLYGON ((181104.0571247448 -3347250.428848253...</td>\n",
       "      <td>0</td>\n",
       "      <td>29666</td>\n",
       "      <td>55396371.27358</td>\n",
       "      <td>7.408164e+06</td>\n",
       "      <td>7337878.480101</td>\n",
       "      <td>268.428873</td>\n",
       "      <td>271</td>\n",
       "      <td>25</td>\n",
       "      <td>Free State</td>\n",
       "      <td>Mangaung</td>\n",
       "      <td>Mangaung</td>\n",
       "      <td>Botshabelo</td>\n",
       "      <td>Free State</td>\n",
       "      <td>Botshabelo SP</td>\n",
       "      <td>499</td>\n",
       "      <td>499030</td>\n",
       "      <td>4</td>\n",
       "      <td>4990063</td>\n",
       "      <td>499030008</td>\n",
       "    </tr>\n",
       "    <tr>\n",
       "      <th>2</th>\n",
       "      <td>POLYGON ((176437.6520079001 -3347422.027408466...</td>\n",
       "      <td>0</td>\n",
       "      <td>29636</td>\n",
       "      <td>55396371.27358</td>\n",
       "      <td>2.894491e+05</td>\n",
       "      <td>289449.084550</td>\n",
       "      <td>707.000000</td>\n",
       "      <td>707</td>\n",
       "      <td>25</td>\n",
       "      <td>Free State</td>\n",
       "      <td>Mangaung</td>\n",
       "      <td>Mangaung</td>\n",
       "      <td>Botshabelo</td>\n",
       "      <td>Free State</td>\n",
       "      <td>Botshabelo G</td>\n",
       "      <td>499</td>\n",
       "      <td>499030</td>\n",
       "      <td>4</td>\n",
       "      <td>4991112</td>\n",
       "      <td>499030005</td>\n",
       "    </tr>\n",
       "  </tbody>\n",
       "</table>\n",
       "</div>"
      ],
      "text/plain": [
       "                                            geometry  id1    id2  \\\n",
       "0  (POLYGON ((179538.273068833 -3355106.778516249...    0  28532   \n",
       "1  POLYGON ((181104.0571247448 -3347250.428848253...    0  29666   \n",
       "2  POLYGON ((176437.6520079001 -3347422.027408466...    0  29636   \n",
       "\n",
       "          area_pp      area_sal      area_inter  popu_inter  popu_sal  \\\n",
       "0  55396371.27358  1.981387e+08    17779.878339    0.003230        36   \n",
       "1  55396371.27358  7.408164e+06  7337878.480101  268.428873       271   \n",
       "2  55396371.27358  2.894491e+05   289449.084550  707.000000       707   \n",
       "\n",
       "   murd_cnt    province   DC_NAME   MN_NAME      MP_NAME     PR_NAME  \\\n",
       "0        25  Free State  Mangaung  Mangaung  Mangaung NU  Free State   \n",
       "1        25  Free State  Mangaung  Mangaung   Botshabelo  Free State   \n",
       "2        25  Free State  Mangaung  Mangaung   Botshabelo  Free State   \n",
       "\n",
       "         SP_NAME  MN_CODE  MP_CODE  PR_CODE  SAL_CODE    SP_CODE  \n",
       "0    Mangaung NU      499   499002        4   4990011  499002001  \n",
       "1  Botshabelo SP      499   499030        4   4990063  499030008  \n",
       "2   Botshabelo G      499   499030        4   4991112  499030005  "
      ]
     },
     "execution_count": 20,
     "metadata": {},
     "output_type": "execute_result"
    }
   ],
   "source": [
    "df_int.head(n=3)"
   ]
  },
  {
   "cell_type": "markdown",
   "metadata": {},
   "source": [
    "find pol precincts within WC boundary"
   ]
  },
  {
   "cell_type": "code",
   "execution_count": null,
   "metadata": {
    "collapsed": false
   },
   "outputs": [],
   "source": [
    "za_province = gpd.read_file('za-provinces.topojson',driver='GeoJSON')#.set_index('id')\n",
    "za_province.crs={'init': '27700'}\n",
    "\n",
    "wc_boundary = za_province.ix[8].geometry # WC\n",
    "#pp_WC = geo_pol[geo_pol.geometry.within(wc_boundary)]\n",
    "pp_WC_in = geo_pol[geo_pol.geometry.intersects(wc_boundary)]\n",
    "#.unary_union, sal_wc_union_bound = sal_WC_in.unary_union\n",
    "pp_WC_overlaps = pp_WC_in[pp_WC_in.province!=\"Western Cape\"]\n",
    "pp_WC_pol_annot = pp_WC_in[pp_WC_in.province==\"Western Cape\"]"
   ]
  },
  {
   "cell_type": "code",
   "execution_count": null,
   "metadata": {
    "collapsed": false
   },
   "outputs": [],
   "source": [
    "#pp_test = pp_WC_in[pp_WC_in['compnt_nm'].isin(['atlantis','philadelphia','kraaifontein','brackenfell','kuilsriver','kleinvleveerste river','macassar','somerset west','fish hoek'])]\n",
    "#pp_test = pp_WC_in[pp_WC_in['compnt_nm'].isin(['beaufort west','doring bay','murraysburg', 'strandfontein','nuwerus','lutzville'])]\n",
    "%matplotlib inline\n",
    "pp_WC_overlaps.plot()"
   ]
  },
  {
   "cell_type": "markdown",
   "metadata": {},
   "source": [
    "To compare, we load the data without the AEA projection:"
   ]
  },
  {
   "cell_type": "code",
   "execution_count": null,
   "metadata": {
    "collapsed": false
   },
   "outputs": [],
   "source": [
    "df_int_obs =gpd.GeoDataFrame.from_file('data/intersection_int_ext.shp')"
   ]
  },
  {
   "cell_type": "code",
   "execution_count": null,
   "metadata": {
    "collapsed": false
   },
   "outputs": [],
   "source": [
    "dfFS = df[df.PR_NAME==\"Free State\"]\n",
    "dfoFS = df_int_obs[df_int2.PR_NAME==\"Free State\"]"
   ]
  },
  {
   "cell_type": "code",
   "execution_count": null,
   "metadata": {
    "collapsed": false
   },
   "outputs": [],
   "source": [
    "dfoFS[dfoFS.id1 == 0]['popu_frac']"
   ]
  },
  {
   "cell_type": "code",
   "execution_count": null,
   "metadata": {
    "collapsed": false
   },
   "outputs": [],
   "source": [
    "dfFS[dfFS.id1 == 0]['popu_frac'].sum()"
   ]
  },
  {
   "cell_type": "markdown",
   "metadata": {},
   "source": [
    "Add the final columns and save the files +  check the sums across provinces.\n",
    "First select only the SALs that are included at least 50% in the intersection"
   ]
  },
  {
   "cell_type": "code",
   "execution_count": 78,
   "metadata": {
    "collapsed": false,
    "scrolled": true
   },
   "outputs": [
    {
     "data": {
      "text/html": [
       "<div>\n",
       "<table border=\"1\" class=\"dataframe\">\n",
       "  <thead>\n",
       "    <tr style=\"text-align: right;\">\n",
       "      <th></th>\n",
       "      <th>geometry</th>\n",
       "      <th>id1</th>\n",
       "      <th>id2</th>\n",
       "      <th>area_pp</th>\n",
       "      <th>area_sal</th>\n",
       "      <th>area_inter</th>\n",
       "      <th>popu_inter</th>\n",
       "      <th>popu_sal</th>\n",
       "      <th>murd_cnt</th>\n",
       "      <th>province</th>\n",
       "      <th>DC_NAME</th>\n",
       "      <th>MN_NAME</th>\n",
       "      <th>MP_NAME</th>\n",
       "      <th>PR_NAME</th>\n",
       "      <th>SP_NAME</th>\n",
       "      <th>MN_CODE</th>\n",
       "      <th>MP_CODE</th>\n",
       "      <th>PR_CODE</th>\n",
       "      <th>SAL_CODE</th>\n",
       "      <th>SP_CODE</th>\n",
       "    </tr>\n",
       "  </thead>\n",
       "  <tbody>\n",
       "    <tr>\n",
       "      <th>0</th>\n",
       "      <td>(POLYGON ((179538.273068833 -3355106.778516249...</td>\n",
       "      <td>0</td>\n",
       "      <td>28532</td>\n",
       "      <td>55396371.27358</td>\n",
       "      <td>1.981387e+08</td>\n",
       "      <td>17779.878339</td>\n",
       "      <td>0.003230</td>\n",
       "      <td>36</td>\n",
       "      <td>25</td>\n",
       "      <td>Free State</td>\n",
       "      <td>Mangaung</td>\n",
       "      <td>Mangaung</td>\n",
       "      <td>Mangaung NU</td>\n",
       "      <td>Free State</td>\n",
       "      <td>Mangaung NU</td>\n",
       "      <td>499</td>\n",
       "      <td>499002</td>\n",
       "      <td>4</td>\n",
       "      <td>4990011</td>\n",
       "      <td>499002001</td>\n",
       "    </tr>\n",
       "    <tr>\n",
       "      <th>1</th>\n",
       "      <td>POLYGON ((181104.0571247448 -3347250.428848253...</td>\n",
       "      <td>0</td>\n",
       "      <td>29666</td>\n",
       "      <td>55396371.27358</td>\n",
       "      <td>7.408164e+06</td>\n",
       "      <td>7337878.480101</td>\n",
       "      <td>268.428873</td>\n",
       "      <td>271</td>\n",
       "      <td>25</td>\n",
       "      <td>Free State</td>\n",
       "      <td>Mangaung</td>\n",
       "      <td>Mangaung</td>\n",
       "      <td>Botshabelo</td>\n",
       "      <td>Free State</td>\n",
       "      <td>Botshabelo SP</td>\n",
       "      <td>499</td>\n",
       "      <td>499030</td>\n",
       "      <td>4</td>\n",
       "      <td>4990063</td>\n",
       "      <td>499030008</td>\n",
       "    </tr>\n",
       "  </tbody>\n",
       "</table>\n",
       "</div>"
      ],
      "text/plain": [
       "                                            geometry  id1    id2  \\\n",
       "0  (POLYGON ((179538.273068833 -3355106.778516249...    0  28532   \n",
       "1  POLYGON ((181104.0571247448 -3347250.428848253...    0  29666   \n",
       "\n",
       "          area_pp      area_sal      area_inter  popu_inter  popu_sal  \\\n",
       "0  55396371.27358  1.981387e+08    17779.878339    0.003230        36   \n",
       "1  55396371.27358  7.408164e+06  7337878.480101  268.428873       271   \n",
       "\n",
       "   murd_cnt    province   DC_NAME   MN_NAME      MP_NAME     PR_NAME  \\\n",
       "0        25  Free State  Mangaung  Mangaung  Mangaung NU  Free State   \n",
       "1        25  Free State  Mangaung  Mangaung   Botshabelo  Free State   \n",
       "\n",
       "         SP_NAME  MN_CODE  MP_CODE  PR_CODE  SAL_CODE    SP_CODE  \n",
       "0    Mangaung NU      499   499002        4   4990011  499002001  \n",
       "1  Botshabelo SP      499   499030        4   4990063  499030008  "
      ]
     },
     "execution_count": 78,
     "metadata": {},
     "output_type": "execute_result"
    }
   ],
   "source": [
    "df_int.head(n=2)"
   ]
  },
  {
   "cell_type": "markdown",
   "metadata": {},
   "source": [
    "Additing additional columns and computing the lower/upper estimation bounds (selecting SALs overlapping at >50% or completely):"
   ]
  },
  {
   "cell_type": "code",
   "execution_count": 84,
   "metadata": {
    "collapsed": false
   },
   "outputs": [],
   "source": [
    "#list_mit =[]\n",
    "list_int_inc = []\n",
    "for i,entry in df_int.iterrows():#f_inc_aea:\n",
    "    #if (entry.area_inter/entry.area_sal>=0.5): # select intersections where SAL overlap >50%\n",
    "     #   list_mit.append(entry)\n",
    "    if (entry.area_inter/entry.area_sal==1): # select those included 'completely'\n",
    "        list_int_inc.append(entry)\n",
    "df_int_mit=gpd.GeoDataFrame(list_mit)\n",
    "df_int_inc=gpd.GeoDataFrame(list_int_inc)"
   ]
  },
  {
   "cell_type": "code",
   "execution_count": 82,
   "metadata": {
    "collapsed": true
   },
   "outputs": [],
   "source": [
    "df_int_aea_mit = compute_final_col(df_int_mit) # mitad= mid\n",
    "df_int_aea_cpt = compute_final_col(df_int_inc) # complete"
   ]
  },
  {
   "cell_type": "code",
   "execution_count": 87,
   "metadata": {
    "collapsed": true
   },
   "outputs": [],
   "source": [
    "df_int_aea_mit.to_csv('data/pp_sal_aea_mit.csv')\n",
    "df_int_aea_cpt.to_csv('data/pp_sal_aea_cpt.csv')"
   ]
  },
  {
   "cell_type": "code",
   "execution_count": 25,
   "metadata": {
    "collapsed": false
   },
   "outputs": [],
   "source": [
    "df_int_aea = compute_final_col(df_int) # all intersections\n",
    "#df_inc_aea = compute_final_col(df_inc) # all full-inclusions\n",
    "#df_inc_aea.to_csv('data/pp_sal_inc_included.csv')\n",
    "df_int_aea.to_csv('data/pp_sal_inc_intersections.csv')"
   ]
  },
  {
   "cell_type": "code",
   "execution_count": 33,
   "metadata": {
    "collapsed": false
   },
   "outputs": [
    {
     "data": {
      "text/plain": [
       "province\n",
       "0                   0\n",
       "Eastern Cape     3051\n",
       "Free State        943\n",
       "Gauteng          3671\n",
       "Kwazulu/Natal    3759\n",
       "Limpopo           777\n",
       "Mpumalanga        831\n",
       "North West        853\n",
       "Northern Cape     411\n",
       "Western Cape     3186\n",
       "Name: murd_est_per_int, dtype: float64"
      ]
     },
     "execution_count": 33,
     "metadata": {},
     "output_type": "execute_result"
    }
   ],
   "source": [
    "data_prov = df_int_aea[['PR_NAME','province','murd_est_per_int']]\n",
    "data_prov.groupby('province')['murd_est_per_int'].sum()"
   ]
  },
  {
   "cell_type": "code",
   "execution_count": 29,
   "metadata": {
    "collapsed": false
   },
   "outputs": [
    {
     "data": {
      "text/plain": [
       "PR_NAME\n",
       "Eastern Cape     3051.126640\n",
       "Free State        942.827525\n",
       "Gauteng          3654.691802\n",
       "KwaZulu-Natal    3758.865333\n",
       "Limpopo           775.293714\n",
       "Mpumalanga        832.509613\n",
       "North West        872.349383\n",
       "Northern Cape     408.343123\n",
       "Western Cape     3185.992867\n",
       "Name: murd_est_per_int, dtype: float64"
      ]
     },
     "execution_count": 29,
     "metadata": {},
     "output_type": "execute_result"
    }
   ],
   "source": [
    "data_prov.groupby('PR_NAME')['murd_est_per_int'].sum()"
   ]
  },
  {
   "cell_type": "code",
   "execution_count": 31,
   "metadata": {
    "collapsed": false
   },
   "outputs": [
    {
     "name": "stdout",
     "output_type": "stream",
     "text": [
      "17482.00000000003\n"
     ]
    }
   ],
   "source": [
    "# check over small areas- sum of all the crimes should be 17482\n",
    "pom = {}\n",
    "for ind, row in df_inc_aea.iterrows():\n",
    "    pom[row['index_SAL']] = row['murd_est_per_sal'] \n",
    "s=0\n",
    "for key in pom:\n",
    "    s = s + pom[key]\n",
    "print(s)"
   ]
  },
  {
   "cell_type": "markdown",
   "metadata": {},
   "source": [
    "Computing the bounds:"
   ]
  },
  {
   "cell_type": "code",
   "execution_count": 47,
   "metadata": {
    "collapsed": false
   },
   "outputs": [
    {
     "data": {
      "text/plain": [
       "71594"
      ]
     },
     "execution_count": 47,
     "metadata": {},
     "output_type": "execute_result"
    }
   ],
   "source": [
    "len(df_inc_aea)"
   ]
  },
  {
   "cell_type": "code",
   "execution_count": 39,
   "metadata": {
    "collapsed": false
   },
   "outputs": [
    {
     "data": {
      "text/plain": [
       "101543"
      ]
     },
     "execution_count": 39,
     "metadata": {},
     "output_type": "execute_result"
    }
   ],
   "source": [
    "len(df_int)"
   ]
  },
  {
   "cell_type": "code",
   "execution_count": 48,
   "metadata": {
    "collapsed": false
   },
   "outputs": [
    {
     "data": {
      "text/plain": [
       "province\n",
       "0                   0\n",
       "Eastern Cape     3047\n",
       "Free State        940\n",
       "Gauteng          3670\n",
       "Kwazulu/Natal    3758\n",
       "Limpopo           777\n",
       "Mpumalanga        830\n",
       "North West        846\n",
       "Northern Cape     410\n",
       "Western Cape     3186\n",
       "Name: murd_est_per_int, dtype: float64"
      ]
     },
     "execution_count": 48,
     "metadata": {},
     "output_type": "execute_result"
    }
   ],
   "source": [
    "data_prov_ub = df_inc_aea[['PR_NAME','province','murd_est_per_int']]\n",
    "data_prov_ub.groupby('province')['murd_est_per_int'].sum()"
   ]
  },
  {
   "cell_type": "code",
   "execution_count": 35,
   "metadata": {
    "collapsed": false
   },
   "outputs": [
    {
     "data": {
      "text/plain": [
       "province\n",
       "0                   0\n",
       "Eastern Cape     3051\n",
       "Free State        943\n",
       "Gauteng          3671\n",
       "Kwazulu/Natal    3759\n",
       "Limpopo           777\n",
       "Mpumalanga        831\n",
       "North West        853\n",
       "Northern Cape     411\n",
       "Western Cape     3186\n",
       "Name: murd_est_per_int, dtype: float64"
      ]
     },
     "execution_count": 35,
     "metadata": {},
     "output_type": "execute_result"
    }
   ],
   "source": [
    "data_prov = df_int_aea[['PR_NAME','province','murd_est_per_int']]\n",
    "data_prov.groupby('province')['murd_est_per_int'].sum()"
   ]
  },
  {
   "cell_type": "code",
   "execution_count": null,
   "metadata": {
    "collapsed": false
   },
   "outputs": [],
   "source": [
    "#f, ax = plt.subplots(1, figsize=(12, 12))\n",
    "#wc.plot(ax=ax, color='grey', linewidth=0)\n",
    "#gpd.plotting.plot_multipolygon(ax, sal_wc_union_bound, facecolor='green')\n",
    "\n",
    "#gpd.plotting.plot_multipolygon(ax, sal_wc_union, facecolor='blue')"
   ]
  },
  {
   "cell_type": "code",
   "execution_count": null,
   "metadata": {
    "collapsed": false
   },
   "outputs": [],
   "source": [
    "f, ax = plt.subplots(1, figsize=(12, 12))\n",
    "gpd.plotting.plot_multipolygon(ax, pp_WC_overlaps.unary_union, facecolor='red')\n",
    "wc.plot(ax=ax, color='black', linewidth=0) "
   ]
  },
  {
   "cell_type": "code",
   "execution_count": 49,
   "metadata": {
    "collapsed": false
   },
   "outputs": [
    {
     "data": {
      "text/html": [
       "<div>\n",
       "<table border=\"1\" class=\"dataframe\">\n",
       "  <thead>\n",
       "    <tr style=\"text-align: right;\">\n",
       "      <th></th>\n",
       "      <th>geometry</th>\n",
       "      <th>index_PP</th>\n",
       "      <th>index_SAL</th>\n",
       "      <th>area_pp</th>\n",
       "      <th>area_sal</th>\n",
       "      <th>area_inter</th>\n",
       "      <th>popu_inter</th>\n",
       "      <th>popu_sal</th>\n",
       "      <th>murd_cnt</th>\n",
       "      <th>province</th>\n",
       "      <th>...</th>\n",
       "      <th>SP_NAME</th>\n",
       "      <th>MN_CODE</th>\n",
       "      <th>MP_CODE</th>\n",
       "      <th>PR_CODE</th>\n",
       "      <th>SAL_CODE</th>\n",
       "      <th>SP_CODE</th>\n",
       "      <th>popu_frac_per_pp</th>\n",
       "      <th>murd_est_per_int</th>\n",
       "      <th>ratio_per_int</th>\n",
       "      <th>murd_est_per_sal</th>\n",
       "    </tr>\n",
       "  </thead>\n",
       "  <tbody>\n",
       "    <tr>\n",
       "      <th>0</th>\n",
       "      <td>POLYGON ((176437.6520079001 -3347422.027408466...</td>\n",
       "      <td>0</td>\n",
       "      <td>29636</td>\n",
       "      <td>55396371.27358</td>\n",
       "      <td>289449.084550</td>\n",
       "      <td>289449.084550</td>\n",
       "      <td>707</td>\n",
       "      <td>707</td>\n",
       "      <td>25</td>\n",
       "      <td>Free State</td>\n",
       "      <td>...</td>\n",
       "      <td>Botshabelo G</td>\n",
       "      <td>499</td>\n",
       "      <td>499030</td>\n",
       "      <td>4</td>\n",
       "      <td>4991112</td>\n",
       "      <td>499030005</td>\n",
       "      <td>68494</td>\n",
       "      <td>0.258052</td>\n",
       "      <td>0.010322</td>\n",
       "      <td>0.258052</td>\n",
       "    </tr>\n",
       "    <tr>\n",
       "      <th>1</th>\n",
       "      <td>POLYGON ((176244.7363563863 -3347919.723384398...</td>\n",
       "      <td>0</td>\n",
       "      <td>29632</td>\n",
       "      <td>55396371.27358</td>\n",
       "      <td>204893.780442</td>\n",
       "      <td>204893.780442</td>\n",
       "      <td>618</td>\n",
       "      <td>618</td>\n",
       "      <td>25</td>\n",
       "      <td>Free State</td>\n",
       "      <td>...</td>\n",
       "      <td>Botshabelo G</td>\n",
       "      <td>499</td>\n",
       "      <td>499030</td>\n",
       "      <td>4</td>\n",
       "      <td>4990875</td>\n",
       "      <td>499030005</td>\n",
       "      <td>68494</td>\n",
       "      <td>0.225567</td>\n",
       "      <td>0.009023</td>\n",
       "      <td>0.225567</td>\n",
       "    </tr>\n",
       "    <tr>\n",
       "      <th>2</th>\n",
       "      <td>POLYGON ((176363.9246824788 -3350001.103421158...</td>\n",
       "      <td>0</td>\n",
       "      <td>29644</td>\n",
       "      <td>55396371.27358</td>\n",
       "      <td>147431.344571</td>\n",
       "      <td>147431.344571</td>\n",
       "      <td>535</td>\n",
       "      <td>535</td>\n",
       "      <td>25</td>\n",
       "      <td>Free State</td>\n",
       "      <td>...</td>\n",
       "      <td>Botshabelo C</td>\n",
       "      <td>499</td>\n",
       "      <td>499030</td>\n",
       "      <td>4</td>\n",
       "      <td>4990568</td>\n",
       "      <td>499030007</td>\n",
       "      <td>68494</td>\n",
       "      <td>0.195273</td>\n",
       "      <td>0.007811</td>\n",
       "      <td>0.195273</td>\n",
       "    </tr>\n",
       "    <tr>\n",
       "      <th>3</th>\n",
       "      <td>POLYGON ((176601.5611199073 -3350155.867966976...</td>\n",
       "      <td>0</td>\n",
       "      <td>29656</td>\n",
       "      <td>55396371.27358</td>\n",
       "      <td>131466.444886</td>\n",
       "      <td>131466.444886</td>\n",
       "      <td>721</td>\n",
       "      <td>721</td>\n",
       "      <td>25</td>\n",
       "      <td>Free State</td>\n",
       "      <td>...</td>\n",
       "      <td>Botshabelo C</td>\n",
       "      <td>499</td>\n",
       "      <td>499030</td>\n",
       "      <td>4</td>\n",
       "      <td>4991128</td>\n",
       "      <td>499030007</td>\n",
       "      <td>68494</td>\n",
       "      <td>0.263162</td>\n",
       "      <td>0.010526</td>\n",
       "      <td>0.263162</td>\n",
       "    </tr>\n",
       "    <tr>\n",
       "      <th>4</th>\n",
       "      <td>POLYGON ((176846.4617087045 -3350388.902318581...</td>\n",
       "      <td>0</td>\n",
       "      <td>29642</td>\n",
       "      <td>55396371.27358</td>\n",
       "      <td>115324.558937</td>\n",
       "      <td>115324.558937</td>\n",
       "      <td>473</td>\n",
       "      <td>473</td>\n",
       "      <td>25</td>\n",
       "      <td>Free State</td>\n",
       "      <td>...</td>\n",
       "      <td>Botshabelo C</td>\n",
       "      <td>499</td>\n",
       "      <td>499030</td>\n",
       "      <td>4</td>\n",
       "      <td>4990365</td>\n",
       "      <td>499030007</td>\n",
       "      <td>68494</td>\n",
       "      <td>0.172643</td>\n",
       "      <td>0.006906</td>\n",
       "      <td>0.172643</td>\n",
       "    </tr>\n",
       "  </tbody>\n",
       "</table>\n",
       "<p>5 rows × 24 columns</p>\n",
       "</div>"
      ],
      "text/plain": [
       "                                            geometry  index_PP  index_SAL  \\\n",
       "0  POLYGON ((176437.6520079001 -3347422.027408466...         0      29636   \n",
       "1  POLYGON ((176244.7363563863 -3347919.723384398...         0      29632   \n",
       "2  POLYGON ((176363.9246824788 -3350001.103421158...         0      29644   \n",
       "3  POLYGON ((176601.5611199073 -3350155.867966976...         0      29656   \n",
       "4  POLYGON ((176846.4617087045 -3350388.902318581...         0      29642   \n",
       "\n",
       "          area_pp       area_sal     area_inter  popu_inter  popu_sal  \\\n",
       "0  55396371.27358  289449.084550  289449.084550         707       707   \n",
       "1  55396371.27358  204893.780442  204893.780442         618       618   \n",
       "2  55396371.27358  147431.344571  147431.344571         535       535   \n",
       "3  55396371.27358  131466.444886  131466.444886         721       721   \n",
       "4  55396371.27358  115324.558937  115324.558937         473       473   \n",
       "\n",
       "   murd_cnt    province        ...              SP_NAME MN_CODE MP_CODE  \\\n",
       "0        25  Free State        ...         Botshabelo G     499  499030   \n",
       "1        25  Free State        ...         Botshabelo G     499  499030   \n",
       "2        25  Free State        ...         Botshabelo C     499  499030   \n",
       "3        25  Free State        ...         Botshabelo C     499  499030   \n",
       "4        25  Free State        ...         Botshabelo C     499  499030   \n",
       "\n",
       "  PR_CODE SAL_CODE    SP_CODE  popu_frac_per_pp  murd_est_per_int  \\\n",
       "0       4  4991112  499030005             68494          0.258052   \n",
       "1       4  4990875  499030005             68494          0.225567   \n",
       "2       4  4990568  499030007             68494          0.195273   \n",
       "3       4  4991128  499030007             68494          0.263162   \n",
       "4       4  4990365  499030007             68494          0.172643   \n",
       "\n",
       "   ratio_per_int  murd_est_per_sal  \n",
       "0       0.010322          0.258052  \n",
       "1       0.009023          0.225567  \n",
       "2       0.007811          0.195273  \n",
       "3       0.010526          0.263162  \n",
       "4       0.006906          0.172643  \n",
       "\n",
       "[5 rows x 24 columns]"
      ]
     },
     "execution_count": 49,
     "metadata": {},
     "output_type": "execute_result"
    }
   ],
   "source": [
    "df_inc_aea.head()"
   ]
  },
  {
   "cell_type": "code",
   "execution_count": 56,
   "metadata": {
    "collapsed": false
   },
   "outputs": [
    {
     "data": {
      "text/plain": [
       "3    0.263162\n",
       "Name: murd_est_per_sal, dtype: float64"
      ]
     },
     "execution_count": 56,
     "metadata": {},
     "output_type": "execute_result"
    }
   ],
   "source": [
    "df_inc_aea[df_inc_aea.index_SAL==29656].murd_est_per_sal"
   ]
  },
  {
   "cell_type": "code",
   "execution_count": 57,
   "metadata": {
    "collapsed": false
   },
   "outputs": [
    {
     "data": {
      "text/plain": [
       "15    0.22013\n",
       "Name: murd_est_per_sal, dtype: float64"
      ]
     },
     "execution_count": 57,
     "metadata": {},
     "output_type": "execute_result"
    }
   ],
   "source": [
    "df_int_aea[df_int_aea.index_SAL==29656].murd_est_per_sal"
   ]
  },
  {
   "cell_type": "code",
   "execution_count": 58,
   "metadata": {
    "collapsed": false
   },
   "outputs": [
    {
     "data": {
      "text/plain": [
       "84907"
      ]
     },
     "execution_count": 58,
     "metadata": {},
     "output_type": "execute_result"
    }
   ],
   "source": [
    "len(set(df_int_aea.index_SAL))"
   ]
  },
  {
   "cell_type": "code",
   "execution_count": 60,
   "metadata": {
    "collapsed": false
   },
   "outputs": [
    {
     "data": {
      "text/html": [
       "<div>\n",
       "<table border=\"1\" class=\"dataframe\">\n",
       "  <thead>\n",
       "    <tr style=\"text-align: right;\">\n",
       "      <th></th>\n",
       "      <th>geometry</th>\n",
       "      <th>index_PP</th>\n",
       "      <th>index_SAL</th>\n",
       "      <th>area_pp</th>\n",
       "      <th>area_sal</th>\n",
       "      <th>area_inter</th>\n",
       "      <th>popu_inter</th>\n",
       "      <th>popu_sal</th>\n",
       "      <th>murd_cnt</th>\n",
       "      <th>province</th>\n",
       "      <th>...</th>\n",
       "      <th>SP_NAME</th>\n",
       "      <th>MN_CODE</th>\n",
       "      <th>MP_CODE</th>\n",
       "      <th>PR_CODE</th>\n",
       "      <th>SAL_CODE</th>\n",
       "      <th>SP_CODE</th>\n",
       "      <th>popu_frac_per_pp</th>\n",
       "      <th>murd_est_per_int</th>\n",
       "      <th>ratio_per_int</th>\n",
       "      <th>murd_est_per_sal</th>\n",
       "    </tr>\n",
       "  </thead>\n",
       "  <tbody>\n",
       "    <tr>\n",
       "      <th>0</th>\n",
       "      <td>POLYGON ((176437.6520079001 -3347422.027408466...</td>\n",
       "      <td>0</td>\n",
       "      <td>29636</td>\n",
       "      <td>55396371.27358</td>\n",
       "      <td>289449.084550</td>\n",
       "      <td>289449.084550</td>\n",
       "      <td>707</td>\n",
       "      <td>707</td>\n",
       "      <td>25</td>\n",
       "      <td>Free State</td>\n",
       "      <td>...</td>\n",
       "      <td>Botshabelo G</td>\n",
       "      <td>499</td>\n",
       "      <td>499030</td>\n",
       "      <td>4</td>\n",
       "      <td>4991112</td>\n",
       "      <td>499030005</td>\n",
       "      <td>68494</td>\n",
       "      <td>0.258052</td>\n",
       "      <td>0.010322</td>\n",
       "      <td>0.258052</td>\n",
       "    </tr>\n",
       "    <tr>\n",
       "      <th>1</th>\n",
       "      <td>POLYGON ((176244.7363563863 -3347919.723384398...</td>\n",
       "      <td>0</td>\n",
       "      <td>29632</td>\n",
       "      <td>55396371.27358</td>\n",
       "      <td>204893.780442</td>\n",
       "      <td>204893.780442</td>\n",
       "      <td>618</td>\n",
       "      <td>618</td>\n",
       "      <td>25</td>\n",
       "      <td>Free State</td>\n",
       "      <td>...</td>\n",
       "      <td>Botshabelo G</td>\n",
       "      <td>499</td>\n",
       "      <td>499030</td>\n",
       "      <td>4</td>\n",
       "      <td>4990875</td>\n",
       "      <td>499030005</td>\n",
       "      <td>68494</td>\n",
       "      <td>0.225567</td>\n",
       "      <td>0.009023</td>\n",
       "      <td>0.225567</td>\n",
       "    </tr>\n",
       "  </tbody>\n",
       "</table>\n",
       "<p>2 rows × 24 columns</p>\n",
       "</div>"
      ],
      "text/plain": [
       "                                            geometry  index_PP  index_SAL  \\\n",
       "0  POLYGON ((176437.6520079001 -3347422.027408466...         0      29636   \n",
       "1  POLYGON ((176244.7363563863 -3347919.723384398...         0      29632   \n",
       "\n",
       "          area_pp       area_sal     area_inter  popu_inter  popu_sal  \\\n",
       "0  55396371.27358  289449.084550  289449.084550         707       707   \n",
       "1  55396371.27358  204893.780442  204893.780442         618       618   \n",
       "\n",
       "   murd_cnt    province        ...              SP_NAME MN_CODE MP_CODE  \\\n",
       "0        25  Free State        ...         Botshabelo G     499  499030   \n",
       "1        25  Free State        ...         Botshabelo G     499  499030   \n",
       "\n",
       "  PR_CODE SAL_CODE    SP_CODE  popu_frac_per_pp  murd_est_per_int  \\\n",
       "0       4  4991112  499030005             68494          0.258052   \n",
       "1       4  4990875  499030005             68494          0.225567   \n",
       "\n",
       "   ratio_per_int  murd_est_per_sal  \n",
       "0       0.010322          0.258052  \n",
       "1       0.009023          0.225567  \n",
       "\n",
       "[2 rows x 24 columns]"
      ]
     },
     "execution_count": 60,
     "metadata": {},
     "output_type": "execute_result"
    }
   ],
   "source": [
    "df_inc_aea.head(n=2)"
   ]
  },
  {
   "cell_type": "code",
   "execution_count": 61,
   "metadata": {
    "collapsed": true
   },
   "outputs": [],
   "source": [
    "d = df_inc_aea.head(n=20)"
   ]
  },
  {
   "cell_type": "markdown",
   "metadata": {
    "collapsed": false
   },
   "source": [
    "WARDS:"
   ]
  },
  {
   "cell_type": "code",
   "execution_count": null,
   "metadata": {
    "collapsed": false
   },
   "outputs": [],
   "source": [
    "wardsShp =gpd.GeoDataFrame.from_file('../wards_delimitation/Wards_demarc/Wards2011.shp')"
   ]
  },
  {
   "cell_type": "code",
   "execution_count": null,
   "metadata": {
    "collapsed": false
   },
   "outputs": [],
   "source": [
    "wardsShp.head()"
   ]
  },
  {
   "cell_type": "code",
   "execution_count": null,
   "metadata": {
    "collapsed": false
   },
   "outputs": [],
   "source": [
    "wardsShp.crs"
   ]
  },
  {
   "cell_type": "code",
   "execution_count": null,
   "metadata": {
    "collapsed": true
   },
   "outputs": [],
   "source": []
  }
 ],
 "metadata": {
  "kernelspec": {
   "display_name": "Python 3",
   "language": "python",
   "name": "python3"
  },
  "language_info": {
   "codemirror_mode": {
    "name": "ipython",
    "version": 3
   },
   "file_extension": ".py",
   "mimetype": "text/x-python",
   "name": "python",
   "nbconvert_exporter": "python",
   "pygments_lexer": "ipython3",
   "version": "3.4.3"
  }
 },
 "nbformat": 4,
 "nbformat_minor": 0
}
