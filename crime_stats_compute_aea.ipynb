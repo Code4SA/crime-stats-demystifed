{
 "cells": [
  {
   "cell_type": "markdown",
   "metadata": {
    "collapsed": false
   },
   "source": [
    "### Notation:\n",
    "- SAL- small area\n",
    "- PP- police precinct\n",
    "- AEA- Albers Equal Area Conic\n",
    "- CPS- crime per SAL "
   ]
  },
  {
   "cell_type": "code",
   "execution_count": 1,
   "metadata": {
    "collapsed": true
   },
   "outputs": [],
   "source": [
    "from random import shuffle, randint\n",
    "import numpy as np\n",
    "import matplotlib.pyplot as plt\n",
    "from matplotlib.collections import PatchCollection\n",
    "from mpl_toolkits.basemap import Basemap\n",
    "from shapely.geometry import Polygon, Point, MultiPoint, MultiPolygon, LineString, mapping, shape\n",
    "from descartes import PolygonPatch\n",
    "import random\n",
    "import fiona\n",
    "import numpy as np\n",
    "import csv\n",
    "from fiona import collection\n",
    "\n",
    "import geopandas as gpd\n",
    "from geopandas.tools import sjoin # rtree index in-build, used with inner, intersection\n",
    "import pandas as pd\n",
    "\n",
    "from collections import defaultdict"
   ]
  },
  {
   "cell_type": "raw",
   "metadata": {},
   "source": [
    "def sjoin(left_df, right_df, how='inner', op='intersects',\n",
    "          lsuffix='left', rsuffix='right', **kwargs):\n",
    "    \"\"\"Spatial join of two GeoDataFrames.\n",
    "    left_df, right_df are GeoDataFrames\n",
    "    how: type of join\n",
    "        left -> use keys from left_df; retain only left_df geometry column\n",
    "        right -> use keys from right_df; retain only right_df geometry column\n",
    "        inner -> use intersection of keys from both dfs;\n",
    "                 retain only left_df geometry column\n",
    "    op: binary predicate {'intersects', 'contains', 'within'}\n",
    "        see http://toblerity.org/shapely/manual.html#binary-predicates\n",
    "    lsuffix: suffix to apply to overlapping column names (left GeoDataFrame)\n",
    "    rsuffix: suffix to apply to overlapping column names (right GeoDataFrame)\n",
    "    \"\"\"\n"
   ]
  },
  {
   "cell_type": "code",
   "execution_count": null,
   "metadata": {
    "collapsed": false
   },
   "outputs": [],
   "source": [
    "def find_intersections(o):\n",
    "    \n",
    "    from collections import defaultdict\n",
    "\n",
    "    paired_ind = [o.pp_index, o.sal_index]\n",
    "\n",
    "    d_over_ind = defaultdict(list)\n",
    "\n",
    "    # creating a dictionary that has prescints as keys and associated small areas as values\n",
    "    for i in range(len(paired_ind[0].values)):\n",
    "        if not paired_ind[0].values[i]==paired_ind[1].values[i]: # it shows itself as intersection\n",
    "            d_over_ind[paired_ind[0].values[i]].append(paired_ind[1].values[i])\n",
    "\n",
    "    # get rid of the pol precincts with no small areas associated to them- not the most efficient way\n",
    "    d_temp = {}\n",
    "    for l in d_over_ind:\n",
    "        if len(d_over_ind[l]):\n",
    "            d_temp[l] = d_over_ind[l]\n",
    "\n",
    "    return d_temp\n",
    "    \n",
    "    \n",
    "def calculate_join_indices(g1_reind, g2_reind):\n",
    "\n",
    "        # A: region of the police data with criminal record\n",
    "        # C: small area with population data\n",
    "        # we look for all small areas intersecting a given C_i, calculate the fraction of inclusion, scale the\n",
    "        # population accordingly: area(A_j, where A_j crosses C_i)/area(A_j)* popul(A_j)\n",
    "        \n",
    "    \n",
    "        # the actual indexing:\n",
    "        out = sjoin(g1_reind, g2_reind, how =\"inner\", op = \"intersects\")\n",
    "        \n",
    "        out.drop('index_right', axis=1, inplace=True) # there is a double index fo smal areas, so we drop one\n",
    "        #out_sorted = out.sort(columns='polPrecincts_index', ascending=True) # guess sorting is not necessary, cause we are\n",
    "        # using doctionaries at later stages\n",
    "        #dict_over_ind = find_intersections(out_sorted)\n",
    "\n",
    "        # output retains only 1 area (left or right join), and gives no intersection area.\n",
    "        # so we create an array with paired indices: police precincts with associated small areas\n",
    "        # we use it in a loop in a function below\n",
    "        dict_over_ind = find_intersections(out) \n",
    "        \n",
    "        return dict_over_ind\n",
    "    \n",
    "def calculate_inclusion_indices(g1_reind, g2_reind):\n",
    "\n",
    "        out = sjoin(g1_reind, g2_reind, op = \"contains\") ## PP contains SAL\n",
    "        \n",
    "        out.drop('index_right', axis=1, inplace=True) \n",
    "        \n",
    "        dict_over_ind = find_intersections(out) \n",
    "        \n",
    "        return dict_over_ind\n",
    "    \n",
    "def calculate_join(dict_over_ind, g1_reind, g2_reind):\n",
    "        area_total = 0\n",
    "        data_aggreg = []\n",
    "\n",
    "        # note to self: make sure to import shapely Polygon\n",
    "        for index1, crim in g1_reind.iterrows():\n",
    "            try:\n",
    "                index1 = crim.pp_index\n",
    "                sals_found = dict_over_ind[index1]\n",
    "\n",
    "                for sal in range(len(sals_found)):\n",
    "                    pom = g2_reind[g2_reind.sal_index == sals_found[sal]]['geometry']        \n",
    "\n",
    "                    #if pom.intersects(crim['geometry']).values[0]:\n",
    "                    area_int = pom.intersection(crim['geometry']).area.values[0]\n",
    "                    if area_int>0:\n",
    "                        area_total += area_int \n",
    "                        area_crim = crim['geometry'].area\n",
    "\n",
    "                        area_popu = pom.values[0].area\n",
    "\n",
    "                        popu_count = g2_reind[g2_reind.sal_index == sals_found[sal]]['PPL_CNT'].values[0]\n",
    "                        murd_count = crim['murd_cnt']\n",
    "                        pol_province = crim['province']\n",
    "                        popu_frac = (area_int / area_popu) * popu_count# fraction of the pop area contained inside the crim\n",
    "                        #print(popu_frac)\n",
    "                        extra_info_col_names = ['DC_NAME','MN_NAME','MP_NAME','PR_NAME','SP_NAME']\n",
    "                        \n",
    "                        extra_info_col_codes = ['MN_CODE','MP_CODE','PR_CODE','SAL_CODE','SP_CODE']\n",
    "\n",
    "                        extra_names = g2_reind[g2_reind.sal_index == sals_found[sal]][extra_info_col_names]#.filter(regex=(\"NAME\"))\n",
    "                        extra_codes = g2_reind[g2_reind.sal_index == sals_found[sal]][extra_info_col_codes]#.filter(regex=(\"NAME\"))\n",
    "\n",
    "                        data_aggreg.append({'geometry': pom.intersection(crim['geometry']).values[0], 'id1': index1,\\\n",
    "                                      'id2': sals_found[sal] ,'area_pp': area_crim,'area_sal': area_popu,\\\n",
    "                                  'area_inter': area_int, 'popu_inter' : popu_frac, 'popu_sal': popu_count,\\\n",
    "                                  'murd_cnt': murd_count,'province': pol_province,\n",
    "                                  'DC_NAME': extra_names.DC_NAME.values[0],\\\n",
    "                                  'MN_NAME': extra_names.MN_NAME.values[0], 'MP_NAME': extra_names.MP_NAME.values[0],\\\n",
    "                                  'PR_NAME': extra_names.PR_NAME.values[0],'SP_NAME': extra_names.SP_NAME.values[0],\\\n",
    "                                  'MN_CODE': extra_codes.MN_CODE.values[0],'MP_CODE': extra_codes.MP_CODE.values[0],\\\n",
    "                                  'PR_CODE': extra_codes.PR_CODE.values[0],'SAL_CODE': extra_codes.SAL_CODE.values[0],\\\n",
    "                                  'SP_CODE': extra_codes.SP_CODE.values[0]} )\n",
    "            except:\n",
    "                pass\n",
    "            \n",
    "        df_t = gpd.GeoDataFrame(data_aggreg,columns=['geometry', 'id1','id2','area_pp',\\\n",
    "                                       'area_sal','area_inter', 'popu_inter',\\\n",
    "                                       'popu_sal', 'murd_cnt','province','DC_NAME',\\\n",
    "                                       'MN_NAME','MP_NAME','PR_NAME','SP_NAME',\\\n",
    "                                      'MN_CODE','MP_CODE','PR_CODE','SAL_CODE','SP_CODE'])\n",
    "        #df_t.to_file(out_name)\n",
    "        return df_t, area_total, data_aggreg"
   ]
  },
  {
   "cell_type": "code",
   "execution_count": null,
   "metadata": {
    "collapsed": true
   },
   "outputs": [],
   "source": [
    "# this function adds the remaining columns, calculates fractions etc\n",
    "def compute_final_col(df_temp):\n",
    "    # add population data per police percinct to the main table\n",
    "    # id1- PP, id2 - SAL\n",
    "    temp = df_temp.groupby(by=['id1'])['popu_inter'].sum().reset_index()\n",
    "\n",
    "    data_with_population = pd.merge(df_temp, temp, on='id1', how='outer')\\\n",
    "            .rename(columns={'popu_inter_y':'popu_frac_per_pp', 'popu_inter_x':'popu_inter'})\n",
    "\n",
    "    # finally, update the murder rate per SAL : id2 is sal's id    \n",
    "\n",
    "    data_with_population['murd_est_per_int'] = data_with_population['popu_inter']/data_with_population['popu_frac_per_pp']\\\n",
    "               * data_with_population['murd_cnt']\n",
    "    data_mur_per_int = data_with_population.groupby(by=['id2'])['murd_est_per_int'].sum().reset_index()\n",
    "\n",
    "    data_mur_per_sal = data_mur_per_int.rename(columns={'murd_est_per_int':'murd_est_per_sal'})\n",
    "\n",
    "    data_with_population['ratio_per_int'] = data_with_population['popu_inter']/data_with_population['popu_frac_per_pp']\\\n",
    "\n",
    "    data_complete = pd.merge(data_with_population, data_mur_per_sal, on='id2', how='outer')\\\n",
    "            .rename(columns={'id1':'index_PP', 'id2':'index_SAL'})\n",
    "    return data_complete\n"
   ]
  },
  {
   "cell_type": "markdown",
   "metadata": {},
   "source": [
    "Main functions to find intersection. Files loaded in are the AEA projected shapefiles."
   ]
  },
  {
   "cell_type": "code",
   "execution_count": 124,
   "metadata": {
    "collapsed": false
   },
   "outputs": [],
   "source": [
    "salSHP_upd = 'shapefiles/updated/sal_population_aea.shp'\n",
    "polSHP_upd = 'shapefiles/updated/polPrec_murd2015_prov_aea.shp'\n",
    "\n",
    "geo_pol = gpd.GeoDataFrame.from_file(polSHP_upd)\n",
    "geo_sal = gpd.GeoDataFrame.from_file(salSHP_upd)\n",
    "\n",
    "geo_pol_reind = geo_pol.reset_index().rename(columns={'index':'pp_index'})\n",
    "geo_sal_reind = geo_sal.reset_index().rename(columns={'index':'sal_index'})\n",
    "\n",
    "#dict_int = calculate_join_indices(geo_pol_reind,geo_sal_reind)"
   ]
  },
  {
   "cell_type": "markdown",
   "metadata": {},
   "source": [
    "test on a subset:"
   ]
  },
  {
   "cell_type": "code",
   "execution_count": null,
   "metadata": {
    "collapsed": false,
    "scrolled": true
   },
   "outputs": [],
   "source": [
    "gt1= geo_pol_reind[geo_pol.province==\"Free State\"].head(n=2)\n",
    "gt2 = geo_sal_reind[geo_sal_reind.PR_NAME==\"Free State\"].reset_index()\n",
    "d = calculate_join_indices(gt1, gt2)"
   ]
  },
  {
   "cell_type": "markdown",
   "metadata": {},
   "source": [
    "Running the intersections on pre-computed indices:"
   ]
  },
  {
   "cell_type": "code",
   "execution_count": null,
   "metadata": {
    "collapsed": false
   },
   "outputs": [],
   "source": [
    "from timeit import default_timer as timer\n",
    "\n",
    "#start = timer() \n",
    "\n",
    "#df_inc, sum_area_inc, data_inc = calculate_join(dict_inc, geo_pol_reind, geo_sal_reind)\n",
    "#end = timer()\n",
    "#print(\"1st\", end - start)  \n",
    "\n",
    "start = timer() \n",
    "df_int, sum_area_int, data_int = calculate_join(dict_int, geo_pol_reind, geo_sal_reind)\n",
    "end = timer()\n",
    "print(\"2nd\", end - start)  "
   ]
  },
  {
   "cell_type": "markdown",
   "metadata": {},
   "source": [
    "find pol precincts within WC boundary"
   ]
  },
  {
   "cell_type": "code",
   "execution_count": null,
   "metadata": {
    "collapsed": false
   },
   "outputs": [],
   "source": [
    "za_province = gpd.read_file('za-provinces.topojson',driver='GeoJSON')#.set_index('id')\n",
    "za_province.crs={'init': '27700'}\n",
    "\n",
    "wc_boundary = za_province.ix[8].geometry # WC\n",
    "#pp_WC = geo_pol[geo_pol.geometry.within(wc_boundary)]\n",
    "pp_WC_in = geo_pol[geo_pol.geometry.intersects(wc_boundary)]\n",
    "#.unary_union, sal_wc_union_bound = sal_WC_in.unary_union\n",
    "pp_WC_overlaps = pp_WC_in[pp_WC_in.province!=\"Western Cape\"]\n",
    "pp_WC_pol_annot = pp_WC_in[pp_WC_in.province==\"Western Cape\"]"
   ]
  },
  {
   "cell_type": "code",
   "execution_count": null,
   "metadata": {
    "collapsed": false
   },
   "outputs": [],
   "source": [
    "#pp_test = pp_WC_in[pp_WC_in['compnt_nm'].isin(['atlantis','philadelphia','kraaifontein','brackenfell','kuilsriver','kleinvleveerste river','macassar','somerset west','fish hoek'])]\n",
    "#pp_test = pp_WC_in[pp_WC_in['compnt_nm'].isin(['beaufort west','doring bay','murraysburg', 'strandfontein','nuwerus','lutzville'])]\n",
    "%matplotlib inline\n",
    "#pp_WC_overlaps.plot()"
   ]
  },
  {
   "cell_type": "markdown",
   "metadata": {},
   "source": [
    "Adding final columns:"
   ]
  },
  {
   "cell_type": "code",
   "execution_count": null,
   "metadata": {
    "collapsed": false
   },
   "outputs": [],
   "source": [
    "# There are 101,546 intersections \n",
    "df_int_aea = compute_final_col(df_int) # add final calculations\n",
    "df_int_aea.to_csv('data/pp_int_intersections2.csv')"
   ]
  },
  {
   "cell_type": "markdown",
   "metadata": {},
   "source": [
    "Some intersections are multipolygons (PP and SAL intersect in multiple areas):"
   ]
  },
  {
   "cell_type": "code",
   "execution_count": null,
   "metadata": {
    "collapsed": false
   },
   "outputs": [],
   "source": [
    "df_int_aea.head(n=3).values[2][0]"
   ]
  },
  {
   "cell_type": "markdown",
   "metadata": {},
   "source": [
    "There are curious cases of intersections, which form polygons. For example,a Free State police precinct 'dewetsdorp' with murder count of 1 (yet high rate of Stock-theft- 52 in 2014) intersects the SAL 4990011 (part of SP Mangaung NU) in two lines:"
   ]
  },
  {
   "cell_type": "code",
   "execution_count": 123,
   "metadata": {
    "collapsed": false
   },
   "outputs": [
    {
     "ename": "NameError",
     "evalue": "name 'geo_sal_reind' is not defined",
     "output_type": "error",
     "traceback": [
      "\u001b[0;31m---------------------------------------------------------------------------\u001b[0m",
      "\u001b[0;31mNameError\u001b[0m                                 Traceback (most recent call last)",
      "\u001b[0;32m<ipython-input-123-01b3ad205683>\u001b[0m in \u001b[0;36m<module>\u001b[0;34m()\u001b[0m\n\u001b[0;32m----> 1\u001b[0;31m \u001b[0mgeo_sal_reind\u001b[0m\u001b[0;34m[\u001b[0m\u001b[0mgeo_sal_reind\u001b[0m\u001b[0;34m.\u001b[0m\u001b[0msal_index\u001b[0m\u001b[0;34m==\u001b[0m\u001b[0;36m28532\u001b[0m\u001b[0;34m]\u001b[0m\u001b[0;34m.\u001b[0m\u001b[0mgeometry\u001b[0m\u001b[0;34m.\u001b[0m\u001b[0mvalues\u001b[0m\u001b[0;34m[\u001b[0m\u001b[0;36m0\u001b[0m\u001b[0;34m]\u001b[0m\u001b[0;34m\u001b[0m\u001b[0m\n\u001b[0m",
      "\u001b[0;31mNameError\u001b[0m: name 'geo_sal_reind' is not defined"
     ]
    }
   ],
   "source": [
    "geo_sal_reind[geo_sal_reind.sal_index==28532].geometry.values[0]"
   ]
  },
  {
   "cell_type": "code",
   "execution_count": null,
   "metadata": {
    "collapsed": false
   },
   "outputs": [],
   "source": [
    "geo_pol_reind[geo_pol_reind.pp_index ==358].geometry.values[0]"
   ]
  },
  {
   "cell_type": "code",
   "execution_count": null,
   "metadata": {
    "collapsed": false
   },
   "outputs": [],
   "source": [
    "a = geo_pol_reind[geo_pol_reind.pp_index ==358].geometry.values[0]\n",
    "b= geo_sal_reind[geo_sal_reind.sal_index==28532].geometry.values[0]\n",
    "c = [geo_pol_reind[geo_pol_reind.pp_index ==358].geometry.values[0],geo_sal_reind[geo_sal_reind.sal_index==28532].geometry.values[0]]\n",
    "cascaded_union(c)\n"
   ]
  },
  {
   "cell_type": "code",
   "execution_count": null,
   "metadata": {
    "collapsed": false
   },
   "outputs": [],
   "source": [
    "from shapely.ops import cascaded_union\n",
    "cascaded_union(b)"
   ]
  },
  {
   "cell_type": "code",
   "execution_count": null,
   "metadata": {
    "collapsed": false
   },
   "outputs": [],
   "source": [
    "geo_sal_reind[geo_sal_reind.sal_index==28532]"
   ]
  },
  {
   "cell_type": "code",
   "execution_count": null,
   "metadata": {
    "collapsed": false
   },
   "outputs": [],
   "source": [
    "df_int_aea.to_file('data/pp_int_intersections.shp')"
   ]
  },
  {
   "cell_type": "code",
   "execution_count": 2,
   "metadata": {
    "collapsed": false
   },
   "outputs": [],
   "source": [
    "# When reading from a file\"\n",
    "\n",
    "import pandas as pd\n",
    "df_int_aea = pd.read_csv('data/pp_int_intersections.csv')   \n",
    "\n",
    "# when reading from file a column Unnamed is added. Needs to be removed.\n",
    "cols = [c for c in df_int_aea.columns if c.lower()[:7] != 'unnamed']\n",
    "\n",
    "df_int_aea=df_int_aea[cols]"
   ]
  },
  {
   "cell_type": "code",
   "execution_count": 3,
   "metadata": {
    "collapsed": false
   },
   "outputs": [
    {
     "data": {
      "text/html": [
       "<div>\n",
       "<table border=\"1\" class=\"dataframe\">\n",
       "  <thead>\n",
       "    <tr style=\"text-align: right;\">\n",
       "      <th></th>\n",
       "      <th>geometry</th>\n",
       "      <th>index_PP</th>\n",
       "      <th>index_SAL</th>\n",
       "      <th>area_pp</th>\n",
       "      <th>area_sal</th>\n",
       "      <th>area_inter</th>\n",
       "      <th>popu_inter</th>\n",
       "      <th>popu_sal</th>\n",
       "      <th>murd_cnt</th>\n",
       "      <th>province</th>\n",
       "      <th>...</th>\n",
       "      <th>SP_NAME</th>\n",
       "      <th>MN_CODE</th>\n",
       "      <th>MP_CODE</th>\n",
       "      <th>PR_CODE</th>\n",
       "      <th>SAL_CODE</th>\n",
       "      <th>SP_CODE</th>\n",
       "      <th>popu_frac_per_pp</th>\n",
       "      <th>murd_est_per_int</th>\n",
       "      <th>ratio_per_int</th>\n",
       "      <th>murd_est_per_sal</th>\n",
       "    </tr>\n",
       "  </thead>\n",
       "  <tbody>\n",
       "    <tr>\n",
       "      <th>0</th>\n",
       "      <td>MULTIPOLYGON (((179538.273068833 -3355106.7785...</td>\n",
       "      <td>0</td>\n",
       "      <td>28532</td>\n",
       "      <td>5.539637e+07</td>\n",
       "      <td>1.981387e+08</td>\n",
       "      <td>17779.878339</td>\n",
       "      <td>0.00323</td>\n",
       "      <td>36</td>\n",
       "      <td>25</td>\n",
       "      <td>Free State</td>\n",
       "      <td>...</td>\n",
       "      <td>Mangaung NU</td>\n",
       "      <td>499</td>\n",
       "      <td>499002</td>\n",
       "      <td>4</td>\n",
       "      <td>4990011</td>\n",
       "      <td>499002001</td>\n",
       "      <td>81883.390378</td>\n",
       "      <td>9.862935e-07</td>\n",
       "      <td>3.945174e-08</td>\n",
       "      <td>0.011461</td>\n",
       "    </tr>\n",
       "    <tr>\n",
       "      <th>1</th>\n",
       "      <td>POLYGON ((176023.3021776396 -3358404.039455506...</td>\n",
       "      <td>26</td>\n",
       "      <td>28532</td>\n",
       "      <td>2.809204e+08</td>\n",
       "      <td>1.981387e+08</td>\n",
       "      <td>3081.161637</td>\n",
       "      <td>0.00056</td>\n",
       "      <td>36</td>\n",
       "      <td>28</td>\n",
       "      <td>Free State</td>\n",
       "      <td>...</td>\n",
       "      <td>Mangaung NU</td>\n",
       "      <td>499</td>\n",
       "      <td>499002</td>\n",
       "      <td>4</td>\n",
       "      <td>4990011</td>\n",
       "      <td>499002001</td>\n",
       "      <td>99917.864180</td>\n",
       "      <td>1.568782e-07</td>\n",
       "      <td>5.602792e-09</td>\n",
       "      <td>0.011461</td>\n",
       "    </tr>\n",
       "  </tbody>\n",
       "</table>\n",
       "<p>2 rows × 24 columns</p>\n",
       "</div>"
      ],
      "text/plain": [
       "                                            geometry  index_PP  index_SAL  \\\n",
       "0  MULTIPOLYGON (((179538.273068833 -3355106.7785...         0      28532   \n",
       "1  POLYGON ((176023.3021776396 -3358404.039455506...        26      28532   \n",
       "\n",
       "        area_pp      area_sal    area_inter  popu_inter  popu_sal  murd_cnt  \\\n",
       "0  5.539637e+07  1.981387e+08  17779.878339     0.00323        36        25   \n",
       "1  2.809204e+08  1.981387e+08   3081.161637     0.00056        36        28   \n",
       "\n",
       "     province        ...             SP_NAME MN_CODE MP_CODE PR_CODE SAL_CODE  \\\n",
       "0  Free State        ...         Mangaung NU     499  499002       4  4990011   \n",
       "1  Free State        ...         Mangaung NU     499  499002       4  4990011   \n",
       "\n",
       "     SP_CODE  popu_frac_per_pp  murd_est_per_int  ratio_per_int  \\\n",
       "0  499002001      81883.390378      9.862935e-07   3.945174e-08   \n",
       "1  499002001      99917.864180      1.568782e-07   5.602792e-09   \n",
       "\n",
       "   murd_est_per_sal  \n",
       "0          0.011461  \n",
       "1          0.011461  \n",
       "\n",
       "[2 rows x 24 columns]"
      ]
     },
     "execution_count": 3,
     "metadata": {},
     "output_type": "execute_result"
    }
   ],
   "source": [
    "df_int_aea.head(n=2)"
   ]
  },
  {
   "cell_type": "code",
   "execution_count": 4,
   "metadata": {
    "collapsed": false
   },
   "outputs": [
    {
     "data": {
      "text/plain": [
       "province\n",
       "0                   0\n",
       "Eastern Cape     3051\n",
       "Free State        943\n",
       "Gauteng          3671\n",
       "Kwazulu/Natal    3759\n",
       "Limpopo           777\n",
       "Mpumalanga        831\n",
       "North West        853\n",
       "Northern Cape     411\n",
       "Western Cape     3186\n",
       "Name: murd_est_per_int, dtype: float64"
      ]
     },
     "execution_count": 4,
     "metadata": {},
     "output_type": "execute_result"
    }
   ],
   "source": [
    "data_prov = df_int_aea[['PR_NAME','province','murd_est_per_int']]\n",
    "data_prov.groupby('province')['murd_est_per_int'].sum()"
   ]
  },
  {
   "cell_type": "code",
   "execution_count": null,
   "metadata": {
    "collapsed": false
   },
   "outputs": [],
   "source": [
    "data_prov.groupby('PR_NAME')['murd_est_per_int'].sum()"
   ]
  },
  {
   "cell_type": "code",
   "execution_count": null,
   "metadata": {
    "collapsed": false
   },
   "outputs": [],
   "source": [
    "# check over small areas- sum of all the crimes should be 17482\n",
    "pom = {}\n",
    "for ind, row in df_inc_aea.iterrows():\n",
    "    pom[row['index_SAL']] = row['murd_est_per_sal'] \n",
    "s=0\n",
    "for key in pom:\n",
    "    s = s + pom[key]\n",
    "print(s)"
   ]
  },
  {
   "cell_type": "markdown",
   "metadata": {},
   "source": [
    "## measuring the error of the 'CPS' estimate\n",
    "Computing the lower (LB) and upper bounds (UB), wherever possible, is done the following way:\n",
    "UB: based the calcualation of population per PP on all SALs included entirely within PP. If not possible, set to NaN\n",
    "LB: find all SALs intersecting a given PP, but base the PP population estimation on the population of the entire SAL, not the population of the intersection.\n",
    "\n",
    "As a result, each intersection will have a triplet of values associated to it: (LB, actual estimate, UB/NaN). The bounds are not additive- that is, the estimates applies only to the level of SAL area, and will not be maintained when summed over, e.g. SP or MN"
   ]
  },
  {
   "cell_type": "markdown",
   "metadata": {},
   "source": [
    "For modyfying/selecting entries for bound estimation, we discard the last 4 columns \n",
    "with precomputed values"
   ]
  },
  {
   "cell_type": "code",
   "execution_count": 4,
   "metadata": {
    "collapsed": false
   },
   "outputs": [],
   "source": [
    "df_int=df_int_aea.ix[:,:20]"
   ]
  },
  {
   "cell_type": "code",
   "execution_count": 5,
   "metadata": {
    "collapsed": false
   },
   "outputs": [],
   "source": [
    "# this function adds the remaining columns, calculates fractions etc\n",
    "def compute_final_col_bounds(df_aea):\n",
    "\n",
    "    #recalculate pop frac per PP\n",
    "    temp = df_aea.groupby(by=['index_PP'])['popu_inter'].sum().reset_index()\n",
    "    data_with_population = pd.merge(df_aea, temp, on='index_PP', how='outer')\\\n",
    "            .rename(columns={'popu_inter_y':'popu_frac_per_pp', 'popu_inter_x':'popu_inter'})\n",
    "\n",
    "    data_with_population['murd_est_per_int'] = data_with_population['popu_inter']/data_with_population['popu_frac_per_pp']\\\n",
    "               * data_with_population['murd_cnt']\n",
    "    \n",
    "    data_mur_per_int = data_with_population.groupby(by=['index_SAL'])['murd_est_per_int'].sum().reset_index()\n",
    "\n",
    "    data_mur_per_sal = data_mur_per_int.rename(columns={'murd_est_per_int':'murd_est_per_sal'})\n",
    "\n",
    "    data_with_population['ratio_per_int'] = data_with_population['popu_inter']/data_with_population['popu_frac_per_pp']\\\n",
    "\n",
    "    data_complete = pd.merge(data_with_population, data_mur_per_sal, on='index_SAL', how='outer')\n",
    "    #\\        .rename(columns={'id1':'index_PP', 'id2':'index_SAL'})\n",
    "    return data_complete"
   ]
  },
  {
   "cell_type": "markdown",
   "metadata": {},
   "source": [
    "create new tables for the LB and UB"
   ]
  },
  {
   "cell_type": "code",
   "execution_count": 6,
   "metadata": {
    "collapsed": false
   },
   "outputs": [],
   "source": [
    "list_lb =[]\n",
    "list_ub = []\n",
    "for i,entry in df_int.iterrows():#f_inc_aea:\n",
    "    if (entry.area_inter/entry.area_sal==1): # select those included 'completely'\n",
    "        list_ub.append(entry)\n",
    "        \n",
    "    entry.popu_inter = entry.popu_sal # this is actually already true for the above if() case\n",
    "    list_lb.append(entry)\n",
    "        \n",
    "df_int_aea_ub_p=gpd.GeoDataFrame(list_ub)\n",
    "df_int_aea_lb_p=gpd.GeoDataFrame(list_lb)\n"
   ]
  },
  {
   "cell_type": "code",
   "execution_count": 8,
   "metadata": {
    "collapsed": false
   },
   "outputs": [],
   "source": [
    "df_int_aea_lb = compute_final_col_bounds(df_int_aea_lb_p)\\\n",
    "      .rename(columns={'murd_est_per_int':'murd_est_per_int_lb',\\\n",
    "      'ratio_per_int':'ratio_per_int_lb','murd_est_per_sal':'murd_est_per_sal_lb'})\n",
    "# complete\n",
    "df_int_aea_ub = compute_final_col_bounds(df_int_aea_ub_p)\\\n",
    "      .rename(columns={'murd_est_per_int':'murd_est_per_int_ub',\\\n",
    "      'ratio_per_int':'ratio_per_int_ub','murd_est_per_sal':'murd_est_per_sal_ub'})"
   ]
  },
  {
   "cell_type": "code",
   "execution_count": 9,
   "metadata": {
    "collapsed": false
   },
   "outputs": [
    {
     "data": {
      "text/plain": [
       "province\n",
       "0                   0\n",
       "Eastern Cape     3047\n",
       "Free State        940\n",
       "Gauteng          3670\n",
       "Kwazulu/Natal    3758\n",
       "Limpopo           777\n",
       "Mpumalanga        830\n",
       "North West        846\n",
       "Northern Cape     410\n",
       "Western Cape     3186\n",
       "Name: murd_est_per_int_ub, dtype: float64"
      ]
     },
     "execution_count": 9,
     "metadata": {},
     "output_type": "execute_result"
    }
   ],
   "source": [
    "#check if numbers add up per province level (invariant for inclusion):\n",
    "data_prov = df_int_aea_ub[['PR_NAME','province','murd_est_per_int_ub']]\n",
    "data_prov.groupby('province')['murd_est_per_int_ub'].sum()"
   ]
  },
  {
   "cell_type": "code",
   "execution_count": 9,
   "metadata": {
    "collapsed": true
   },
   "outputs": [],
   "source": [
    "temp_ub = df_int_aea_ub.groupby(by=['SP_CODE'])['murd_est_per_int_ub'].sum().reset_index()\n",
    "temp_lb = df_int_aea_lb.groupby(by=['SP_CODE'])['murd_est_per_int_lb'].sum().reset_index()\n",
    "temp_est = df_int_aea.groupby(by=['SP_CODE'])['murd_est_per_int'].sum().reset_index()\n",
    "temp = pd.merge(temp_lb, temp_est, on='SP_CODE', how='outer')\n",
    "df_bounds = pd.merge(temp, temp_ub, on='SP_CODE', how='outer')"
   ]
  },
  {
   "cell_type": "markdown",
   "metadata": {},
   "source": [
    "At the level of SP (and probably others) some bounds are inverted... UB < LB (2,242 out of 21,589)"
   ]
  },
  {
   "cell_type": "code",
   "execution_count": 11,
   "metadata": {
    "collapsed": false
   },
   "outputs": [],
   "source": [
    "#mn_bounds_def = mn_bounds[~mn_bounds.UB_murder.isnull()]\n",
    "df_inv_bounds = df_bounds[df_bounds.murd_est_per_int_ub<df_bounds.murd_est_per_int_lb]"
   ]
  },
  {
   "cell_type": "code",
   "execution_count": 12,
   "metadata": {
    "collapsed": false
   },
   "outputs": [
    {
     "data": {
      "text/html": [
       "<div>\n",
       "<table border=\"1\" class=\"dataframe\">\n",
       "  <thead>\n",
       "    <tr style=\"text-align: right;\">\n",
       "      <th></th>\n",
       "      <th>SP_CODE</th>\n",
       "      <th>murd_est_per_int_lb</th>\n",
       "      <th>murd_est_per_int</th>\n",
       "      <th>murd_est_per_int_ub</th>\n",
       "    </tr>\n",
       "  </thead>\n",
       "  <tbody>\n",
       "    <tr>\n",
       "      <th>21524</th>\n",
       "      <td>987105001</td>\n",
       "      <td>0.868886</td>\n",
       "      <td>0.486138</td>\n",
       "      <td>0.157929</td>\n",
       "    </tr>\n",
       "    <tr>\n",
       "      <th>21573</th>\n",
       "      <td>987147001</td>\n",
       "      <td>1.319127</td>\n",
       "      <td>1.119528</td>\n",
       "      <td>0.709489</td>\n",
       "    </tr>\n",
       "    <tr>\n",
       "      <th>21577</th>\n",
       "      <td>987151001</td>\n",
       "      <td>0.829423</td>\n",
       "      <td>0.622390</td>\n",
       "      <td>0.444365</td>\n",
       "    </tr>\n",
       "    <tr>\n",
       "      <th>21584</th>\n",
       "      <td>987158001</td>\n",
       "      <td>0.288028</td>\n",
       "      <td>0.304164</td>\n",
       "      <td>0.260411</td>\n",
       "    </tr>\n",
       "    <tr>\n",
       "      <th>21586</th>\n",
       "      <td>987160001</td>\n",
       "      <td>0.118429</td>\n",
       "      <td>0.085994</td>\n",
       "      <td>0.046607</td>\n",
       "    </tr>\n",
       "  </tbody>\n",
       "</table>\n",
       "</div>"
      ],
      "text/plain": [
       "         SP_CODE  murd_est_per_int_lb  murd_est_per_int  murd_est_per_int_ub\n",
       "21524  987105001             0.868886          0.486138             0.157929\n",
       "21573  987147001             1.319127          1.119528             0.709489\n",
       "21577  987151001             0.829423          0.622390             0.444365\n",
       "21584  987158001             0.288028          0.304164             0.260411\n",
       "21586  987160001             0.118429          0.085994             0.046607"
      ]
     },
     "execution_count": 12,
     "metadata": {},
     "output_type": "execute_result"
    }
   ],
   "source": [
    "df_inv_bounds.tail()"
   ]
  },
  {
   "cell_type": "code",
   "execution_count": 10,
   "metadata": {
    "collapsed": true
   },
   "outputs": [],
   "source": [
    "temp_ub = df_int_aea_ub.groupby(by=['SAL_CODE'])['murd_est_per_int_ub'].sum().reset_index()\n",
    "temp_lb = df_int_aea_lb.groupby(by=['SAL_CODE'])['murd_est_per_int_lb'].sum().reset_index()\n",
    "temp_est = df_int_aea.groupby(by=['SAL_CODE'])['murd_est_per_int'].sum().reset_index()\n",
    "\n",
    "#       .rename(columns={'popu_inter_y':'popu_frac_per_pp', 'popu_inter_x':'popu_inter'})"
   ]
  },
  {
   "cell_type": "code",
   "execution_count": 62,
   "metadata": {
    "collapsed": false
   },
   "outputs": [],
   "source": [
    "temp = pd.merge(temp_lb, temp_est, on='SAL_CODE', how='outer')\n",
    "df_bounds = pd.merge(temp, temp_ub, on='SAL_CODE', how='outer')"
   ]
  },
  {
   "cell_type": "code",
   "execution_count": null,
   "metadata": {
    "collapsed": true
   },
   "outputs": [],
   "source": [
    "mn_names_set = set(df_int_aea_lb.MN_NAME)\n",
    "mn_names = []\n",
    "for s in mn_names_set:\n",
    "    mn_names.append(s)"
   ]
  },
  {
   "cell_type": "code",
   "execution_count": 66,
   "metadata": {
    "collapsed": false
   },
   "outputs": [
    {
     "data": {
      "text/html": [
       "<div>\n",
       "<table border=\"1\" class=\"dataframe\">\n",
       "  <thead>\n",
       "    <tr style=\"text-align: right;\">\n",
       "      <th></th>\n",
       "      <th>SAL_CODE</th>\n",
       "      <th>murd_est_per_int_lb</th>\n",
       "      <th>murd_est_per_int</th>\n",
       "      <th>murd_est_per_int_ub</th>\n",
       "    </tr>\n",
       "  </thead>\n",
       "  <tbody>\n",
       "    <tr>\n",
       "      <th>0</th>\n",
       "      <td>1600001</td>\n",
       "      <td>2.549157</td>\n",
       "      <td>1.969173</td>\n",
       "      <td>NaN</td>\n",
       "    </tr>\n",
       "    <tr>\n",
       "      <th>1</th>\n",
       "      <td>1600002</td>\n",
       "      <td>0.455872</td>\n",
       "      <td>0.586146</td>\n",
       "      <td>0.690684</td>\n",
       "    </tr>\n",
       "  </tbody>\n",
       "</table>\n",
       "</div>"
      ],
      "text/plain": [
       "   SAL_CODE  murd_est_per_int_lb  murd_est_per_int  murd_est_per_int_ub\n",
       "0   1600001             2.549157          1.969173                  NaN\n",
       "1   1600002             0.455872          0.586146             0.690684"
      ]
     },
     "execution_count": 66,
     "metadata": {},
     "output_type": "execute_result"
    }
   ],
   "source": [
    "df_bounds.head(n=2)"
   ]
  },
  {
   "cell_type": "code",
   "execution_count": 76,
   "metadata": {
    "collapsed": false
   },
   "outputs": [],
   "source": [
    "df_bound_nonan = df_bounds[~df_bounds.murd_est_per_int_ub.isnull()&df_bounds.murd_est_per_int>0].sort(['murd_est_per_int'])"
   ]
  },
  {
   "cell_type": "markdown",
   "metadata": {},
   "source": [
    "Plotting the lower and upper bounds:"
   ]
  },
  {
   "cell_type": "code",
   "execution_count": 27,
   "metadata": {
    "collapsed": true
   },
   "outputs": [],
   "source": [
    "import warnings\n",
    "warnings.filterwarnings('ignore')\n",
    "import mpld3\n",
    "from mpld3 import plugins\n",
    "from mpld3.utils import get_id\n",
    "#import numpy as np\n",
    "import collections\n",
    "\n",
    "from mpld3 import enable_notebook\n",
    "enable_notebook()"
   ]
  },
  {
   "cell_type": "code",
   "execution_count": 96,
   "metadata": {
    "collapsed": false
   },
   "outputs": [],
   "source": [
    "def make_labels_points(dataf):\n",
    "    L = len(dataf)\n",
    "\n",
    "    x = np.array(dataf['murd_est_per_int_lb'])                  \n",
    "    y = np.array(dataf['murd_est_per_int_ub'])\n",
    "    z = np.array(dataf['murd_est_per_int'])\n",
    "    l = np.array(dataf['SAL_CODE'])  \n",
    "    d = y-x # error\n",
    "    \n",
    "    s = \"  \"\n",
    "    sc = \", err: \"\n",
    "    seq = []\n",
    "    seqc = []\n",
    "\n",
    "  \n",
    "    t = [seq.append(s.join((str(l[i]), str(z[i])))) for i in range(L)]\n",
    "    t = [seqc.append(sc.join((seq[i], str(d[i])))) for i in range(L)]\n",
    "\n",
    "    return seqc, L"
   ]
  },
  {
   "cell_type": "code",
   "execution_count": 108,
   "metadata": {
    "collapsed": false
   },
   "outputs": [],
   "source": [
    "def make_scatter(dataf, outname, outtitle):\n",
    "    l = np.array(dataf['SAL_CODE'])  \n",
    "    x = np.array(dataf['murd_est_per_int_lb'])                  \n",
    "    y = np.array(dataf['murd_est_per_int_ub'])\n",
    "    z = np.array(dataf['murd_est_per_int'])\n",
    "    d = y-x # error\n",
    "    \n",
    "    # build a rectangle in axes coords\n",
    "    left, width = .15, .7\n",
    "    bottom, height = .09, .75\n",
    "    right = left + width\n",
    "    top = bottom + height\n",
    "\n",
    "    fig, ax = plt.subplots(subplot_kw=dict(axisbg='#EEEEEE'))\n",
    "    N=len(dataf)\n",
    "    scatter = ax.scatter(range(1,N+1),z,c=100*d,s=1000*d,alpha=0.3, cmap=plt.cm.jet, color='blue', label='...')\n",
    "    ax.set_title(outtitle, size=15)\n",
    "    \n",
    "    seqc, L = make_labels_points(dataf)\n",
    "    labels12 = ['(SAL id, est: {0}'.format(seqc[i]) for i in range(L)]\n",
    "\n",
    "    tooltip = plugins.PointLabelTooltip(scatter, labels=labels12)\n",
    "    plugins.connect(fig, tooltip)\n",
    "    \n",
    "    ax.set_xlabel('SAL')\n",
    "    ax.set_ylabel('murder rate', labelpad = 20)\n",
    " \n",
    "    html_str = mpld3.fig_to_html(fig)\n",
    "    Html_file= open(outname,\"w\")\n",
    "    Html_file.write(html_str)\n",
    "    Html_file.close()"
   ]
  },
  {
   "cell_type": "code",
   "execution_count": 109,
   "metadata": {
    "collapsed": false
   },
   "outputs": [],
   "source": [
    "make_scatter(df_bound_nonan.head(n=8000), 'bounds.html', \"SAL estimation bounds\")"
   ]
  },
  {
   "cell_type": "code",
   "execution_count": 116,
   "metadata": {
    "collapsed": false
   },
   "outputs": [
    {
     "data": {
      "text/html": [
       "<div>\n",
       "<table border=\"1\" class=\"dataframe\">\n",
       "  <thead>\n",
       "    <tr style=\"text-align: right;\">\n",
       "      <th></th>\n",
       "      <th>SAL_CODE</th>\n",
       "      <th>murd_est_per_int_lb</th>\n",
       "      <th>murd_est_per_int</th>\n",
       "      <th>murd_est_per_int_ub</th>\n",
       "    </tr>\n",
       "  </thead>\n",
       "  <tbody>\n",
       "    <tr>\n",
       "      <th>23425</th>\n",
       "      <td>3760001</td>\n",
       "      <td>0.007108</td>\n",
       "      <td>0.033304</td>\n",
       "      <td>1</td>\n",
       "    </tr>\n",
       "  </tbody>\n",
       "</table>\n",
       "</div>"
      ],
      "text/plain": [
       "       SAL_CODE  murd_est_per_int_lb  murd_est_per_int  murd_est_per_int_ub\n",
       "23425   3760001             0.007108          0.033304                    1"
      ]
     },
     "execution_count": 116,
     "metadata": {},
     "output_type": "execute_result"
    }
   ],
   "source": [
    "df_bound_nonan[df_bound_nonan.SAL_CODE==3760001]"
   ]
  },
  {
   "cell_type": "code",
   "execution_count": 117,
   "metadata": {
    "collapsed": false
   },
   "outputs": [
    {
     "data": {
      "text/html": [
       "<div>\n",
       "<table border=\"1\" class=\"dataframe\">\n",
       "  <thead>\n",
       "    <tr style=\"text-align: right;\">\n",
       "      <th></th>\n",
       "      <th>geometry</th>\n",
       "      <th>index_PP</th>\n",
       "      <th>index_SAL</th>\n",
       "      <th>area_pp</th>\n",
       "      <th>area_sal</th>\n",
       "      <th>area_inter</th>\n",
       "      <th>popu_inter</th>\n",
       "      <th>popu_sal</th>\n",
       "      <th>murd_cnt</th>\n",
       "      <th>province</th>\n",
       "      <th>...</th>\n",
       "      <th>SP_NAME</th>\n",
       "      <th>MN_CODE</th>\n",
       "      <th>MP_CODE</th>\n",
       "      <th>PR_CODE</th>\n",
       "      <th>SAL_CODE</th>\n",
       "      <th>SP_CODE</th>\n",
       "      <th>popu_frac_per_pp</th>\n",
       "      <th>murd_est_per_int_ub</th>\n",
       "      <th>ratio_per_int_ub</th>\n",
       "      <th>murd_est_per_sal_ub</th>\n",
       "    </tr>\n",
       "  </thead>\n",
       "  <tbody>\n",
       "    <tr>\n",
       "      <th>34727</th>\n",
       "      <td>POLYGON ((-63778.88587880091 -3367458.14169631...</td>\n",
       "      <td>551</td>\n",
       "      <td>23678</td>\n",
       "      <td>2.075843e+09</td>\n",
       "      <td>623949.221161</td>\n",
       "      <td>623949.221161</td>\n",
       "      <td>25</td>\n",
       "      <td>25</td>\n",
       "      <td>1</td>\n",
       "      <td>Northern Cape</td>\n",
       "      <td>...</td>\n",
       "      <td>Belmont SP</td>\n",
       "      <td>376</td>\n",
       "      <td>376007</td>\n",
       "      <td>3</td>\n",
       "      <td>3760001</td>\n",
       "      <td>376007001</td>\n",
       "      <td>25</td>\n",
       "      <td>1</td>\n",
       "      <td>1</td>\n",
       "      <td>1</td>\n",
       "    </tr>\n",
       "  </tbody>\n",
       "</table>\n",
       "<p>1 rows × 24 columns</p>\n",
       "</div>"
      ],
      "text/plain": [
       "                                                geometry  index_PP  index_SAL  \\\n",
       "34727  POLYGON ((-63778.88587880091 -3367458.14169631...       551      23678   \n",
       "\n",
       "            area_pp       area_sal     area_inter  popu_inter  popu_sal  \\\n",
       "34727  2.075843e+09  623949.221161  623949.221161          25        25   \n",
       "\n",
       "       murd_cnt       province         ...              SP_NAME MN_CODE  \\\n",
       "34727         1  Northern Cape         ...           Belmont SP     376   \n",
       "\n",
       "      MP_CODE PR_CODE SAL_CODE    SP_CODE  popu_frac_per_pp  \\\n",
       "34727  376007       3  3760001  376007001                25   \n",
       "\n",
       "       murd_est_per_int_ub  ratio_per_int_ub  murd_est_per_sal_ub  \n",
       "34727                    1                 1                    1  \n",
       "\n",
       "[1 rows x 24 columns]"
      ]
     },
     "execution_count": 117,
     "metadata": {},
     "output_type": "execute_result"
    }
   ],
   "source": [
    "df_int_aea_ub[df_int_aea_ub.SAL_CODE==3760001]"
   ]
  },
  {
   "cell_type": "code",
   "execution_count": 118,
   "metadata": {
    "collapsed": false
   },
   "outputs": [
    {
     "data": {
      "text/html": [
       "<div>\n",
       "<table border=\"1\" class=\"dataframe\">\n",
       "  <thead>\n",
       "    <tr style=\"text-align: right;\">\n",
       "      <th></th>\n",
       "      <th>geometry</th>\n",
       "      <th>index_PP</th>\n",
       "      <th>index_SAL</th>\n",
       "      <th>area_pp</th>\n",
       "      <th>area_sal</th>\n",
       "      <th>area_inter</th>\n",
       "      <th>popu_inter</th>\n",
       "      <th>popu_sal</th>\n",
       "      <th>murd_cnt</th>\n",
       "      <th>province</th>\n",
       "      <th>...</th>\n",
       "      <th>SP_NAME</th>\n",
       "      <th>MN_CODE</th>\n",
       "      <th>MP_CODE</th>\n",
       "      <th>PR_CODE</th>\n",
       "      <th>SAL_CODE</th>\n",
       "      <th>SP_CODE</th>\n",
       "      <th>popu_frac_per_pp</th>\n",
       "      <th>murd_est_per_int_lb</th>\n",
       "      <th>ratio_per_int_lb</th>\n",
       "      <th>murd_est_per_sal_lb</th>\n",
       "    </tr>\n",
       "  </thead>\n",
       "  <tbody>\n",
       "    <tr>\n",
       "      <th>56059</th>\n",
       "      <td>POLYGON ((-63778.88587880091 -3367458.14169631...</td>\n",
       "      <td>551</td>\n",
       "      <td>23678</td>\n",
       "      <td>2.075843e+09</td>\n",
       "      <td>623949.221161</td>\n",
       "      <td>623949.221161</td>\n",
       "      <td>25</td>\n",
       "      <td>25</td>\n",
       "      <td>1</td>\n",
       "      <td>Northern Cape</td>\n",
       "      <td>...</td>\n",
       "      <td>Belmont SP</td>\n",
       "      <td>376</td>\n",
       "      <td>376007</td>\n",
       "      <td>3</td>\n",
       "      <td>3760001</td>\n",
       "      <td>376007001</td>\n",
       "      <td>3517</td>\n",
       "      <td>0.007108</td>\n",
       "      <td>0.007108</td>\n",
       "      <td>0.007108</td>\n",
       "    </tr>\n",
       "  </tbody>\n",
       "</table>\n",
       "<p>1 rows × 24 columns</p>\n",
       "</div>"
      ],
      "text/plain": [
       "                                                geometry  index_PP  index_SAL  \\\n",
       "56059  POLYGON ((-63778.88587880091 -3367458.14169631...       551      23678   \n",
       "\n",
       "            area_pp       area_sal     area_inter  popu_inter  popu_sal  \\\n",
       "56059  2.075843e+09  623949.221161  623949.221161          25        25   \n",
       "\n",
       "       murd_cnt       province         ...              SP_NAME MN_CODE  \\\n",
       "56059         1  Northern Cape         ...           Belmont SP     376   \n",
       "\n",
       "      MP_CODE PR_CODE SAL_CODE    SP_CODE  popu_frac_per_pp  \\\n",
       "56059  376007       3  3760001  376007001              3517   \n",
       "\n",
       "       murd_est_per_int_lb  ratio_per_int_lb  murd_est_per_sal_lb  \n",
       "56059             0.007108          0.007108             0.007108  \n",
       "\n",
       "[1 rows x 24 columns]"
      ]
     },
     "execution_count": 118,
     "metadata": {},
     "output_type": "execute_result"
    }
   ],
   "source": [
    "df_int_aea_lb[df_int_aea_lb.SAL_CODE==3760001]"
   ]
  },
  {
   "cell_type": "code",
   "execution_count": 122,
   "metadata": {
    "collapsed": false
   },
   "outputs": [
    {
     "data": {
      "text/html": [
       "<div>\n",
       "<table border=\"1\" class=\"dataframe\">\n",
       "  <thead>\n",
       "    <tr style=\"text-align: right;\">\n",
       "      <th></th>\n",
       "      <th>geometry</th>\n",
       "      <th>index_PP</th>\n",
       "      <th>index_SAL</th>\n",
       "      <th>area_pp</th>\n",
       "      <th>area_sal</th>\n",
       "      <th>area_inter</th>\n",
       "      <th>popu_inter</th>\n",
       "      <th>popu_sal</th>\n",
       "      <th>murd_cnt</th>\n",
       "      <th>province</th>\n",
       "      <th>...</th>\n",
       "      <th>SP_NAME</th>\n",
       "      <th>MN_CODE</th>\n",
       "      <th>MP_CODE</th>\n",
       "      <th>PR_CODE</th>\n",
       "      <th>SAL_CODE</th>\n",
       "      <th>SP_CODE</th>\n",
       "      <th>popu_frac_per_pp</th>\n",
       "      <th>murd_est_per_int_lb</th>\n",
       "      <th>ratio_per_int_lb</th>\n",
       "      <th>murd_est_per_sal_lb</th>\n",
       "    </tr>\n",
       "  </thead>\n",
       "  <tbody>\n",
       "    <tr>\n",
       "      <th>55778</th>\n",
       "      <td>MULTIPOLYGON (((-68566.15538511297 -3393601.23...</td>\n",
       "      <td>551</td>\n",
       "      <td>23554</td>\n",
       "      <td>2.075843e+09</td>\n",
       "      <td>5.788965e+08</td>\n",
       "      <td>2.520749e+03</td>\n",
       "      <td>609</td>\n",
       "      <td>609</td>\n",
       "      <td>1</td>\n",
       "      <td>Northern Cape</td>\n",
       "      <td>...</td>\n",
       "      <td>Thembelihle NU</td>\n",
       "      <td>374</td>\n",
       "      <td>374002</td>\n",
       "      <td>3</td>\n",
       "      <td>3740011</td>\n",
       "      <td>374002001</td>\n",
       "      <td>3517</td>\n",
       "      <td>0.173159</td>\n",
       "      <td>0.173159</td>\n",
       "      <td>0.427418</td>\n",
       "    </tr>\n",
       "    <tr>\n",
       "      <th>55794</th>\n",
       "      <td>POLYGON ((-66737.06515200126 -3393564.16996531...</td>\n",
       "      <td>551</td>\n",
       "      <td>24662</td>\n",
       "      <td>2.075843e+09</td>\n",
       "      <td>1.908507e+08</td>\n",
       "      <td>3.716750e+04</td>\n",
       "      <td>478</td>\n",
       "      <td>478</td>\n",
       "      <td>1</td>\n",
       "      <td>Northern Cape</td>\n",
       "      <td>...</td>\n",
       "      <td>Letsemeng NU</td>\n",
       "      <td>460</td>\n",
       "      <td>460004</td>\n",
       "      <td>4</td>\n",
       "      <td>4600037</td>\n",
       "      <td>460004001</td>\n",
       "      <td>3517</td>\n",
       "      <td>0.135911</td>\n",
       "      <td>0.135911</td>\n",
       "      <td>0.600005</td>\n",
       "    </tr>\n",
       "    <tr>\n",
       "      <th>55796</th>\n",
       "      <td>POLYGON ((-63443.14436415431 -3387426.23596726...</td>\n",
       "      <td>551</td>\n",
       "      <td>24648</td>\n",
       "      <td>2.075843e+09</td>\n",
       "      <td>3.141824e+08</td>\n",
       "      <td>4.723589e+04</td>\n",
       "      <td>171</td>\n",
       "      <td>171</td>\n",
       "      <td>1</td>\n",
       "      <td>Northern Cape</td>\n",
       "      <td>...</td>\n",
       "      <td>Letsemeng NU</td>\n",
       "      <td>460</td>\n",
       "      <td>460004</td>\n",
       "      <td>4</td>\n",
       "      <td>4600004</td>\n",
       "      <td>460004001</td>\n",
       "      <td>3517</td>\n",
       "      <td>0.048621</td>\n",
       "      <td>0.048621</td>\n",
       "      <td>0.048621</td>\n",
       "    </tr>\n",
       "    <tr>\n",
       "      <th>55799</th>\n",
       "      <td>POLYGON ((-44493.3621372392 -3351749.539519794...</td>\n",
       "      <td>551</td>\n",
       "      <td>23614</td>\n",
       "      <td>2.075843e+09</td>\n",
       "      <td>1.049865e+09</td>\n",
       "      <td>8.712066e+08</td>\n",
       "      <td>233</td>\n",
       "      <td>233</td>\n",
       "      <td>1</td>\n",
       "      <td>Northern Cape</td>\n",
       "      <td>...</td>\n",
       "      <td>Siyancuma NU</td>\n",
       "      <td>376</td>\n",
       "      <td>376002</td>\n",
       "      <td>3</td>\n",
       "      <td>3760018</td>\n",
       "      <td>376002001</td>\n",
       "      <td>3517</td>\n",
       "      <td>0.066250</td>\n",
       "      <td>0.066250</td>\n",
       "      <td>0.202719</td>\n",
       "    </tr>\n",
       "    <tr>\n",
       "      <th>55802</th>\n",
       "      <td>POLYGON ((-59950.77325334126 -3380883.27168252...</td>\n",
       "      <td>551</td>\n",
       "      <td>24656</td>\n",
       "      <td>2.075843e+09</td>\n",
       "      <td>5.515281e+08</td>\n",
       "      <td>1.581775e+05</td>\n",
       "      <td>288</td>\n",
       "      <td>288</td>\n",
       "      <td>1</td>\n",
       "      <td>Northern Cape</td>\n",
       "      <td>...</td>\n",
       "      <td>Letsemeng NU</td>\n",
       "      <td>460</td>\n",
       "      <td>460004</td>\n",
       "      <td>4</td>\n",
       "      <td>4600015</td>\n",
       "      <td>460004001</td>\n",
       "      <td>3517</td>\n",
       "      <td>0.081888</td>\n",
       "      <td>0.081888</td>\n",
       "      <td>0.268638</td>\n",
       "    </tr>\n",
       "    <tr>\n",
       "      <th>55806</th>\n",
       "      <td>POLYGON ((-47553.77612615489 -3357547.14320729...</td>\n",
       "      <td>551</td>\n",
       "      <td>24647</td>\n",
       "      <td>2.075843e+09</td>\n",
       "      <td>3.520070e+08</td>\n",
       "      <td>3.601731e+04</td>\n",
       "      <td>164</td>\n",
       "      <td>164</td>\n",
       "      <td>1</td>\n",
       "      <td>Northern Cape</td>\n",
       "      <td>...</td>\n",
       "      <td>Letsemeng NU</td>\n",
       "      <td>460</td>\n",
       "      <td>460004</td>\n",
       "      <td>4</td>\n",
       "      <td>4600003</td>\n",
       "      <td>460004001</td>\n",
       "      <td>3517</td>\n",
       "      <td>0.046631</td>\n",
       "      <td>0.046631</td>\n",
       "      <td>0.156520</td>\n",
       "    </tr>\n",
       "    <tr>\n",
       "      <th>55832</th>\n",
       "      <td>POLYGON ((-110781.5374389185 -3372630.60518009...</td>\n",
       "      <td>551</td>\n",
       "      <td>23553</td>\n",
       "      <td>2.075843e+09</td>\n",
       "      <td>2.911161e+09</td>\n",
       "      <td>1.488774e+04</td>\n",
       "      <td>329</td>\n",
       "      <td>329</td>\n",
       "      <td>1</td>\n",
       "      <td>Northern Cape</td>\n",
       "      <td>...</td>\n",
       "      <td>Thembelihle NU</td>\n",
       "      <td>374</td>\n",
       "      <td>374002</td>\n",
       "      <td>3</td>\n",
       "      <td>3740005</td>\n",
       "      <td>374002001</td>\n",
       "      <td>3517</td>\n",
       "      <td>0.093546</td>\n",
       "      <td>0.093546</td>\n",
       "      <td>0.568243</td>\n",
       "    </tr>\n",
       "    <tr>\n",
       "      <th>56003</th>\n",
       "      <td>MULTIPOLYGON (((-91211.75984021231 -3349104.35...</td>\n",
       "      <td>551</td>\n",
       "      <td>23626</td>\n",
       "      <td>2.075843e+09</td>\n",
       "      <td>8.553125e+08</td>\n",
       "      <td>4.912483e+08</td>\n",
       "      <td>326</td>\n",
       "      <td>326</td>\n",
       "      <td>1</td>\n",
       "      <td>Northern Cape</td>\n",
       "      <td>...</td>\n",
       "      <td>Siyancuma NU</td>\n",
       "      <td>376</td>\n",
       "      <td>376002</td>\n",
       "      <td>3</td>\n",
       "      <td>3760031</td>\n",
       "      <td>376002001</td>\n",
       "      <td>3517</td>\n",
       "      <td>0.092693</td>\n",
       "      <td>0.092693</td>\n",
       "      <td>0.277815</td>\n",
       "    </tr>\n",
       "    <tr>\n",
       "      <th>56008</th>\n",
       "      <td>MULTIPOLYGON (((-68555.59171155476 -3393588.14...</td>\n",
       "      <td>551</td>\n",
       "      <td>23551</td>\n",
       "      <td>2.075843e+09</td>\n",
       "      <td>5.207831e+08</td>\n",
       "      <td>1.936096e+08</td>\n",
       "      <td>164</td>\n",
       "      <td>164</td>\n",
       "      <td>1</td>\n",
       "      <td>Northern Cape</td>\n",
       "      <td>...</td>\n",
       "      <td>Thembelihle NU</td>\n",
       "      <td>374</td>\n",
       "      <td>374002</td>\n",
       "      <td>3</td>\n",
       "      <td>3740003</td>\n",
       "      <td>374002001</td>\n",
       "      <td>3517</td>\n",
       "      <td>0.046631</td>\n",
       "      <td>0.046631</td>\n",
       "      <td>0.087328</td>\n",
       "    </tr>\n",
       "    <tr>\n",
       "      <th>56010</th>\n",
       "      <td>MULTIPOLYGON (((-92877.05129965383 -3387927.47...</td>\n",
       "      <td>551</td>\n",
       "      <td>23548</td>\n",
       "      <td>2.075843e+09</td>\n",
       "      <td>7.101008e+07</td>\n",
       "      <td>1.025658e+05</td>\n",
       "      <td>135</td>\n",
       "      <td>135</td>\n",
       "      <td>1</td>\n",
       "      <td>Northern Cape</td>\n",
       "      <td>...</td>\n",
       "      <td>Hopetown SP</td>\n",
       "      <td>374</td>\n",
       "      <td>374001</td>\n",
       "      <td>3</td>\n",
       "      <td>3740001</td>\n",
       "      <td>374001006</td>\n",
       "      <td>3517</td>\n",
       "      <td>0.038385</td>\n",
       "      <td>0.038385</td>\n",
       "      <td>0.071886</td>\n",
       "    </tr>\n",
       "    <tr>\n",
       "      <th>56012</th>\n",
       "      <td>MULTIPOLYGON (((-109973.2346078192 -3373754.53...</td>\n",
       "      <td>551</td>\n",
       "      <td>23550</td>\n",
       "      <td>2.075843e+09</td>\n",
       "      <td>4.911668e+08</td>\n",
       "      <td>4.002792e+05</td>\n",
       "      <td>152</td>\n",
       "      <td>152</td>\n",
       "      <td>1</td>\n",
       "      <td>Northern Cape</td>\n",
       "      <td>...</td>\n",
       "      <td>Thembelihle NU</td>\n",
       "      <td>374</td>\n",
       "      <td>374002</td>\n",
       "      <td>3</td>\n",
       "      <td>3740002</td>\n",
       "      <td>374002001</td>\n",
       "      <td>3517</td>\n",
       "      <td>0.043219</td>\n",
       "      <td>0.043219</td>\n",
       "      <td>0.080938</td>\n",
       "    </tr>\n",
       "    <tr>\n",
       "      <th>56053</th>\n",
       "      <td>POLYGON ((-61954.17405946804 -3341200.14737824...</td>\n",
       "      <td>551</td>\n",
       "      <td>23617</td>\n",
       "      <td>2.075843e+09</td>\n",
       "      <td>8.072664e+08</td>\n",
       "      <td>2.776597e+08</td>\n",
       "      <td>243</td>\n",
       "      <td>243</td>\n",
       "      <td>1</td>\n",
       "      <td>Northern Cape</td>\n",
       "      <td>...</td>\n",
       "      <td>Siyancuma NU</td>\n",
       "      <td>376</td>\n",
       "      <td>376002</td>\n",
       "      <td>3</td>\n",
       "      <td>3760021</td>\n",
       "      <td>376002001</td>\n",
       "      <td>3517</td>\n",
       "      <td>0.069093</td>\n",
       "      <td>0.069093</td>\n",
       "      <td>0.284554</td>\n",
       "    </tr>\n",
       "    <tr>\n",
       "      <th>56057</th>\n",
       "      <td>POLYGON ((-65630.1324002433 -3349495.455576321...</td>\n",
       "      <td>551</td>\n",
       "      <td>23607</td>\n",
       "      <td>2.075843e+09</td>\n",
       "      <td>2.407315e+08</td>\n",
       "      <td>2.406963e+08</td>\n",
       "      <td>200</td>\n",
       "      <td>200</td>\n",
       "      <td>1</td>\n",
       "      <td>Northern Cape</td>\n",
       "      <td>...</td>\n",
       "      <td>Siyancuma NU</td>\n",
       "      <td>376</td>\n",
       "      <td>376002</td>\n",
       "      <td>3</td>\n",
       "      <td>3760010</td>\n",
       "      <td>376002001</td>\n",
       "      <td>3517</td>\n",
       "      <td>0.056867</td>\n",
       "      <td>0.056867</td>\n",
       "      <td>0.120808</td>\n",
       "    </tr>\n",
       "    <tr>\n",
       "      <th>56059</th>\n",
       "      <td>POLYGON ((-63778.88587880091 -3367458.14169631...</td>\n",
       "      <td>551</td>\n",
       "      <td>23678</td>\n",
       "      <td>2.075843e+09</td>\n",
       "      <td>6.239492e+05</td>\n",
       "      <td>6.239492e+05</td>\n",
       "      <td>25</td>\n",
       "      <td>25</td>\n",
       "      <td>1</td>\n",
       "      <td>Northern Cape</td>\n",
       "      <td>...</td>\n",
       "      <td>Belmont SP</td>\n",
       "      <td>376</td>\n",
       "      <td>376007</td>\n",
       "      <td>3</td>\n",
       "      <td>3760001</td>\n",
       "      <td>376007001</td>\n",
       "      <td>3517</td>\n",
       "      <td>0.007108</td>\n",
       "      <td>0.007108</td>\n",
       "      <td>0.007108</td>\n",
       "    </tr>\n",
       "  </tbody>\n",
       "</table>\n",
       "<p>14 rows × 24 columns</p>\n",
       "</div>"
      ],
      "text/plain": [
       "                                                geometry  index_PP  index_SAL  \\\n",
       "55778  MULTIPOLYGON (((-68566.15538511297 -3393601.23...       551      23554   \n",
       "55794  POLYGON ((-66737.06515200126 -3393564.16996531...       551      24662   \n",
       "55796  POLYGON ((-63443.14436415431 -3387426.23596726...       551      24648   \n",
       "55799  POLYGON ((-44493.3621372392 -3351749.539519794...       551      23614   \n",
       "55802  POLYGON ((-59950.77325334126 -3380883.27168252...       551      24656   \n",
       "55806  POLYGON ((-47553.77612615489 -3357547.14320729...       551      24647   \n",
       "55832  POLYGON ((-110781.5374389185 -3372630.60518009...       551      23553   \n",
       "56003  MULTIPOLYGON (((-91211.75984021231 -3349104.35...       551      23626   \n",
       "56008  MULTIPOLYGON (((-68555.59171155476 -3393588.14...       551      23551   \n",
       "56010  MULTIPOLYGON (((-92877.05129965383 -3387927.47...       551      23548   \n",
       "56012  MULTIPOLYGON (((-109973.2346078192 -3373754.53...       551      23550   \n",
       "56053  POLYGON ((-61954.17405946804 -3341200.14737824...       551      23617   \n",
       "56057  POLYGON ((-65630.1324002433 -3349495.455576321...       551      23607   \n",
       "56059  POLYGON ((-63778.88587880091 -3367458.14169631...       551      23678   \n",
       "\n",
       "            area_pp      area_sal    area_inter  popu_inter  popu_sal  \\\n",
       "55778  2.075843e+09  5.788965e+08  2.520749e+03         609       609   \n",
       "55794  2.075843e+09  1.908507e+08  3.716750e+04         478       478   \n",
       "55796  2.075843e+09  3.141824e+08  4.723589e+04         171       171   \n",
       "55799  2.075843e+09  1.049865e+09  8.712066e+08         233       233   \n",
       "55802  2.075843e+09  5.515281e+08  1.581775e+05         288       288   \n",
       "55806  2.075843e+09  3.520070e+08  3.601731e+04         164       164   \n",
       "55832  2.075843e+09  2.911161e+09  1.488774e+04         329       329   \n",
       "56003  2.075843e+09  8.553125e+08  4.912483e+08         326       326   \n",
       "56008  2.075843e+09  5.207831e+08  1.936096e+08         164       164   \n",
       "56010  2.075843e+09  7.101008e+07  1.025658e+05         135       135   \n",
       "56012  2.075843e+09  4.911668e+08  4.002792e+05         152       152   \n",
       "56053  2.075843e+09  8.072664e+08  2.776597e+08         243       243   \n",
       "56057  2.075843e+09  2.407315e+08  2.406963e+08         200       200   \n",
       "56059  2.075843e+09  6.239492e+05  6.239492e+05          25        25   \n",
       "\n",
       "       murd_cnt       province         ...                  SP_NAME MN_CODE  \\\n",
       "55778         1  Northern Cape         ...           Thembelihle NU     374   \n",
       "55794         1  Northern Cape         ...             Letsemeng NU     460   \n",
       "55796         1  Northern Cape         ...             Letsemeng NU     460   \n",
       "55799         1  Northern Cape         ...             Siyancuma NU     376   \n",
       "55802         1  Northern Cape         ...             Letsemeng NU     460   \n",
       "55806         1  Northern Cape         ...             Letsemeng NU     460   \n",
       "55832         1  Northern Cape         ...           Thembelihle NU     374   \n",
       "56003         1  Northern Cape         ...             Siyancuma NU     376   \n",
       "56008         1  Northern Cape         ...           Thembelihle NU     374   \n",
       "56010         1  Northern Cape         ...              Hopetown SP     374   \n",
       "56012         1  Northern Cape         ...           Thembelihle NU     374   \n",
       "56053         1  Northern Cape         ...             Siyancuma NU     376   \n",
       "56057         1  Northern Cape         ...             Siyancuma NU     376   \n",
       "56059         1  Northern Cape         ...               Belmont SP     376   \n",
       "\n",
       "      MP_CODE PR_CODE SAL_CODE    SP_CODE  popu_frac_per_pp  \\\n",
       "55778  374002       3  3740011  374002001              3517   \n",
       "55794  460004       4  4600037  460004001              3517   \n",
       "55796  460004       4  4600004  460004001              3517   \n",
       "55799  376002       3  3760018  376002001              3517   \n",
       "55802  460004       4  4600015  460004001              3517   \n",
       "55806  460004       4  4600003  460004001              3517   \n",
       "55832  374002       3  3740005  374002001              3517   \n",
       "56003  376002       3  3760031  376002001              3517   \n",
       "56008  374002       3  3740003  374002001              3517   \n",
       "56010  374001       3  3740001  374001006              3517   \n",
       "56012  374002       3  3740002  374002001              3517   \n",
       "56053  376002       3  3760021  376002001              3517   \n",
       "56057  376002       3  3760010  376002001              3517   \n",
       "56059  376007       3  3760001  376007001              3517   \n",
       "\n",
       "       murd_est_per_int_lb  ratio_per_int_lb  murd_est_per_sal_lb  \n",
       "55778             0.173159          0.173159             0.427418  \n",
       "55794             0.135911          0.135911             0.600005  \n",
       "55796             0.048621          0.048621             0.048621  \n",
       "55799             0.066250          0.066250             0.202719  \n",
       "55802             0.081888          0.081888             0.268638  \n",
       "55806             0.046631          0.046631             0.156520  \n",
       "55832             0.093546          0.093546             0.568243  \n",
       "56003             0.092693          0.092693             0.277815  \n",
       "56008             0.046631          0.046631             0.087328  \n",
       "56010             0.038385          0.038385             0.071886  \n",
       "56012             0.043219          0.043219             0.080938  \n",
       "56053             0.069093          0.069093             0.284554  \n",
       "56057             0.056867          0.056867             0.120808  \n",
       "56059             0.007108          0.007108             0.007108  \n",
       "\n",
       "[14 rows x 24 columns]"
      ]
     },
     "execution_count": 122,
     "metadata": {},
     "output_type": "execute_result"
    }
   ],
   "source": [
    "df_int_aea_lb[df_int_aea_lb.index_PP==551]"
   ]
  },
  {
   "cell_type": "code",
   "execution_count": 119,
   "metadata": {
    "collapsed": false
   },
   "outputs": [
    {
     "data": {
      "text/html": [
       "<div>\n",
       "<table border=\"1\" class=\"dataframe\">\n",
       "  <thead>\n",
       "    <tr style=\"text-align: right;\">\n",
       "      <th></th>\n",
       "      <th>geometry</th>\n",
       "      <th>index_PP</th>\n",
       "      <th>index_SAL</th>\n",
       "      <th>area_pp</th>\n",
       "      <th>area_sal</th>\n",
       "      <th>area_inter</th>\n",
       "      <th>popu_inter</th>\n",
       "      <th>popu_sal</th>\n",
       "      <th>murd_cnt</th>\n",
       "      <th>province</th>\n",
       "      <th>...</th>\n",
       "      <th>SP_NAME</th>\n",
       "      <th>MN_CODE</th>\n",
       "      <th>MP_CODE</th>\n",
       "      <th>PR_CODE</th>\n",
       "      <th>SAL_CODE</th>\n",
       "      <th>SP_CODE</th>\n",
       "      <th>popu_frac_per_pp</th>\n",
       "      <th>murd_est_per_int</th>\n",
       "      <th>ratio_per_int</th>\n",
       "      <th>murd_est_per_sal</th>\n",
       "    </tr>\n",
       "  </thead>\n",
       "  <tbody>\n",
       "    <tr>\n",
       "      <th>12624</th>\n",
       "      <td>MULTIPOLYGON (((-68566.15538511297 -3393601.23...</td>\n",
       "      <td>551</td>\n",
       "      <td>23554</td>\n",
       "      <td>2.075843e+09</td>\n",
       "      <td>5.788965e+08</td>\n",
       "      <td>2.520749e+03</td>\n",
       "      <td>0.002652</td>\n",
       "      <td>609</td>\n",
       "      <td>1</td>\n",
       "      <td>Northern Cape</td>\n",
       "      <td>...</td>\n",
       "      <td>Thembelihle NU</td>\n",
       "      <td>374</td>\n",
       "      <td>374002</td>\n",
       "      <td>3</td>\n",
       "      <td>3740011</td>\n",
       "      <td>374002001</td>\n",
       "      <td>750.649435</td>\n",
       "      <td>0.000004</td>\n",
       "      <td>0.000004</td>\n",
       "      <td>0.174968</td>\n",
       "    </tr>\n",
       "    <tr>\n",
       "      <th>12640</th>\n",
       "      <td>POLYGON ((-66737.06515200126 -3393564.16996531...</td>\n",
       "      <td>551</td>\n",
       "      <td>24662</td>\n",
       "      <td>2.075843e+09</td>\n",
       "      <td>1.908507e+08</td>\n",
       "      <td>3.716750e+04</td>\n",
       "      <td>0.093089</td>\n",
       "      <td>478</td>\n",
       "      <td>1</td>\n",
       "      <td>Northern Cape</td>\n",
       "      <td>...</td>\n",
       "      <td>Letsemeng NU</td>\n",
       "      <td>460</td>\n",
       "      <td>460004</td>\n",
       "      <td>4</td>\n",
       "      <td>4600037</td>\n",
       "      <td>460004001</td>\n",
       "      <td>750.649435</td>\n",
       "      <td>0.000124</td>\n",
       "      <td>0.000124</td>\n",
       "      <td>0.000388</td>\n",
       "    </tr>\n",
       "    <tr>\n",
       "      <th>12644</th>\n",
       "      <td>POLYGON ((-63443.14436415431 -3387426.23596726...</td>\n",
       "      <td>551</td>\n",
       "      <td>24648</td>\n",
       "      <td>2.075843e+09</td>\n",
       "      <td>3.141824e+08</td>\n",
       "      <td>4.723589e+04</td>\n",
       "      <td>0.025709</td>\n",
       "      <td>171</td>\n",
       "      <td>1</td>\n",
       "      <td>Northern Cape</td>\n",
       "      <td>...</td>\n",
       "      <td>Letsemeng NU</td>\n",
       "      <td>460</td>\n",
       "      <td>460004</td>\n",
       "      <td>4</td>\n",
       "      <td>4600004</td>\n",
       "      <td>460004001</td>\n",
       "      <td>750.649435</td>\n",
       "      <td>0.000034</td>\n",
       "      <td>0.000034</td>\n",
       "      <td>0.000034</td>\n",
       "    </tr>\n",
       "    <tr>\n",
       "      <th>12646</th>\n",
       "      <td>POLYGON ((-44493.3621372392 -3351749.539519794...</td>\n",
       "      <td>551</td>\n",
       "      <td>23614</td>\n",
       "      <td>2.075843e+09</td>\n",
       "      <td>1.049865e+09</td>\n",
       "      <td>8.712066e+08</td>\n",
       "      <td>193.349754</td>\n",
       "      <td>233</td>\n",
       "      <td>1</td>\n",
       "      <td>Northern Cape</td>\n",
       "      <td>...</td>\n",
       "      <td>Siyancuma NU</td>\n",
       "      <td>376</td>\n",
       "      <td>376002</td>\n",
       "      <td>3</td>\n",
       "      <td>3760018</td>\n",
       "      <td>376002001</td>\n",
       "      <td>750.649435</td>\n",
       "      <td>0.257577</td>\n",
       "      <td>0.257577</td>\n",
       "      <td>0.272762</td>\n",
       "    </tr>\n",
       "    <tr>\n",
       "      <th>12651</th>\n",
       "      <td>POLYGON ((-59950.77325334126 -3380883.27168252...</td>\n",
       "      <td>551</td>\n",
       "      <td>24656</td>\n",
       "      <td>2.075843e+09</td>\n",
       "      <td>5.515281e+08</td>\n",
       "      <td>1.581775e+05</td>\n",
       "      <td>0.082598</td>\n",
       "      <td>288</td>\n",
       "      <td>1</td>\n",
       "      <td>Northern Cape</td>\n",
       "      <td>...</td>\n",
       "      <td>Letsemeng NU</td>\n",
       "      <td>460</td>\n",
       "      <td>460004</td>\n",
       "      <td>4</td>\n",
       "      <td>4600015</td>\n",
       "      <td>460004001</td>\n",
       "      <td>750.649435</td>\n",
       "      <td>0.000110</td>\n",
       "      <td>0.000110</td>\n",
       "      <td>0.033179</td>\n",
       "    </tr>\n",
       "    <tr>\n",
       "      <th>12655</th>\n",
       "      <td>POLYGON ((-47553.77612615489 -3357547.14320729...</td>\n",
       "      <td>551</td>\n",
       "      <td>24647</td>\n",
       "      <td>2.075843e+09</td>\n",
       "      <td>3.520070e+08</td>\n",
       "      <td>3.601731e+04</td>\n",
       "      <td>0.016780</td>\n",
       "      <td>164</td>\n",
       "      <td>1</td>\n",
       "      <td>Northern Cape</td>\n",
       "      <td>...</td>\n",
       "      <td>Letsemeng NU</td>\n",
       "      <td>460</td>\n",
       "      <td>460004</td>\n",
       "      <td>4</td>\n",
       "      <td>4600003</td>\n",
       "      <td>460004001</td>\n",
       "      <td>750.649435</td>\n",
       "      <td>0.000022</td>\n",
       "      <td>0.000022</td>\n",
       "      <td>0.062639</td>\n",
       "    </tr>\n",
       "    <tr>\n",
       "      <th>27095</th>\n",
       "      <td>POLYGON ((-110781.5374389185 -3372630.60518009...</td>\n",
       "      <td>551</td>\n",
       "      <td>23553</td>\n",
       "      <td>2.075843e+09</td>\n",
       "      <td>2.911161e+09</td>\n",
       "      <td>1.488774e+04</td>\n",
       "      <td>0.001683</td>\n",
       "      <td>329</td>\n",
       "      <td>1</td>\n",
       "      <td>Northern Cape</td>\n",
       "      <td>...</td>\n",
       "      <td>Thembelihle NU</td>\n",
       "      <td>374</td>\n",
       "      <td>374002</td>\n",
       "      <td>3</td>\n",
       "      <td>3740005</td>\n",
       "      <td>374002001</td>\n",
       "      <td>750.649435</td>\n",
       "      <td>0.000002</td>\n",
       "      <td>0.000002</td>\n",
       "      <td>0.114321</td>\n",
       "    </tr>\n",
       "    <tr>\n",
       "      <th>39336</th>\n",
       "      <td>POLYGON ((-61954.17405946804 -3341200.14737824...</td>\n",
       "      <td>551</td>\n",
       "      <td>23617</td>\n",
       "      <td>2.075843e+09</td>\n",
       "      <td>8.072664e+08</td>\n",
       "      <td>2.776597e+08</td>\n",
       "      <td>83.579976</td>\n",
       "      <td>243</td>\n",
       "      <td>1</td>\n",
       "      <td>Northern Cape</td>\n",
       "      <td>...</td>\n",
       "      <td>Siyancuma NU</td>\n",
       "      <td>376</td>\n",
       "      <td>376002</td>\n",
       "      <td>3</td>\n",
       "      <td>3760021</td>\n",
       "      <td>376002001</td>\n",
       "      <td>750.649435</td>\n",
       "      <td>0.111344</td>\n",
       "      <td>0.111344</td>\n",
       "      <td>0.190883</td>\n",
       "    </tr>\n",
       "    <tr>\n",
       "      <th>55613</th>\n",
       "      <td>POLYGON ((-65630.1324002433 -3349495.455576321...</td>\n",
       "      <td>551</td>\n",
       "      <td>23607</td>\n",
       "      <td>2.075843e+09</td>\n",
       "      <td>2.407315e+08</td>\n",
       "      <td>2.406963e+08</td>\n",
       "      <td>199.970746</td>\n",
       "      <td>200</td>\n",
       "      <td>1</td>\n",
       "      <td>Northern Cape</td>\n",
       "      <td>...</td>\n",
       "      <td>Siyancuma NU</td>\n",
       "      <td>376</td>\n",
       "      <td>376002</td>\n",
       "      <td>3</td>\n",
       "      <td>3760010</td>\n",
       "      <td>376002001</td>\n",
       "      <td>750.649435</td>\n",
       "      <td>0.266397</td>\n",
       "      <td>0.266397</td>\n",
       "      <td>0.266407</td>\n",
       "    </tr>\n",
       "    <tr>\n",
       "      <th>55660</th>\n",
       "      <td>MULTIPOLYGON (((-91211.75984021231 -3349104.35...</td>\n",
       "      <td>551</td>\n",
       "      <td>23626</td>\n",
       "      <td>2.075843e+09</td>\n",
       "      <td>8.553125e+08</td>\n",
       "      <td>4.912483e+08</td>\n",
       "      <td>187.237923</td>\n",
       "      <td>326</td>\n",
       "      <td>1</td>\n",
       "      <td>Northern Cape</td>\n",
       "      <td>...</td>\n",
       "      <td>Siyancuma NU</td>\n",
       "      <td>376</td>\n",
       "      <td>376002</td>\n",
       "      <td>3</td>\n",
       "      <td>3760031</td>\n",
       "      <td>376002001</td>\n",
       "      <td>750.649435</td>\n",
       "      <td>0.249435</td>\n",
       "      <td>0.249435</td>\n",
       "      <td>0.298794</td>\n",
       "    </tr>\n",
       "    <tr>\n",
       "      <th>57431</th>\n",
       "      <td>MULTIPOLYGON (((-68555.59171155476 -3393588.14...</td>\n",
       "      <td>551</td>\n",
       "      <td>23551</td>\n",
       "      <td>2.075843e+09</td>\n",
       "      <td>5.207831e+08</td>\n",
       "      <td>1.936096e+08</td>\n",
       "      <td>60.969660</td>\n",
       "      <td>164</td>\n",
       "      <td>1</td>\n",
       "      <td>Northern Cape</td>\n",
       "      <td>...</td>\n",
       "      <td>Thembelihle NU</td>\n",
       "      <td>374</td>\n",
       "      <td>374002</td>\n",
       "      <td>3</td>\n",
       "      <td>3740003</td>\n",
       "      <td>374002001</td>\n",
       "      <td>750.649435</td>\n",
       "      <td>0.081223</td>\n",
       "      <td>0.081223</td>\n",
       "      <td>0.114438</td>\n",
       "    </tr>\n",
       "    <tr>\n",
       "      <th>57433</th>\n",
       "      <td>MULTIPOLYGON (((-92877.05129965383 -3387927.47...</td>\n",
       "      <td>551</td>\n",
       "      <td>23548</td>\n",
       "      <td>2.075843e+09</td>\n",
       "      <td>7.101008e+07</td>\n",
       "      <td>1.025658e+05</td>\n",
       "      <td>0.194992</td>\n",
       "      <td>135</td>\n",
       "      <td>1</td>\n",
       "      <td>Northern Cape</td>\n",
       "      <td>...</td>\n",
       "      <td>Hopetown SP</td>\n",
       "      <td>374</td>\n",
       "      <td>374001</td>\n",
       "      <td>3</td>\n",
       "      <td>3740001</td>\n",
       "      <td>374001006</td>\n",
       "      <td>750.649435</td>\n",
       "      <td>0.000260</td>\n",
       "      <td>0.000260</td>\n",
       "      <td>0.043719</td>\n",
       "    </tr>\n",
       "    <tr>\n",
       "      <th>57435</th>\n",
       "      <td>POLYGON ((-63778.88587880091 -3367458.14169631...</td>\n",
       "      <td>551</td>\n",
       "      <td>23678</td>\n",
       "      <td>2.075843e+09</td>\n",
       "      <td>6.239492e+05</td>\n",
       "      <td>6.239492e+05</td>\n",
       "      <td>25.000000</td>\n",
       "      <td>25</td>\n",
       "      <td>1</td>\n",
       "      <td>Northern Cape</td>\n",
       "      <td>...</td>\n",
       "      <td>Belmont SP</td>\n",
       "      <td>376</td>\n",
       "      <td>376007</td>\n",
       "      <td>3</td>\n",
       "      <td>3760001</td>\n",
       "      <td>376007001</td>\n",
       "      <td>750.649435</td>\n",
       "      <td>0.033304</td>\n",
       "      <td>0.033304</td>\n",
       "      <td>0.033304</td>\n",
       "    </tr>\n",
       "    <tr>\n",
       "      <th>57436</th>\n",
       "      <td>MULTIPOLYGON (((-109973.2346078192 -3373754.53...</td>\n",
       "      <td>551</td>\n",
       "      <td>23550</td>\n",
       "      <td>2.075843e+09</td>\n",
       "      <td>4.911668e+08</td>\n",
       "      <td>4.002792e+05</td>\n",
       "      <td>0.123873</td>\n",
       "      <td>152</td>\n",
       "      <td>1</td>\n",
       "      <td>Northern Cape</td>\n",
       "      <td>...</td>\n",
       "      <td>Thembelihle NU</td>\n",
       "      <td>374</td>\n",
       "      <td>374002</td>\n",
       "      <td>3</td>\n",
       "      <td>3740002</td>\n",
       "      <td>374002001</td>\n",
       "      <td>750.649435</td>\n",
       "      <td>0.000165</td>\n",
       "      <td>0.000165</td>\n",
       "      <td>0.049127</td>\n",
       "    </tr>\n",
       "  </tbody>\n",
       "</table>\n",
       "<p>14 rows × 24 columns</p>\n",
       "</div>"
      ],
      "text/plain": [
       "                                                geometry  index_PP  index_SAL  \\\n",
       "12624  MULTIPOLYGON (((-68566.15538511297 -3393601.23...       551      23554   \n",
       "12640  POLYGON ((-66737.06515200126 -3393564.16996531...       551      24662   \n",
       "12644  POLYGON ((-63443.14436415431 -3387426.23596726...       551      24648   \n",
       "12646  POLYGON ((-44493.3621372392 -3351749.539519794...       551      23614   \n",
       "12651  POLYGON ((-59950.77325334126 -3380883.27168252...       551      24656   \n",
       "12655  POLYGON ((-47553.77612615489 -3357547.14320729...       551      24647   \n",
       "27095  POLYGON ((-110781.5374389185 -3372630.60518009...       551      23553   \n",
       "39336  POLYGON ((-61954.17405946804 -3341200.14737824...       551      23617   \n",
       "55613  POLYGON ((-65630.1324002433 -3349495.455576321...       551      23607   \n",
       "55660  MULTIPOLYGON (((-91211.75984021231 -3349104.35...       551      23626   \n",
       "57431  MULTIPOLYGON (((-68555.59171155476 -3393588.14...       551      23551   \n",
       "57433  MULTIPOLYGON (((-92877.05129965383 -3387927.47...       551      23548   \n",
       "57435  POLYGON ((-63778.88587880091 -3367458.14169631...       551      23678   \n",
       "57436  MULTIPOLYGON (((-109973.2346078192 -3373754.53...       551      23550   \n",
       "\n",
       "            area_pp      area_sal    area_inter  popu_inter  popu_sal  \\\n",
       "12624  2.075843e+09  5.788965e+08  2.520749e+03    0.002652       609   \n",
       "12640  2.075843e+09  1.908507e+08  3.716750e+04    0.093089       478   \n",
       "12644  2.075843e+09  3.141824e+08  4.723589e+04    0.025709       171   \n",
       "12646  2.075843e+09  1.049865e+09  8.712066e+08  193.349754       233   \n",
       "12651  2.075843e+09  5.515281e+08  1.581775e+05    0.082598       288   \n",
       "12655  2.075843e+09  3.520070e+08  3.601731e+04    0.016780       164   \n",
       "27095  2.075843e+09  2.911161e+09  1.488774e+04    0.001683       329   \n",
       "39336  2.075843e+09  8.072664e+08  2.776597e+08   83.579976       243   \n",
       "55613  2.075843e+09  2.407315e+08  2.406963e+08  199.970746       200   \n",
       "55660  2.075843e+09  8.553125e+08  4.912483e+08  187.237923       326   \n",
       "57431  2.075843e+09  5.207831e+08  1.936096e+08   60.969660       164   \n",
       "57433  2.075843e+09  7.101008e+07  1.025658e+05    0.194992       135   \n",
       "57435  2.075843e+09  6.239492e+05  6.239492e+05   25.000000        25   \n",
       "57436  2.075843e+09  4.911668e+08  4.002792e+05    0.123873       152   \n",
       "\n",
       "       murd_cnt       province        ...                SP_NAME MN_CODE  \\\n",
       "12624         1  Northern Cape        ...         Thembelihle NU     374   \n",
       "12640         1  Northern Cape        ...           Letsemeng NU     460   \n",
       "12644         1  Northern Cape        ...           Letsemeng NU     460   \n",
       "12646         1  Northern Cape        ...           Siyancuma NU     376   \n",
       "12651         1  Northern Cape        ...           Letsemeng NU     460   \n",
       "12655         1  Northern Cape        ...           Letsemeng NU     460   \n",
       "27095         1  Northern Cape        ...         Thembelihle NU     374   \n",
       "39336         1  Northern Cape        ...           Siyancuma NU     376   \n",
       "55613         1  Northern Cape        ...           Siyancuma NU     376   \n",
       "55660         1  Northern Cape        ...           Siyancuma NU     376   \n",
       "57431         1  Northern Cape        ...         Thembelihle NU     374   \n",
       "57433         1  Northern Cape        ...            Hopetown SP     374   \n",
       "57435         1  Northern Cape        ...             Belmont SP     376   \n",
       "57436         1  Northern Cape        ...         Thembelihle NU     374   \n",
       "\n",
       "      MP_CODE PR_CODE SAL_CODE    SP_CODE  popu_frac_per_pp  murd_est_per_int  \\\n",
       "12624  374002       3  3740011  374002001        750.649435          0.000004   \n",
       "12640  460004       4  4600037  460004001        750.649435          0.000124   \n",
       "12644  460004       4  4600004  460004001        750.649435          0.000034   \n",
       "12646  376002       3  3760018  376002001        750.649435          0.257577   \n",
       "12651  460004       4  4600015  460004001        750.649435          0.000110   \n",
       "12655  460004       4  4600003  460004001        750.649435          0.000022   \n",
       "27095  374002       3  3740005  374002001        750.649435          0.000002   \n",
       "39336  376002       3  3760021  376002001        750.649435          0.111344   \n",
       "55613  376002       3  3760010  376002001        750.649435          0.266397   \n",
       "55660  376002       3  3760031  376002001        750.649435          0.249435   \n",
       "57431  374002       3  3740003  374002001        750.649435          0.081223   \n",
       "57433  374001       3  3740001  374001006        750.649435          0.000260   \n",
       "57435  376007       3  3760001  376007001        750.649435          0.033304   \n",
       "57436  374002       3  3740002  374002001        750.649435          0.000165   \n",
       "\n",
       "       ratio_per_int  murd_est_per_sal  \n",
       "12624       0.000004          0.174968  \n",
       "12640       0.000124          0.000388  \n",
       "12644       0.000034          0.000034  \n",
       "12646       0.257577          0.272762  \n",
       "12651       0.000110          0.033179  \n",
       "12655       0.000022          0.062639  \n",
       "27095       0.000002          0.114321  \n",
       "39336       0.111344          0.190883  \n",
       "55613       0.266397          0.266407  \n",
       "55660       0.249435          0.298794  \n",
       "57431       0.081223          0.114438  \n",
       "57433       0.000260          0.043719  \n",
       "57435       0.033304          0.033304  \n",
       "57436       0.000165          0.049127  \n",
       "\n",
       "[14 rows x 24 columns]"
      ]
     },
     "execution_count": 119,
     "metadata": {},
     "output_type": "execute_result"
    }
   ],
   "source": [
    "df_int_aea[df_int_aea.index_PP==551]"
   ]
  },
  {
   "cell_type": "markdown",
   "metadata": {},
   "source": [
    "### Add gender data:"
   ]
  },
  {
   "cell_type": "code",
   "execution_count": null,
   "metadata": {
    "collapsed": false
   },
   "outputs": [],
   "source": [
    "full_pop = pd.read_csv('data/sal_pop.csv')"
   ]
  },
  {
   "cell_type": "code",
   "execution_count": null,
   "metadata": {
    "collapsed": false
   },
   "outputs": [],
   "source": [
    "def get_ratio(i,full_pop):\n",
    " \n",
    " try: \n",
    "    x = int(full_pop.iloc[i,].Female)/(int(full_pop.iloc[i,].Male)+int(full_pop.iloc[i,].Female)) \n",
    " \n",
    " except: \n",
    "    x =0\n",
    "\n",
    " return x\n",
    "    "
   ]
  },
  {
   "cell_type": "code",
   "execution_count": null,
   "metadata": {
    "collapsed": false
   },
   "outputs": [],
   "source": [
    "wom_ratio = [get_ratio(i,full_pop) for i in range(len(full_pop))]"
   ]
  },
  {
   "cell_type": "code",
   "execution_count": null,
   "metadata": {
    "collapsed": true
   },
   "outputs": [],
   "source": [
    "full_pop['wom_ratio'] = wom_ratio"
   ]
  },
  {
   "cell_type": "code",
   "execution_count": null,
   "metadata": {
    "collapsed": false
   },
   "outputs": [],
   "source": [
    "full_pop.drop('Male', axis=1, inplace=True)"
   ]
  },
  {
   "cell_type": "code",
   "execution_count": null,
   "metadata": {
    "collapsed": false
   },
   "outputs": [],
   "source": [
    "data_full = pd.merge(df_int_aea, full_pop, on='SAL_CODE')"
   ]
  },
  {
   "cell_type": "code",
   "execution_count": null,
   "metadata": {
    "collapsed": false
   },
   "outputs": [],
   "source": [
    "data_full.head()"
   ]
  },
  {
   "cell_type": "markdown",
   "metadata": {
    "collapsed": false
   },
   "source": [
    "WARDS:"
   ]
  },
  {
   "cell_type": "code",
   "execution_count": null,
   "metadata": {
    "collapsed": false
   },
   "outputs": [],
   "source": [
    "wardsShp =gpd.GeoDataFrame.from_file('../maps/data/Wards2011_aea.shp')"
   ]
  },
  {
   "cell_type": "code",
   "execution_count": null,
   "metadata": {
    "collapsed": false
   },
   "outputs": [],
   "source": [
    "wardsShp.head(n=2)"
   ]
  },
  {
   "cell_type": "code",
   "execution_count": null,
   "metadata": {
    "collapsed": false
   },
   "outputs": [],
   "source": [
    "za_province = gpd.GeoDataFrame.from_file('../south_africa_adm1.shp')#.set_index('id')\n"
   ]
  },
  {
   "cell_type": "code",
   "execution_count": null,
   "metadata": {
    "collapsed": true
   },
   "outputs": [],
   "source": [
    "%matplotlib inline"
   ]
  },
  {
   "cell_type": "code",
   "execution_count": null,
   "metadata": {
    "collapsed": false
   },
   "outputs": [],
   "source": [
    "#import matplotlib.pyplot as plt\n",
    "from matplotlib.collections import PatchCollection\n",
    "from descartes import PolygonPatch\n",
    "import fiona\n",
    "from shapely.geometry import Polygon, MultiPolygon, shape\n",
    "\n",
    "# We can extract the London Borough boundaries by filtering on the AREA_CODE key\n",
    "mp = MultiPolygon(\n",
    "    [shape(pol['geometry']) for pol in fiona.open('../south_africa_adm1.shp')])\n",
    "mpW = MultiPolygon(\n",
    "    [shape(pol['geometry']) for pol in fiona.open('../wards_delimitation/Wards_demarc/Wards2011.shp')])\n",
    "mpS = MultiPolygon(\n",
    "    [shape(pol['geometry']) for pol in fiona.open('shapefiles/oryginal/SAL_SA_2013.shp')])\n",
    "\n",
    "# define map extent\n",
    "lllon = 21\n",
    "lllat = -18\n",
    "urlon = 34\n",
    "urlat = -8\n",
    "\n",
    "# set up Basemap instance\n",
    "m = Basemap(\n",
    "    projection = 'merc',\n",
    "    llcrnrlon = lllon, llcrnrlat = lllat, urcrnrlon = urlon, urcrnrlat = urlat,\n",
    "    resolution='h')\n",
    "# We can now do GIS-ish operations on each borough polygon!\n",
    "# we could randomize this by dumping the polygons into a list and shuffling it\n",
    "# or we could define a random colour using fc=np.random.rand(3,)\n",
    "# available colour maps are here: http://wiki.scipy.org/Cookbook/Matplotlib/Show_colormaps\n",
    "cm = plt.get_cmap('RdBu')\n",
    "num_colours = len(mpW)\n",
    " \n",
    "fig = plt.figure(figsize=(16, 16))\n",
    "ax = fig.add_subplot(111)\n",
    "minx, miny, maxx, maxy = mp.bounds\n",
    "w, h = maxx - minx, maxy - miny\n",
    "ax.set_xlim(minx - 0.2 * w, maxx + 0.2 * w)\n",
    "ax.set_ylim(miny - 0.2 * h, maxy + 0.2 * h)\n",
    "ax.set_aspect(1)\n",
    "\n",
    "patches = []\n",
    "for idx, p in enumerate(mp):\n",
    "    #colour = cm(1. * idx / num_colours)\n",
    "    patches.append(PolygonPatch(p, alpha=1., zorder=1))\n",
    "\n",
    "for idx, p in enumerate(mpW):\n",
    "    colour = cm(1. * idx / num_colours)\n",
    "    patches.append(PolygonPatch(p, ec='#4C4C4C', alpha=1., zorder=1))\n",
    "\n",
    "for idx, p in enumerate(mpS):\n",
    "    colour = cm(1. * idx / num_colours)\n",
    "    patches.append(PolygonPatch(p, ec='#4C4C4C', alpha=1., zorder=1))\n",
    "\n",
    "ax.add_collection(PatchCollection(patches, match_original=True))\n",
    "\n",
    "ax.set_xticks([])\n",
    "ax.set_yticks([])\n",
    "plt.title(\"SAL on Wards\")\n",
    "#plt.savefig('data/london_from_shp.png', alpha=True, dpi=300)\n",
    "plt.show()"
   ]
  },
  {
   "cell_type": "code",
   "execution_count": null,
   "metadata": {
    "collapsed": false
   },
   "outputs": [],
   "source": [
    "# define map extent\n",
    "lllon = 15\n",
    "lllat = -35\n",
    "urlon = 33\n",
    "urlat = -22\n",
    "\n",
    "# set up Basemap instance\n",
    "m = Basemap(\n",
    "    projection = 'merc',\n",
    "    llcrnrlon = lllon, llcrnrlat = lllat, urcrnrlon = urlon, urcrnrlat = urlat,\n",
    "    resolution='h')"
   ]
  },
  {
   "cell_type": "code",
   "execution_count": null,
   "metadata": {
    "collapsed": false,
    "scrolled": true
   },
   "outputs": [],
   "source": [
    "fig = plt.figure(figsize=(16, 16))\n",
    "m.drawmapboundary(fill_color=None, linewidth=0)\n",
    "m.drawcoastlines(color='#4C4C4C', linewidth=0.5)\n",
    "m.drawcountries()\n",
    "m.fillcontinents(color='#F2E6DB',lake_color='#DDF2FD')\n",
    "#m.readshapefile('../wards_delimitation/Wards_demarc/Wards2011.sbh','Wards',drawbounds=False)\n",
    "m.readshapefile('../maps/data/test','wards',drawbounds=False)"
   ]
  },
  {
   "cell_type": "code",
   "execution_count": null,
   "metadata": {
    "collapsed": false
   },
   "outputs": [],
   "source": [
    "from itertools import chain\n",
    "shp = fiona.open('../maps/data/test.shp')\n",
    "bds = shp.bounds\n",
    "shp.close()\n",
    "extra = 0.01\n",
    "ll = (bds[0], bds[1])\n",
    "ur = (bds[2], bds[3])\n",
    "coords = list(chain(ll, ur))\n",
    "w, h = coords[2] - coords[0], coords[3] - coords[1]"
   ]
  },
  {
   "cell_type": "code",
   "execution_count": null,
   "metadata": {
    "collapsed": false
   },
   "outputs": [],
   "source": [
    "m = Basemap(\n",
    "    projection='tmerc',\n",
    "    lon_0=24.000,\n",
    "    lat_0=-24.0000,\n",
    "    ellps = 'WGS84',\n",
    "    llcrnrlon=coords[0] - extra * w,\n",
    "    llcrnrlat=coords[1] - extra + 0.01 * h,\n",
    "    urcrnrlon=coords[2] + extra * w,\n",
    "    urcrnrlat=coords[3] + extra + 0.01 * h,\n",
    "    lat_ts=0,\n",
    "    resolution='i',\n",
    "    suppress_ticks=True)\n",
    "m.readshapefile(\n",
    "    '../maps/data/test',\n",
    "    'wards',\n",
    "    color='none',\n",
    "    zorder=2)"
   ]
  },
  {
   "cell_type": "markdown",
   "metadata": {},
   "source": [
    "clean the utf problems"
   ]
  },
  {
   "cell_type": "code",
   "execution_count": null,
   "metadata": {
    "collapsed": true
   },
   "outputs": [],
   "source": [
    "from unidecode import unidecode\n",
    "\n",
    "with fiona.open(\n",
    "        '../maps/data/wards_sel.shp', 'r') as source:\n",
    "\n",
    "    # Create an output shapefile with the same schema,\n",
    "    # coordinate systems. ISO-8859-1 encoding.\n",
    "    with fiona.open(\n",
    "            '../maps/data/wards_sel_cleaned.shp', 'w',\n",
    "            **source.meta) as sink:\n",
    "\n",
    "        # Identify all the str type properties.\n",
    "        str_prop_keys = [\n",
    "            k for k, v in sink.schema['properties'].items()\n",
    "                if v.startswith('str')]\n",
    "\n",
    "        for rec in source:\n",
    "\n",
    "            # Transliterate and update each of the str properties.\n",
    "            for key in str_prop_keys:\n",
    "                val = rec['properties'][key]\n",
    "                if val:\n",
    "                    rec['properties'][key] = unidecode(val)\n",
    "\n",
    "            # Write out the transformed record.\n",
    "            sink.write(rec)"
   ]
  },
  {
   "cell_type": "code",
   "execution_count": null,
   "metadata": {
    "collapsed": false
   },
   "outputs": [],
   "source": [
    "salSHP = 'shapefiles/updated/sal_population_4326.shp'\n",
    "warSHP = '../wards_delimitation/Wards_demarc/Wards2011.shp'\n",
    "\n",
    "geo_war = gpd.GeoDataFrame.from_file(warSHP)\n",
    "geo_sal = gpd.GeoDataFrame.from_file(salSHP)"
   ]
  },
  {
   "cell_type": "code",
   "execution_count": null,
   "metadata": {
    "collapsed": false
   },
   "outputs": [],
   "source": [
    "import pyepsg\n",
    "\n",
    "pyepsg.get(geo_war.crs['init'].split(':')[1])"
   ]
  },
  {
   "cell_type": "code",
   "execution_count": null,
   "metadata": {
    "collapsed": false
   },
   "outputs": [],
   "source": [
    "pyepsg.get(geo_sal.crs['init'].split(':')[1])"
   ]
  },
  {
   "cell_type": "markdown",
   "metadata": {},
   "source": [
    " to plot the data on a folium map, we need to convert to a Geographic coordinate system with the wgs84 datum (EPSG: 4326). We also need to greate a GeoJSON object out of the GeoDataFrame.\n",
    " AND! as it turns out (many hourse of tripping over the problem) to SIMPLIFY the geometries. They are too big for webmaps."
   ]
  },
  {
   "cell_type": "code",
   "execution_count": null,
   "metadata": {
    "collapsed": true
   },
   "outputs": [],
   "source": [
    "warSHP = '../maps/data/Wards2011.shp'\n",
    "\n",
    "geo_war = gpd.GeoDataFrame.from_file(warSHP)\n",
    "#geo_sal = gpd.GeoDataFrame.from_file(salSHP_upd)\n"
   ]
  },
  {
   "cell_type": "code",
   "execution_count": null,
   "metadata": {
    "collapsed": false
   },
   "outputs": [],
   "source": [
    "geo_war.head(n=2)"
   ]
  },
  {
   "cell_type": "code",
   "execution_count": null,
   "metadata": {
    "collapsed": false
   },
   "outputs": [],
   "source": [
    "geo_war_sub = geo_war.iloc[:,[2,3,7,8,9]].reset_index().head(n=2)"
   ]
  },
  {
   "cell_type": "code",
   "execution_count": null,
   "metadata": {
    "collapsed": false
   },
   "outputs": [],
   "source": [
    "#g = geo_war_sub.simplify(0.05, preserve_topology=False)"
   ]
  },
  {
   "cell_type": "code",
   "execution_count": null,
   "metadata": {
    "collapsed": false
   },
   "outputs": [],
   "source": [
    "geo_war_sub.head(n=3)"
   ]
  },
  {
   "cell_type": "code",
   "execution_count": null,
   "metadata": {
    "collapsed": false
   },
   "outputs": [],
   "source": [
    "geo_war_sub.to_file('../maps/data/wards_sel.shp')"
   ]
  },
  {
   "cell_type": "code",
   "execution_count": null,
   "metadata": {
    "collapsed": false
   },
   "outputs": [],
   "source": [
    "geo_war_sub['geometry'].replace(g,inplace=True)\n",
    "#data['index_rank'].replace(index_dict, inplace=True)"
   ]
  },
  {
   "cell_type": "code",
   "execution_count": null,
   "metadata": {
    "collapsed": false
   },
   "outputs": [],
   "source": [
    "geo_war_sub_sim.head(n=2)"
   ]
  },
  {
   "cell_type": "code",
   "execution_count": null,
   "metadata": {
    "collapsed": false
   },
   "outputs": [],
   "source": [
    "salSHP = 'shapefiles/updated/sal_population.shp'\n",
    "geo_sal = gpd.GeoDataFrame.from_file(salSHP)"
   ]
  },
  {
   "cell_type": "code",
   "execution_count": null,
   "metadata": {
    "collapsed": false
   },
   "outputs": [],
   "source": [
    "#geo_sal.head(n=2)\n",
    "geo_sal_sub = geo_sal.iloc[:,[7,11,15,16,20,23]].reset_index()#.head()"
   ]
  },
  {
   "cell_type": "code",
   "execution_count": null,
   "metadata": {
    "collapsed": true
   },
   "outputs": [],
   "source": [
    "geo_sal_sub.to_file('../maps/data/sal_sub.shp')"
   ]
  },
  {
   "cell_type": "code",
   "execution_count": null,
   "metadata": {
    "collapsed": false
   },
   "outputs": [],
   "source": [
    "#gjsonSal = geo_sal.to_crs(epsg='4326').to_json()# no need to convert, as it already is in 4326\n",
    "#gjsonSal = geo_sal.to_json()\n",
    "#gjsonWar = geo_war.to_json()\n",
    "gj = g.to_json()"
   ]
  },
  {
   "cell_type": "code",
   "execution_count": null,
   "metadata": {
    "collapsed": false
   },
   "outputs": [],
   "source": [
    "import folium\n",
    "#import pandas as pd\n",
    "\n",
    "lllon = 15\n",
    "lllat = -35\n",
    "urlon = 33\n",
    "urlat = -22\n",
    "#state_geo = r'shapefiles/updated/sal_population.json'\n",
    "#ward_path = r'../maps/data/test.geojson'\n",
    "\n",
    "#state_geo = r'shapefiles/oryginal/SAL_SA_2013.json'\n",
    "state_geo = r'../maps/data/sal.json'\n",
    "#state_geo = r'temp_1E-7.topojson'\n",
    "\n",
    "#Let Folium determine the scale\n",
    "map = folium.Map(location=[(lllat+urlat)/2, (lllon+urlon)/2], tiles='Mapbox Bright',zoom_start=6)\n",
    "#,              tiles='cartodbpositron')\n",
    "#map.geo_json(geo_path=state_geo)\n",
    "#map.geo_json(geo_path=state_geoW)\n",
    "#map.geo_json(geo_path=ward_path)\n",
    "\n",
    "map.create_map(path='test.html')"
   ]
  },
  {
   "cell_type": "code",
   "execution_count": null,
   "metadata": {
    "collapsed": false
   },
   "outputs": [],
   "source": [
    "state_geo"
   ]
  },
  {
   "cell_type": "code",
   "execution_count": null,
   "metadata": {
    "collapsed": false
   },
   "outputs": [],
   "source": [
    "lllon = 15\n",
    "lllat = -35\n",
    "urlon = 33\n",
    "urlat = -22\n",
    "\n",
    "import folium\n",
    "#map = folium.Map(location=[-33.9249, 18.4241], zoom_start=10)\n",
    "\n",
    "mapa = folium.Map([(lllat+urlat)/2, (lllon+urlon)/2],\n",
    "                  zoom_start=7,\n",
    "                  tiles='cartodbpositron')\n",
    "\n",
    "#pSal = folium.features.GeoJson(gjsonSal)\n",
    "#pWae = folium.features.GeoJson(gjsonWar)\n",
    "\n",
    "#mapa.add_children(pSal)\n",
    "#mapa.add_children(pWar)\n",
    "#mapa.geo_json(gj)\n",
    "#test = folium.folium.Map.geo_json(gj)\n",
    "#ice_map.geo_json(geo_path=topo_path, topojson='objects.antarctic_ice_shelf')\n",
    "#mapa.add_children(test)\n",
    "mapa.create_map(path='test.html')"
   ]
  },
  {
   "cell_type": "code",
   "execution_count": null,
   "metadata": {
    "collapsed": true
   },
   "outputs": [],
   "source": [
    "testshp = '../maps/data/test.shp'\n",
    "geo_test = gpd.GeoDataFrame.from_file(testshp)"
   ]
  },
  {
   "cell_type": "code",
   "execution_count": null,
   "metadata": {
    "collapsed": false
   },
   "outputs": [],
   "source": [
    "import pyepsg\n",
    "pyepsg.get(geo_test.crs['init'].split(':')[1])"
   ]
  },
  {
   "cell_type": "code",
   "execution_count": null,
   "metadata": {
    "collapsed": true
   },
   "outputs": [],
   "source": [
    "gjson = geo_test.to_json()"
   ]
  },
  {
   "cell_type": "code",
   "execution_count": null,
   "metadata": {
    "collapsed": true
   },
   "outputs": [],
   "source": [
    "import folium\n",
    "geo_path = r'../maps/data/test.json'\n",
    "map_osm = folium.Map(location=[-24.5236, 24.6750],zoom_start=6)\n",
    "map_osm.geo_json(geo_path=geo_path)\n",
    "map_osm.create_map(path='osm.html')"
   ]
  },
  {
   "cell_type": "markdown",
   "metadata": {},
   "source": [
    "analytics based on intersections:"
   ]
  },
  {
   "cell_type": "code",
   "execution_count": null,
   "metadata": {
    "collapsed": true
   },
   "outputs": [],
   "source": [
    "def find_intersections(o):\n",
    "    \n",
    "    from collections import defaultdict\n",
    "\n",
    "    paired_ind = [o.pp_index, o.sal_index]\n",
    "\n",
    "    d_over_ind = defaultdict(list)\n",
    "\n",
    "    # creating a dictionary that has prescints as keys and associated small areas as values\n",
    "    for i in range(len(paired_ind[0].values)):\n",
    "        if not paired_ind[0].values[i]==paired_ind[1].values[i]: # it shows itself as intersection\n",
    "            d_over_ind[paired_ind[0].values[i]].append(paired_ind[1].values[i])\n",
    "\n",
    "    # get rid of the pol precincts with no small areas associated to them- not the most efficient way\n",
    "    d_temp = {}\n",
    "    for l in d_over_ind:\n",
    "        if len(d_over_ind[l]):\n",
    "            d_temp[l] = d_over_ind[l]\n",
    "\n",
    "    return d_temp\n",
    "    \n",
    "    \n",
    "def calculate_join_indices(g1_reind, g2_reind):\n",
    "        out = sjoin(g1_reind, g2_reind, how =\"inner\", op = \"intersects\")\n",
    "        \n",
    "        out.drop('index_right', axis=1, inplace=True) \n",
    "        dict_over_ind = find_intersections(out) \n",
    "        \n",
    "        return dict_over_ind\n",
    "    "
   ]
  },
  {
   "cell_type": "code",
   "execution_count": null,
   "metadata": {
    "collapsed": false
   },
   "outputs": [],
   "source": [
    "#warSHP = '../maps/data/Wards2011_aea.shp'\n",
    "\n",
    "#geo_war = gpd.GeoDataFrame.from_file(warSHP)\n",
    "\n",
    "#salSHP = 'shapefiles/updated/sal_population_aea.shp'\n",
    "#geo_sal = gpd.GeoDataFrame.from_file(salSHP)\n",
    "#geo_sal = geo_sal.reset_index()\n",
    "\n",
    "#geo_war_sub = geo_war.iloc[:,[2,3,7,8,9]].reset_index()#.head(n=2)\n",
    "out = sjoin(geo_war_sub, geo_sal, how =\"inner\", op = \"intersects\")\n",
    "        "
   ]
  },
  {
   "cell_type": "code",
   "execution_count": null,
   "metadata": {
    "collapsed": false
   },
   "outputs": [],
   "source": [
    "out_sub = out.iloc[:,[2,3,5,6,15,23,24,28]].reset_index().rename(columns={'index':'index_ward','index_right':'index_sal'})"
   ]
  },
  {
   "cell_type": "code",
   "execution_count": null,
   "metadata": {
    "collapsed": false
   },
   "outputs": [],
   "source": [
    "geo_war_sub = geo_war_sub.rename(columns={'index':'index_ward'})#head(n=2)\n",
    "#head(n=2)\n",
    "geo_sal_sub = geo_sal.iloc[:,[5,11,16,17,19,21,24]].reset_index().rename(columns={'index':'index_sal'})                               "
   ]
  },
  {
   "cell_type": "code",
   "execution_count": null,
   "metadata": {
    "collapsed": false
   },
   "outputs": [],
   "source": [
    "from collections import defaultdict\n",
    "\n",
    "paired_ind = [out_sub.index_ward, out_sub.index_sal]\n",
    "\n",
    "dict_temp = defaultdict(list)\n",
    "\n",
    "    # creating a dictionary that has prescints as keys and associated small areas as values\n",
    "for i in range(len(paired_ind[0].values)):\n",
    "        if not paired_ind[0].values[i]==paired_ind[1].values[i]: # it shows itself as intersection\n",
    "            dict_temp[paired_ind[0].values[i]].append(paired_ind[1].values[i])\n",
    "\n",
    "dict_int_ward = {}\n",
    "for l in dict_temp:\n",
    "        if len(dict_temp[l]):\n",
    "            dict_int_ward[l] = dict_temp[l]\n",
    "    \n",
    "#dict_int_ward"
   ]
  },
  {
   "cell_type": "code",
   "execution_count": null,
   "metadata": {
    "collapsed": false
   },
   "outputs": [],
   "source": [
    "def calculate_join_ward_sal(dict_over_ind, g1_reind, g2_reind):\n",
    "        area_total = 0\n",
    "        data_aggreg = []\n",
    "\n",
    "        # note to self: make sure to import shapely Polygon\n",
    "        for index1, row in g1_reind.iterrows():\n",
    "            #print(index1, row.index_ward)\n",
    "            try:\n",
    "                index1 = row.index_ward\n",
    "               \n",
    "                sals_found = dict_over_ind[index1]\n",
    "                for sal in range(len(sals_found)):\n",
    "                    pom = g2_reind[g2_reind.index_sal == sals_found[sal]]['geometry']        \n",
    "\n",
    "                    area_int = pom.intersection(row['geometry']).area.values[0]                    \n",
    "                    \n",
    "                    area_sal = pom.values[0].area\n",
    "                    int_percent = area_int/area_sal\n",
    "                    #popu_count = g2_reind[g2_reind.sal_index == sals_found[sal]]['PPL_CNT'].values[0]\n",
    "                    \n",
    "                   \n",
    "                    extra_info_col = ['MP_NAME','PR_NAME','SAL_CODE','SP_NAME']\n",
    "\n",
    "                    extra_names = g2_reind[g2_reind.index_sal == sals_found[sal]][extra_info_col]#.filter(regex=(\"NAME\"))\n",
    "\n",
    "                    #extra_names = g2_reind[g2_reind.sal_index == sals_found[sal]][extra_info_col_names]#.filter(regex=(\"NAME\"))\n",
    "\n",
    "                    data_aggreg.append({'geometry': pom.intersection(row['geometry']).values[0],\\\n",
    "                                        'id1': index1,'ward_id': row.WARD_ID,'id2': sals_found[sal] ,'area_int': area_int,\\\n",
    "                                        'area_sal': area_sal,'int_percent': int_percent,\\\n",
    "                                  'MP_NAME': extra_names.MP_NAME.values[0],\\\n",
    "                                  'PR_NAME': extra_names.PR_NAME.values[0],'SAL_CODE': extra_names.SAL_CODE.values[0],\\\n",
    "                                  'SP_NAME': extra_names.SP_NAME.values[0]} )\n",
    "                                    \n",
    "            except:\n",
    "                pass\n",
    "         \n",
    "        cols=['geometry', 'id1','ward_id','id2','area_int','area_sal','int_percent','MP_NAME','PR_NAME','SAL_CODE','SP_NAME']    \n",
    "        df_t = gpd.GeoDataFrame(data_aggreg,columns=cols)\n",
    "        #df_t.to_file('shapefiles/sal_ward.shp')\n",
    "        return df_t\n",
    "           "
   ]
  },
  {
   "cell_type": "code",
   "execution_count": null,
   "metadata": {
    "collapsed": false
   },
   "outputs": [],
   "source": [
    "from timeit import default_timer as timer\n",
    "\n",
    "start = timer() \n",
    "df = calculate_join_ward_sal(dict_int_ward,geo_war_sub, geo_sal_sub)\n",
    "end = timer()\n",
    "print(\"time: \", end - start)  "
   ]
  },
  {
   "cell_type": "code",
   "execution_count": null,
   "metadata": {
    "collapsed": false
   },
   "outputs": [],
   "source": [
    "df.head()"
   ]
  },
  {
   "cell_type": "code",
   "execution_count": null,
   "metadata": {
    "collapsed": false
   },
   "outputs": [],
   "source": [
    "df.to_csv('df.csv')"
   ]
  },
  {
   "cell_type": "code",
   "execution_count": null,
   "metadata": {
    "collapsed": false
   },
   "outputs": [],
   "source": [
    "df_nc = df[df.int_percent<1]\n",
    "#df.groupby(by=['ward_id']).sum()"
   ]
  },
  {
   "cell_type": "code",
   "execution_count": null,
   "metadata": {
    "collapsed": false
   },
   "outputs": [],
   "source": [
    "s = df_nc.groupby(by=['PR_NAME','ward_id'])"
   ]
  },
  {
   "cell_type": "code",
   "execution_count": null,
   "metadata": {
    "collapsed": false
   },
   "outputs": [],
   "source": [
    "type(s)"
   ]
  },
  {
   "cell_type": "code",
   "execution_count": null,
   "metadata": {
    "collapsed": false
   },
   "outputs": [],
   "source": [
    "#There are 4277 wards\n",
    "len(geo_war)"
   ]
  },
  {
   "cell_type": "code",
   "execution_count": null,
   "metadata": {
    "collapsed": false
   },
   "outputs": [],
   "source": [
    "# all wards have intersections\n",
    "len(set(df_nc.ward_id))"
   ]
  },
  {
   "cell_type": "code",
   "execution_count": null,
   "metadata": {
    "collapsed": false
   },
   "outputs": [],
   "source": [
    "#84907 SAL areas\n",
    "len(geo_sal_sub)"
   ]
  },
  {
   "cell_type": "code",
   "execution_count": null,
   "metadata": {
    "collapsed": false
   },
   "outputs": [],
   "source": [
    "# half of the intersect\n",
    "len(set(df_nc.SAL_CODE))"
   ]
  },
  {
   "cell_type": "markdown",
   "metadata": {},
   "source": [
    "40515 out of 84907 SALs intersect ward borders.\n",
    "Let's see whether the intersections generated from PP and SAL fit better."
   ]
  },
  {
   "cell_type": "code",
   "execution_count": null,
   "metadata": {
    "collapsed": false
   },
   "outputs": [],
   "source": [
    "#trying the intersections\n",
    "geo_int_p = pd.read_csv('data/pp_int_intersections.csv')"
   ]
  },
  {
   "cell_type": "code",
   "execution_count": null,
   "metadata": {
    "collapsed": false
   },
   "outputs": [],
   "source": [
    "geo_war_sub.crs"
   ]
  },
  {
   "cell_type": "code",
   "execution_count": null,
   "metadata": {
    "collapsed": false
   },
   "outputs": [],
   "source": [
    "#geo_int.head(n=2)\n",
    "geo_int = gpd.GeoDataFrame(geo_int_p, crs=geo_war_sub.crs)"
   ]
  },
  {
   "cell_type": "code",
   "execution_count": null,
   "metadata": {
    "collapsed": false,
    "scrolled": true
   },
   "outputs": [],
   "source": [
    "#geo_int.head(n=2)\n",
    "cols = [c for c in geo_int.columns if c.lower()[:7] != 'unnamed']\n",
    "geo_int = geo_int[cols]"
   ]
  },
  {
   "cell_type": "code",
   "execution_count": null,
   "metadata": {
    "collapsed": false
   },
   "outputs": [],
   "source": [
    "geo_int.head(n=2)\n",
    "geo_int_sub = geo_int.iloc[:,[1,2,0]].reset_index().rename(columns={'index':'index_int'})                            "
   ]
  },
  {
   "cell_type": "code",
   "execution_count": null,
   "metadata": {
    "collapsed": false
   },
   "outputs": [],
   "source": [
    "geo_sal_sub.head(n=1)"
   ]
  },
  {
   "cell_type": "code",
   "execution_count": null,
   "metadata": {
    "collapsed": false
   },
   "outputs": [],
   "source": [
    "geo_int_sub.geometry.head()"
   ]
  },
  {
   "cell_type": "code",
   "execution_count": null,
   "metadata": {
    "collapsed": false
   },
   "outputs": [],
   "source": [
    "geo_war_sub.head(n=2)"
   ]
  },
  {
   "cell_type": "code",
   "execution_count": null,
   "metadata": {
    "collapsed": false
   },
   "outputs": [],
   "source": [
    "out = sjoin(geo_war_sub.head(n=1), geo_int_sub, how =\"inner\", op = \"intersects\")\n"
   ]
  },
  {
   "cell_type": "code",
   "execution_count": null,
   "metadata": {
    "collapsed": false
   },
   "outputs": [],
   "source": [
    "geo_war_sub.head(n=2)"
   ]
  },
  {
   "cell_type": "code",
   "execution_count": null,
   "metadata": {
    "collapsed": false
   },
   "outputs": [],
   "source": [
    "type(geo_int)"
   ]
  },
  {
   "cell_type": "code",
   "execution_count": null,
   "metadata": {
    "collapsed": false
   },
   "outputs": [],
   "source": [
    "geo_int.crs"
   ]
  },
  {
   "cell_type": "code",
   "execution_count": null,
   "metadata": {
    "collapsed": false
   },
   "outputs": [],
   "source": [
    "test = gpd.GeoDataFrame(pd.read_csv('data/pp_test2.csv'))"
   ]
  },
  {
   "cell_type": "code",
   "execution_count": null,
   "metadata": {
    "collapsed": false
   },
   "outputs": [],
   "source": [
    "geo_war_sub.to_csv('auch.csv')"
   ]
  },
  {
   "cell_type": "code",
   "execution_count": null,
   "metadata": {
    "collapsed": false
   },
   "outputs": [],
   "source": [
    "test.plot()"
   ]
  },
  {
   "cell_type": "code",
   "execution_count": null,
   "metadata": {
    "collapsed": false
   },
   "outputs": [],
   "source": [
    "f,ax = plt.subplots(1)\n",
    "gpd.plotting.plot_multipolygon(ax, df_int.head(n=2).geometry.values[0], linewidth = 0.1, edgecolr='grey')\n",
    "plt.show()"
   ]
  },
  {
   "cell_type": "code",
   "execution_count": null,
   "metadata": {
    "collapsed": false
   },
   "outputs": [],
   "source": [
    "df_int.head(n=2).geometry.values[0]"
   ]
  },
  {
   "cell_type": "code",
   "execution_count": null,
   "metadata": {
    "collapsed": true
   },
   "outputs": [],
   "source": []
  }
 ],
 "metadata": {
  "kernelspec": {
   "display_name": "Python 3",
   "language": "python",
   "name": "python3"
  },
  "language_info": {
   "codemirror_mode": {
    "name": "ipython",
    "version": 3
   },
   "file_extension": ".py",
   "mimetype": "text/x-python",
   "name": "python",
   "nbconvert_exporter": "python",
   "pygments_lexer": "ipython3",
   "version": "3.4.3"
  }
 },
 "nbformat": 4,
 "nbformat_minor": 0
}
