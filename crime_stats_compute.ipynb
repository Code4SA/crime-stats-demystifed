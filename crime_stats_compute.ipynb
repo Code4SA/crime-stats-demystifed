{
 "cells": [
  {
   "cell_type": "markdown",
   "metadata": {
    "collapsed": false
   },
   "source": [
    "Notation:\n",
    "SAL- small area\n",
    "PP- police precinct"
   ]
  },
  {
   "cell_type": "code",
   "execution_count": 2,
   "metadata": {
    "collapsed": true
   },
   "outputs": [],
   "source": [
    "from random import shuffle, randint\n",
    "import numpy as np\n",
    "import matplotlib.pyplot as plt\n",
    "from matplotlib.collections import PatchCollection\n",
    "from mpl_toolkits.basemap import Basemap\n",
    "from shapely.geometry import Polygon, Point, MultiPoint, MultiPolygon, LineString, mapping, shape\n",
    "from descartes import PolygonPatch\n",
    "import random\n",
    "import fiona\n",
    "import numpy as np\n",
    "import csv\n",
    "from fiona import collection\n",
    "\n",
    "import geopandas as gpd\n",
    "from geopandas.tools import sjoin # rtree index in-build, used with inner, intersection\n",
    "import pandas as pd\n",
    "\n",
    "from collections import defaultdict\n"
   ]
  },
  {
   "cell_type": "code",
   "execution_count": 2,
   "metadata": {
    "collapsed": true
   },
   "outputs": [],
   "source": [
    "def csv_dict_reader(file_obj):\n",
    "\n",
    "    \"\"\"\n",
    "\n",
    "    Read a CSV file using csv.DictReader\n",
    "\n",
    "    \"\"\"\n",
    "\n",
    "    reader = csv.DictReader(file_obj, delimiter=',')\n",
    "    data_list=[]\n",
    "    for line in reader:\n",
    "        data_list.append(line)\n",
    "        \n",
    "    return data_list"
   ]
  },
  {
   "cell_type": "markdown",
   "metadata": {},
   "source": [
    "Adding crime numbers to the shapefiles"
   ]
  },
  {
   "cell_type": "code",
   "execution_count": null,
   "metadata": {
    "collapsed": false
   },
   "outputs": [],
   "source": [
    "with open(\"data/pp_murder_2015.csv\") as f_obj:\n",
    "        pp_data = csv_dict_reader(f_obj)\n",
    "        \n",
    "# rearrange the dict so the districts are directly the keys\n",
    "pp_data_d = {}\n",
    "pp_data_prov = {}\n",
    "\n",
    "for i in pp_data:\n",
    "    pp_data_d[i['PoliceStation'].lower()] = int(i['Incidents']) \n",
    "    pp_data_prov[i['PoliceStation'].lower()] = i['Province'] \n"
   ]
  },
  {
   "cell_type": "code",
   "execution_count": null,
   "metadata": {
    "collapsed": false
   },
   "outputs": [],
   "source": [
    "# police precincts\n",
    "polSHP  = 'shapefiles/oryginal/pol_prec.shp'\n",
    "\n",
    "\n",
    "# aggregate values from array x to a newly created key in d\n",
    "def aggregate(data, key1, xdata, key2): \n",
    "    i = 1 # check of the num of crimes is present\n",
    "    try:\n",
    "            temp = xdata[data[key2]]\n",
    "    except:\n",
    "            temp = 0\n",
    "            \n",
    "    data[key1] = temp \n",
    "    return i\n",
    "\n",
    "with collection(polSHP, 'r') as input:\n",
    "    sink_schema = input.schema.copy()\n",
    "    sink_schema['properties']['murd_cnt'] = 'int'\n",
    "    sink_schema['properties']['province'] = 'str:25'\n",
    "\n",
    "    # not specifying the .shp creates a dir with all files in it\n",
    "    with collection(\"shapefiles/updated/polPrec_murd2015_prov\", \"w\", \"ESRI Shapefile\", sink_schema) as sink:\n",
    "        \n",
    "        for pt in input:\n",
    "                pt_tosave = pt\n",
    "                # will be adding a property\n",
    "                pt_prop = pt['properties']       \n",
    "                pt_prop['compnt_nm'] = pt_prop['compnt_nm'].lower() # change to lower case to be able to compare\n",
    "        \n",
    "                check_exists = aggregate(pt_prop, 'murd_cnt', pp_data_d, 'compnt_nm') # modifies d on the spot\n",
    "                check_exists = aggregate(pt_prop, 'province', pp_data_prov, 'compnt_nm') # modifies d on the spot\n",
    "\n",
    "                pt_tosave['properties'].update(pt_prop)\n",
    "                \n",
    "                sink.write(pt_tosave)\n"
   ]
  },
  {
   "cell_type": "code",
   "execution_count": null,
   "metadata": {
    "collapsed": false
   },
   "outputs": [],
   "source": [
    "geo_sal.head()"
   ]
  },
  {
   "cell_type": "code",
   "execution_count": 7,
   "metadata": {
    "collapsed": false
   },
   "outputs": [],
   "source": [
    "polSHP  = 'shapefiles/oryginal/pol_prec.shp'\n",
    "\n",
    "polSHP.format_map"
   ]
  },
  {
   "cell_type": "markdown",
   "metadata": {},
   "source": [
    "Adding population data to the SAL shapefiles"
   ]
  },
  {
   "cell_type": "code",
   "execution_count": null,
   "metadata": {
    "collapsed": false
   },
   "outputs": [],
   "source": [
    "salSHP = 'shapefiles/oryginal/SAL_SA_2013.shp'\n",
    "\n",
    "with open(\"data/sal_processed_head.csv\") as f_obj:\n",
    "\n",
    "      sal_data = csv_dict_reader(f_obj)\n",
    "\n",
    "sal_data_d = {}\n",
    "\n",
    "# put it in a dictionary\n",
    "for i in sal_data:\n",
    "    sal_data_d[int(i[\"district\"])]=int(i[\"count\"]) \n",
    "\n",
    "\n",
    "\n",
    "# aggregate values from array x to a newly created key in d- it enforces int on the key\n",
    "def aggregate_int(d, key1, x, key2): \n",
    "    i = 1 # check of the num of crimes is present\n",
    "    try:\n",
    "            temp = x[int(d[key2])]\n",
    "    except:\n",
    "            temp = 0\n",
    "            \n",
    "    d[key1] = temp #x[d[key2]]\n",
    "    return i\n",
    "\n",
    "with collection(salSHP, 'r') as input:\n",
    "    sink_schema_sal = input.schema.copy()\n",
    "    sink_schema_sal['properties']['PPL_CNT'] = 'int'\n",
    "    \n",
    "    # not specifying the .shp creates a dir with all files in it\n",
    "    with collection(\"shapefiles/updated/sal_population\", \"w\", \"ESRI Shapefile\", sink_schema_sal) as sink:\n",
    "        \n",
    "        for pt in input:\n",
    "            d = pt['properties']\n",
    "            # this bit is for city of Cape Town\n",
    "            #if (d['MN_NAME'] == 'City of Cape Town'): # we restrict to the City of CT\n",
    "            f = pt       \n",
    "        \n",
    "            check_exists = aggregate_int(d, 'PPL_CNT', sal_data_d, 'SAL_CODE') # modifies d on the spot\n",
    "                \n",
    "                #sal_shp_all_data[i]['PPL_CNT'] = sal_data_d[int(sal_shp_all_data[i]['SAL_CODE'])]\n",
    "\n",
    "            f['properties'].update(d)\n",
    "                \n",
    "            sink.write(f)"
   ]
  },
  {
   "cell_type": "markdown",
   "metadata": {},
   "source": [
    "checking which column entries to keep:"
   ]
  },
  {
   "cell_type": "code",
   "execution_count": 13,
   "metadata": {
    "collapsed": false
   },
   "outputs": [
    {
     "data": {
      "text/html": [
       "<div>\n",
       "<table border=\"1\" class=\"dataframe\">\n",
       "  <thead>\n",
       "    <tr style=\"text-align: right;\">\n",
       "      <th></th>\n",
       "      <th>MN_CODE</th>\n",
       "      <th>MN_CODE_st</th>\n",
       "      <th>MP_CODE</th>\n",
       "      <th>MP_CODE_st</th>\n",
       "      <th>PR_CODE</th>\n",
       "      <th>PR_CODE_st</th>\n",
       "      <th>SAL_CODE</th>\n",
       "      <th>SAL_CODE_s</th>\n",
       "      <th>SP_CODE</th>\n",
       "      <th>SP_CODE_st</th>\n",
       "    </tr>\n",
       "  </thead>\n",
       "  <tbody>\n",
       "    <tr>\n",
       "      <th>0</th>\n",
       "      <td>160</td>\n",
       "      <td>160</td>\n",
       "      <td>160001</td>\n",
       "      <td>160001</td>\n",
       "      <td>1</td>\n",
       "      <td>1</td>\n",
       "      <td>1600090</td>\n",
       "      <td>1600090</td>\n",
       "      <td>160001001</td>\n",
       "      <td>160001001</td>\n",
       "    </tr>\n",
       "    <tr>\n",
       "      <th>1</th>\n",
       "      <td>160</td>\n",
       "      <td>160</td>\n",
       "      <td>160002</td>\n",
       "      <td>160002</td>\n",
       "      <td>1</td>\n",
       "      <td>1</td>\n",
       "      <td>1600001</td>\n",
       "      <td>1600001</td>\n",
       "      <td>160002001</td>\n",
       "      <td>160002001</td>\n",
       "    </tr>\n",
       "  </tbody>\n",
       "</table>\n",
       "</div>"
      ],
      "text/plain": [
       "   MN_CODE MN_CODE_st  MP_CODE MP_CODE_st  PR_CODE PR_CODE_st  SAL_CODE  \\\n",
       "0      160        160   160001     160001        1          1   1600090   \n",
       "1      160        160   160002     160002        1          1   1600001   \n",
       "\n",
       "  SAL_CODE_s    SP_CODE SP_CODE_st  \n",
       "0    1600090  160001001  160001001  \n",
       "1    1600001  160002001  160002001  "
      ]
     },
     "execution_count": 13,
     "metadata": {},
     "output_type": "execute_result"
    }
   ],
   "source": [
    "#geo_sal = gpd.GeoDataFrame.from_file(salSHP)\n",
    "geo_sal.filter(regex=(\"CODE\")).head(n=2)"
   ]
  },
  {
   "cell_type": "code",
   "execution_count": 1,
   "metadata": {
    "collapsed": false
   },
   "outputs": [],
   "source": [
    "import geopandas as gpd\n",
    "from geopandas.tools import sjoin # rtree index in-build, used with inner, intersection\n",
    "\n",
    "def find_intersections(o):\n",
    "    \n",
    "    paired_ind = [o.polPrecincts_index, o.sal_index]\n",
    "\n",
    "    d_over_ind = defaultdict(list)\n",
    "\n",
    "    # creating a dictionary that has prescints as keys and associated small areas as values\n",
    "    for i in range(len(paired_ind[0].values)):\n",
    "        if not paired_ind[0].values[i]==paired_ind[1].values[i]: # it shows itself as intersection\n",
    "            d_over_ind[paired_ind[0].values[i]].append(paired_ind[1].values[i])\n",
    "\n",
    "    # get rid of the pol precincts with no small areas associated to them- not the most efficient way\n",
    "    d_temp = {}\n",
    "    for l in d_over_ind:\n",
    "        if len(d_over_ind[l]):\n",
    "            d_temp[l] = d_over_ind[l]\n",
    "\n",
    "    return d_temp\n",
    "    \n",
    "    \n",
    "def calculate_join_indices(g1, g2):\n",
    "\n",
    "        # A: region of the police data with criminal record\n",
    "        # C: small area with population data\n",
    "        # we look for all small areas intersecting a given C_i, calculate the fraction of inclusion, scale the\n",
    "        # population accordingly: area(A_j, where A_j crosses C_i)/area(A_j)* popul(A_j)\n",
    "\n",
    "        g1_reind = g1.reset_index().rename(columns={'index':'polPrecincts_index'})\n",
    "        g2_reind = g2.reset_index().rename(columns={'index':'sal_index'})\n",
    "\n",
    "        # the actual indexing:\n",
    "        out = sjoin(g1_reind, g2_reind, how =\"inner\", op = \"intersects\")\n",
    "        out.drop('index_right', axis=1, inplace=True) # there is a double index fo smal areas, so we drop one\n",
    "        #out_sorted = out.sort(columns='polPrecincts_index', ascending=True) # guess sorting is not necessary, cause we are\n",
    "        # using doctionaries at later stages\n",
    "        #dict_over_ind = find_intersections(out_sorted)\n",
    "\n",
    "        # output retains only 1 area (left or right join), and gives no intersection area.\n",
    "        # so we create an array with paired indices: police precincts with associated small areas\n",
    "        # we use it in a loop in a function below\n",
    "        dict_over_ind = find_intersections(out) \n",
    "        \n",
    "        return dict_over_ind, g1_reind, g2_reind\n",
    "    \n",
    "def calculate_join(dict_over_ind, g1_reind, g2_reind, out_name):\n",
    "        area_total = 0\n",
    "        data_aggreg = []\n",
    "\n",
    "        # note to self: make sure to import shapely Polygon\n",
    "        for index1, crim in g1_reind.iterrows():\n",
    "            try:\n",
    "                index1 = crim.polPrecincts_index\n",
    "                sals_found = dict_over_ind[index1]\n",
    "\n",
    "                for sal in range(len(sals_found)):\n",
    "                    pom = g2_reind[g2_reind.sal_index == sals_found[sal]]['geometry']        \n",
    "\n",
    "                    #if pom.intersects(crim['geometry']).values[0]:\n",
    "                    area_int = pom.intersection(crim['geometry']).area.values[0]\n",
    "                    if area_int>0:\n",
    "                        area_total += area_int \n",
    "                        area_crim = crim['geometry'].area\n",
    "\n",
    "                        area_popu = pom.values[0].area\n",
    "\n",
    "                        popu_count = g2_reind[g2_reind.sal_index == sals_found[sal]]['PPL_CNT'].values[0]\n",
    "                        murd_count = crim['murd_cnt']\n",
    "                        pol_province = crim['province']\n",
    "                        popu_frac = (area_int / area_popu) * popu_count# fraction of the pop area contained inside the crim\n",
    "                        #print(popu_frac)\n",
    "                        extra_info_col_names = ['DC_NAME','MN_NAME','MP_NAME','PR_NAME','SP_NAME']\n",
    "                        \n",
    "                        extra_info_col_codes = ['MN_CODE','MP_CODE','PR_CODE','SAL_CODE','SP_CODE']\n",
    "\n",
    "                        extra_names = g2_reind[g2_reind.sal_index == sals_found[sal]][extra_info_col_names]#.filter(regex=(\"NAME\"))\n",
    "                        extra_codes = g2_reind[g2_reind.sal_index == sals_found[sal]][extra_info_col_codes]#.filter(regex=(\"NAME\"))\n",
    "\n",
    "                        data_aggreg.append({'geometry': pom.intersection(crim['geometry']).values[0], 'id1': index1,\\\n",
    "                                      'id2': sals_found[sal] ,'area_crim': area_crim,'area_pop': area_popu,\\\n",
    "                                  'area_inter': area_int, 'popu_frac' : popu_frac, 'popu_count': popu_count,\\\n",
    "                                  'murd_cnt': murd_count,'province': pol_province,\n",
    "                                  'DC_NAME': extra_names.DC_NAME.values[0],\\\n",
    "                                  'MN_NAME': extra_names.MN_NAME.values[0], 'MP_NAME': extra_names.MP_NAME.values[0],\\\n",
    "                                  'PR_NAME': extra_names.PR_NAME.values[0],'SP_NAME': extra_names.SP_NAME.values[0],\\\n",
    "                                  'MN_CODE': extra_codes.MN_CODE.values[0],'MP_CODE': extra_codes.MP_CODE.values[0],\\\n",
    "                                  'PR_CODE': extra_codes.PR_CODE.values[0],'SAL_CODE': extra_codes.SAL_CODE.values[0],\\\n",
    "                                  'SP_CODE': extra_codes.SP_CODE.values[0]} )\n",
    "            except:\n",
    "                pass\n",
    "            \n",
    "        df_t = gpd.GeoDataFrame(data_aggreg,columns=['geometry', 'id1','id2','area_crim',\\\n",
    "                                       'area_pop','area_inter', 'popu_frac',\\\n",
    "                                       'popu_count', 'murd_cnt','province','DC_NAME',\\\n",
    "                                       'MN_NAME','MP_NAME','PR_NAME','SP_NAME',\\\n",
    "                                      'MN_CODE','MP_CODE','PR_CODE','SAL_CODE','SP_CODE'])\n",
    "        df_t.to_file(out_name)\n",
    "        return df_t, area_total, data_aggreg"
   ]
  },
  {
   "cell_type": "markdown",
   "metadata": {},
   "source": [
    "Main functions to find intersection:"
   ]
  },
  {
   "cell_type": "code",
   "execution_count": 3,
   "metadata": {
    "collapsed": false
   },
   "outputs": [],
   "source": [
    "salSHP_upd = 'shapefiles/updated/sal_population/sal_population.shp'\n",
    "polSHP_upd = 'shapefiles/updated/polPrec_murd2015_prov/polPrec_murd2015_prov.shp'\n",
    "\n",
    "geo_pol = gpd.GeoDataFrame.from_file(polSHP_upd)\n",
    "geo_sal = gpd.GeoDataFrame.from_file(salSHP_upd)\n",
    "\n",
    "\n",
    "\n",
    "#dict_int, geo_pol_reind, geo_sal_reind = calculate_join_indices(geo_pol,geo_sal)\n",
    "#out_name ='data/intersection_int_ext.shp'\n",
    "#df, sum_area, data = calculate_join(dict_int, geo_pol_reind, geo_sal_reind, out_name)\n"
   ]
  },
  {
   "cell_type": "code",
   "execution_count": 17,
   "metadata": {
    "collapsed": false
   },
   "outputs": [
    {
     "data": {
      "text/plain": [
       "0    POLYGON ((18.68988157500007 -30.60189670299991...\n",
       "1    POLYGON ((18.35723010300006 -31.57914551399995...\n",
       "2    POLYGON ((18.46169438500004 -31.64855819899992...\n",
       "3    POLYGON ((18.06327575100005 -30.91043594799993...\n",
       "4    POLYGON ((18.77038002100005 -30.58613014199994...\n",
       "Name: geometry, dtype: object"
      ]
     },
     "execution_count": 17,
     "metadata": {},
     "output_type": "execute_result"
    }
   ],
   "source": [
    "geo_sal.geometry.head()"
   ]
  },
  {
   "cell_type": "markdown",
   "metadata": {},
   "source": [
    "find pol precincts within WC boundary"
   ]
  },
  {
   "cell_type": "code",
   "execution_count": null,
   "metadata": {
    "collapsed": false
   },
   "outputs": [],
   "source": [
    "za_province = gpd.read_file('za-provinces.topojson',driver='GeoJSON')#.set_index('id')\n",
    "za_province.crs={'init': '27700'}\n",
    "\n",
    "\n",
    "wc_boundary = za_province.ix[8].geometry # WC\n",
    "#pp_WC = geo_pol[geo_pol.geometry.within(wc_boundary)]\n",
    "pp_WC_in = geo_pol[geo_pol.geometry.intersects(wc_boundary)]\n",
    "#.unary_union"
   ]
  },
  {
   "cell_type": "code",
   "execution_count": null,
   "metadata": {
    "collapsed": false
   },
   "outputs": [],
   "source": [
    "pp_WC_overlaps = pp_WC_in[pp_WC_in.province!=\"Western Cape\"]\n",
    "pp_WC_pol_annot = pp_WC_in[pp_WC_in.province==\"Western Cape\"]"
   ]
  },
  {
   "cell_type": "code",
   "execution_count": null,
   "metadata": {
    "collapsed": false
   },
   "outputs": [],
   "source": [
    "#pp_test = pp_WC_in[pp_WC_in['compnt_nm'].isin(['atlantis','philadelphia','kraaifontein','brackenfell','kuilsriver','kleinvleveerste river','macassar','somerset west','fish hoek'])]\n",
    "#pp_test = pp_WC_in[pp_WC_in['compnt_nm'].isin(['beaufort west','doring bay','murraysburg', 'strandfontein','nuwerus','lutzville'])]"
   ]
  },
  {
   "cell_type": "code",
   "execution_count": null,
   "metadata": {
    "collapsed": false
   },
   "outputs": [],
   "source": [
    "%matplotlib inline\n",
    "pp_WC_overlaps.plot()"
   ]
  },
  {
   "cell_type": "code",
   "execution_count": null,
   "metadata": {
    "collapsed": true
   },
   "outputs": [],
   "source": [
    "sal_wc_union_bound = sal_WC_in.unary_union"
   ]
  },
  {
   "cell_type": "code",
   "execution_count": 17,
   "metadata": {
    "collapsed": false
   },
   "outputs": [],
   "source": [
    "df_int =gpd.GeoDataFrame.from_file('data/intersection_int_ext.shp')\n"
   ]
  },
  {
   "cell_type": "code",
   "execution_count": 18,
   "metadata": {
    "collapsed": false
   },
   "outputs": [
    {
     "data": {
      "text/html": [
       "<div>\n",
       "<table border=\"1\" class=\"dataframe\">\n",
       "  <thead>\n",
       "    <tr style=\"text-align: right;\">\n",
       "      <th></th>\n",
       "      <th>DC_NAME</th>\n",
       "      <th>MN_CODE</th>\n",
       "      <th>MN_NAME</th>\n",
       "      <th>MP_CODE</th>\n",
       "      <th>MP_NAME</th>\n",
       "      <th>PR_CODE</th>\n",
       "      <th>PR_NAME</th>\n",
       "      <th>SAL_CODE</th>\n",
       "      <th>SP_CODE</th>\n",
       "      <th>SP_NAME</th>\n",
       "      <th>area_crim</th>\n",
       "      <th>area_inter</th>\n",
       "      <th>area_pop</th>\n",
       "      <th>geometry</th>\n",
       "      <th>id1</th>\n",
       "      <th>id2</th>\n",
       "      <th>murd_cnt</th>\n",
       "      <th>popu_count</th>\n",
       "      <th>popu_frac</th>\n",
       "      <th>province</th>\n",
       "    </tr>\n",
       "  </thead>\n",
       "  <tbody>\n",
       "    <tr>\n",
       "      <th>0</th>\n",
       "      <td>Mangaung</td>\n",
       "      <td>499</td>\n",
       "      <td>Mangaung</td>\n",
       "      <td>499002</td>\n",
       "      <td>Mangaung NU</td>\n",
       "      <td>4</td>\n",
       "      <td>Free State</td>\n",
       "      <td>4990011</td>\n",
       "      <td>499002001</td>\n",
       "      <td>Mangaung NU</td>\n",
       "      <td>0.005141</td>\n",
       "      <td>0.000002</td>\n",
       "      <td>0.018405</td>\n",
       "      <td>(POLYGON ((26.75616684242582 -29.2889473566043...</td>\n",
       "      <td>0</td>\n",
       "      <td>28532</td>\n",
       "      <td>25</td>\n",
       "      <td>36</td>\n",
       "      <td>0.003229</td>\n",
       "      <td>Free State</td>\n",
       "    </tr>\n",
       "    <tr>\n",
       "      <th>1</th>\n",
       "      <td>Mangaung</td>\n",
       "      <td>499</td>\n",
       "      <td>Mangaung</td>\n",
       "      <td>499030</td>\n",
       "      <td>Botshabelo</td>\n",
       "      <td>4</td>\n",
       "      <td>Free State</td>\n",
       "      <td>4990076</td>\n",
       "      <td>499030015</td>\n",
       "      <td>Botshabelo M</td>\n",
       "      <td>0.005141</td>\n",
       "      <td>0.000005</td>\n",
       "      <td>0.000005</td>\n",
       "      <td>POLYGON ((26.72108123300006 -29.27990407799996...</td>\n",
       "      <td>0</td>\n",
       "      <td>27252</td>\n",
       "      <td>25</td>\n",
       "      <td>300</td>\n",
       "      <td>300.000000</td>\n",
       "      <td>Free State</td>\n",
       "    </tr>\n",
       "  </tbody>\n",
       "</table>\n",
       "</div>"
      ],
      "text/plain": [
       "    DC_NAME  MN_CODE   MN_NAME  MP_CODE      MP_NAME  PR_CODE     PR_NAME  \\\n",
       "0  Mangaung      499  Mangaung   499002  Mangaung NU        4  Free State   \n",
       "1  Mangaung      499  Mangaung   499030   Botshabelo        4  Free State   \n",
       "\n",
       "   SAL_CODE    SP_CODE       SP_NAME  area_crim  area_inter  area_pop  \\\n",
       "0   4990011  499002001   Mangaung NU   0.005141    0.000002  0.018405   \n",
       "1   4990076  499030015  Botshabelo M   0.005141    0.000005  0.000005   \n",
       "\n",
       "                                            geometry  id1    id2  murd_cnt  \\\n",
       "0  (POLYGON ((26.75616684242582 -29.2889473566043...    0  28532        25   \n",
       "1  POLYGON ((26.72108123300006 -29.27990407799996...    0  27252        25   \n",
       "\n",
       "   popu_count   popu_frac    province  \n",
       "0          36    0.003229  Free State  \n",
       "1         300  300.000000  Free State  "
      ]
     },
     "execution_count": 18,
     "metadata": {},
     "output_type": "execute_result"
    }
   ],
   "source": [
    "df_int.head(n=2)"
   ]
  },
  {
   "cell_type": "code",
   "execution_count": 19,
   "metadata": {
    "collapsed": true
   },
   "outputs": [],
   "source": [
    "# add population data per police percinct to the main table\n",
    "temp = df_int.groupby(by=['id1'])['popu_frac'].sum().reset_index()\n",
    "\n",
    "data_with_pop = pd.merge(df_int, temp, on='id1', how='outer')\\\n",
    "        .rename(columns={'popu_frac_y':'popu_frac_per_pp', 'popu_frac_x':'popu_inter'})\n",
    "\n",
    "# finally, update the murder rate per SAL : id2 is sal's id    \n",
    "\n",
    "data_with_pop['murd_est_per_int'] = data_with_pop['popu_inter']/data_with_pop['popu_frac_per_pp']\\\n",
    "           * data_with_pop['murd_cnt']\n",
    "data_mur_per_int = data_with_pop.groupby(by=['id2'])['murd_est_per_int'].sum().reset_index()\n",
    "\n",
    "data_mur_per_sal = data_mur_per_int.rename(columns={'murd_est_per_int':'murd_est_per_sal'})\n",
    "\n",
    "data_with_pop['ratio_per_int'] = data_with_pop['popu_inter']/data_with_pop['popu_frac_per_pp']\\\n",
    "           \n",
    "data_full = pd.merge(data_with_pop, data_mur_per_sal, on='id2', how='outer')\\\n",
    "        .rename(columns={'id1':'index_PP', 'id2':'index_SAL'})\n",
    "    \n",
    "# the geometry can be simplified using Line Simpl. algorithms\n",
    "# data_with_pop['geo_simplified'] = data_with_pop.geometry.simplify(1000)\n",
    "# for use one switches to a chosen simplified geometry:\n",
    "# data_with_pop.set_geometry('geo_simplified', inplace=True)\n",
    "\n",
    "    \n",
    "# sth if off when saving data_with_pop directly- complaines about being a Series object. \n",
    "#test = gpd.GeoDataFrame(data_with_pop)\n",
    "#test['geo_simplified'] = test.geometry.simplify(1000)\n",
    "#test.to_file('crime/GIS-analyses/pooled_data/intersection.shp')\n"
   ]
  },
  {
   "cell_type": "code",
   "execution_count": 20,
   "metadata": {
    "collapsed": false
   },
   "outputs": [
    {
     "data": {
      "text/html": [
       "<div>\n",
       "<table border=\"1\" class=\"dataframe\">\n",
       "  <thead>\n",
       "    <tr style=\"text-align: right;\">\n",
       "      <th></th>\n",
       "      <th>DC_NAME</th>\n",
       "      <th>MN_CODE</th>\n",
       "      <th>MN_NAME</th>\n",
       "      <th>MP_CODE</th>\n",
       "      <th>MP_NAME</th>\n",
       "      <th>PR_CODE</th>\n",
       "      <th>PR_NAME</th>\n",
       "      <th>SAL_CODE</th>\n",
       "      <th>SP_CODE</th>\n",
       "      <th>SP_NAME</th>\n",
       "      <th>...</th>\n",
       "      <th>index_PP</th>\n",
       "      <th>index_SAL</th>\n",
       "      <th>murd_cnt</th>\n",
       "      <th>popu_count</th>\n",
       "      <th>popu_inter</th>\n",
       "      <th>province</th>\n",
       "      <th>popu_frac_per_pp</th>\n",
       "      <th>murd_est_per_int</th>\n",
       "      <th>ratio_per_int</th>\n",
       "      <th>murd_est_per_sal</th>\n",
       "    </tr>\n",
       "  </thead>\n",
       "  <tbody>\n",
       "    <tr>\n",
       "      <th>0</th>\n",
       "      <td>Mangaung</td>\n",
       "      <td>499</td>\n",
       "      <td>Mangaung</td>\n",
       "      <td>499002</td>\n",
       "      <td>Mangaung NU</td>\n",
       "      <td>4</td>\n",
       "      <td>Free State</td>\n",
       "      <td>4990011</td>\n",
       "      <td>499002001</td>\n",
       "      <td>Mangaung NU</td>\n",
       "      <td>...</td>\n",
       "      <td>0</td>\n",
       "      <td>28532</td>\n",
       "      <td>25</td>\n",
       "      <td>36</td>\n",
       "      <td>0.003229</td>\n",
       "      <td>Free State</td>\n",
       "      <td>81883.400365</td>\n",
       "      <td>9.858649e-07</td>\n",
       "      <td>3.943460e-08</td>\n",
       "      <td>0.011461</td>\n",
       "    </tr>\n",
       "    <tr>\n",
       "      <th>1</th>\n",
       "      <td>Mangaung</td>\n",
       "      <td>499</td>\n",
       "      <td>Mangaung</td>\n",
       "      <td>499002</td>\n",
       "      <td>Mangaung NU</td>\n",
       "      <td>4</td>\n",
       "      <td>Free State</td>\n",
       "      <td>4990011</td>\n",
       "      <td>499002001</td>\n",
       "      <td>Mangaung NU</td>\n",
       "      <td>...</td>\n",
       "      <td>26</td>\n",
       "      <td>28532</td>\n",
       "      <td>28</td>\n",
       "      <td>36</td>\n",
       "      <td>0.000560</td>\n",
       "      <td>Free State</td>\n",
       "      <td>99917.889760</td>\n",
       "      <td>1.568253e-07</td>\n",
       "      <td>5.600903e-09</td>\n",
       "      <td>0.011461</td>\n",
       "    </tr>\n",
       "  </tbody>\n",
       "</table>\n",
       "<p>2 rows × 24 columns</p>\n",
       "</div>"
      ],
      "text/plain": [
       "    DC_NAME  MN_CODE   MN_NAME  MP_CODE      MP_NAME  PR_CODE     PR_NAME  \\\n",
       "0  Mangaung      499  Mangaung   499002  Mangaung NU        4  Free State   \n",
       "1  Mangaung      499  Mangaung   499002  Mangaung NU        4  Free State   \n",
       "\n",
       "   SAL_CODE    SP_CODE      SP_NAME       ...         index_PP  index_SAL  \\\n",
       "0   4990011  499002001  Mangaung NU       ...                0      28532   \n",
       "1   4990011  499002001  Mangaung NU       ...               26      28532   \n",
       "\n",
       "   murd_cnt popu_count  popu_inter    province  popu_frac_per_pp  \\\n",
       "0        25         36    0.003229  Free State      81883.400365   \n",
       "1        28         36    0.000560  Free State      99917.889760   \n",
       "\n",
       "   murd_est_per_int  ratio_per_int murd_est_per_sal  \n",
       "0      9.858649e-07   3.943460e-08         0.011461  \n",
       "1      1.568253e-07   5.600903e-09         0.011461  \n",
       "\n",
       "[2 rows x 24 columns]"
      ]
     },
     "execution_count": 20,
     "metadata": {},
     "output_type": "execute_result"
    }
   ],
   "source": [
    "data_full.head(n=2)"
   ]
  },
  {
   "cell_type": "raw",
   "metadata": {},
   "source": [
    "Small areas and police districts might have different annotation"
   ]
  },
  {
   "cell_type": "code",
   "execution_count": null,
   "metadata": {
    "collapsed": true
   },
   "outputs": [],
   "source": [
    "data_prov = data_full[['PR_NAME','province','murd_est_per_int']]"
   ]
  },
  {
   "cell_type": "markdown",
   "metadata": {},
   "source": [
    "Calculation of murders per province wrt police annotation of provinces:"
   ]
  },
  {
   "cell_type": "code",
   "execution_count": 21,
   "metadata": {
    "collapsed": false
   },
   "outputs": [
    {
     "data": {
      "text/plain": [
       "province\n",
       "0                   0\n",
       "Eastern Cape     3051\n",
       "Free State        943\n",
       "Gauteng          3671\n",
       "Kwazulu/Natal    3759\n",
       "Limpopo           777\n",
       "Mpumalanga        831\n",
       "North West        853\n",
       "Northern Cape     411\n",
       "Western Cape     3186\n",
       "Name: murd_est_per_int, dtype: float64"
      ]
     },
     "execution_count": 21,
     "metadata": {},
     "output_type": "execute_result"
    }
   ],
   "source": [
    "data_prov.groupby('province')['murd_est_per_int'].sum()"
   ]
  },
  {
   "cell_type": "markdown",
   "metadata": {},
   "source": [
    "same as above, but wrt to SAL annotation:"
   ]
  },
  {
   "cell_type": "code",
   "execution_count": 22,
   "metadata": {
    "collapsed": false
   },
   "outputs": [
    {
     "data": {
      "text/plain": [
       "PR_NAME\n",
       "Eastern Cape     3051.126629\n",
       "Free State        942.827510\n",
       "Gauteng          3654.691961\n",
       "KwaZulu-Natal    3758.865334\n",
       "Limpopo           775.293861\n",
       "Mpumalanga        832.509500\n",
       "North West        872.349270\n",
       "Northern Cape     408.343070\n",
       "Western Cape     3185.992865\n",
       "Name: murd_est_per_int, dtype: float64"
      ]
     },
     "execution_count": 22,
     "metadata": {},
     "output_type": "execute_result"
    }
   ],
   "source": [
    "data_prov.groupby('PR_NAME')['murd_est_per_int'].sum()"
   ]
  },
  {
   "cell_type": "code",
   "execution_count": null,
   "metadata": {
    "collapsed": false
   },
   "outputs": [],
   "source": [
    "# check over small areas\n",
    "pom = {}\n",
    "for ind, row in data_full.iterrows():\n",
    "    pom[row['index_SAL']] = row['murd_est_per_sal'] \n",
    "s=0\n",
    "for key in pom:\n",
    "    s = s + pom[key]\n",
    "print(s)"
   ]
  },
  {
   "cell_type": "code",
   "execution_count": null,
   "metadata": {
    "collapsed": false
   },
   "outputs": [],
   "source": [
    "#f, ax = plt.subplots(1, figsize=(12, 12))\n",
    "#wc.plot(ax=ax, color='grey', linewidth=0)\n",
    "#gpd.plotting.plot_multipolygon(ax, sal_wc_union_bound, facecolor='green')\n",
    "\n",
    "#gpd.plotting.plot_multipolygon(ax, sal_wc_union, facecolor='blue')"
   ]
  },
  {
   "cell_type": "code",
   "execution_count": null,
   "metadata": {
    "collapsed": false
   },
   "outputs": [],
   "source": [
    "f, ax = plt.subplots(1, figsize=(12, 12))\n",
    "gpd.plotting.plot_multipolygon(ax, pp_WC_overlaps.unary_union, facecolor='red')\n",
    "wc.plot(ax=ax, color='black', linewidth=0) "
   ]
  },
  {
   "cell_type": "code",
   "execution_count": 23,
   "metadata": {
    "collapsed": false
   },
   "outputs": [
    {
     "data": {
      "text/plain": [
       "2473.4295274818846"
      ]
     },
     "execution_count": 23,
     "metadata": {},
     "output_type": "execute_result"
    }
   ],
   "source": [
    "data_full[data_full.MN_NAME==\"City of Cape Town\"]['murd_est_per_int'].sum()"
   ]
  }
 ],
 "metadata": {
  "kernelspec": {
   "display_name": "Python 3",
   "language": "python",
   "name": "python3"
  },
  "language_info": {
   "codemirror_mode": {
    "name": "ipython",
    "version": 3
   },
   "file_extension": ".py",
   "mimetype": "text/x-python",
   "name": "python",
   "nbconvert_exporter": "python",
   "pygments_lexer": "ipython3",
   "version": "3.4.3"
  }
 },
 "nbformat": 4,
 "nbformat_minor": 0
}
